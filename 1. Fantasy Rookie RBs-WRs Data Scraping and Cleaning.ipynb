{
 "cells": [
  {
   "cell_type": "markdown",
   "id": "08e0ab8c",
   "metadata": {},
   "source": [
    "## NFL Fantasy Rookie Project Part 1 - Data Scraping and Cleaning"
   ]
  },
  {
   "cell_type": "markdown",
   "id": "505195ca",
   "metadata": {},
   "source": [
    "### Imports"
   ]
  },
  {
   "cell_type": "code",
   "execution_count": 1,
   "id": "cf1a90fa",
   "metadata": {},
   "outputs": [],
   "source": [
    "import pandas as pd\n",
    "import numpy as np\n",
    "import matplotlib.pyplot as plt\n",
    "import seaborn as sns\n",
    "%matplotlib inline"
   ]
  },
  {
   "cell_type": "code",
   "execution_count": 2,
   "id": "8f03aea9",
   "metadata": {},
   "outputs": [],
   "source": [
    "import requests\n",
    "from bs4 import BeautifulSoup"
   ]
  },
  {
   "cell_type": "code",
   "execution_count": 3,
   "id": "f4c23560",
   "metadata": {},
   "outputs": [],
   "source": [
    "years = list(range(2017,2023))"
   ]
  },
  {
   "cell_type": "markdown",
   "id": "02b95b35",
   "metadata": {},
   "source": [
    "### Scraping"
   ]
  },
  {
   "cell_type": "markdown",
   "id": "fe828c4c",
   "metadata": {},
   "source": [
    "We are focusing part 1 on pulling data for both rushing and receiving as I will be looking into running backs (Part 1) and receivers (Part 2)."
   ]
  },
  {
   "cell_type": "code",
   "execution_count": 4,
   "id": "6777c2f9",
   "metadata": {},
   "outputs": [],
   "source": [
    "receiving_url = 'https://www.pro-football-reference.com/years/{}/receiving.htm'\n",
    "rushing_url = 'https://www.pro-football-reference.com/years/{}/rushing.htm'"
   ]
  },
  {
   "cell_type": "code",
   "execution_count": 6,
   "id": "859660ba",
   "metadata": {},
   "outputs": [],
   "source": [
    "for year in years:\n",
    "    url = receiving_url.format(year)\n",
    "    data = requests.get(url)\n",
    "    \n",
    "    with open(\"C:/Users/kevin/Documents/receiving stats/{}.html\".format(year), \"w+\", encoding='utf-8') as f:\n",
    "        f.write(data.text)"
   ]
  },
  {
   "cell_type": "code",
   "execution_count": 7,
   "id": "f8883838",
   "metadata": {},
   "outputs": [],
   "source": [
    "for year in years:\n",
    "    url = rushing_url.format(year)\n",
    "    data = requests.get(url)\n",
    "    \n",
    "    with open(\"C:/Users/kevin/Documents/rushing stats/{}.html\".format(year), \"w+\", encoding='utf-8') as f:\n",
    "        f.write(data.text)"
   ]
  },
  {
   "cell_type": "code",
   "execution_count": 66,
   "id": "bb2c540a",
   "metadata": {},
   "outputs": [],
   "source": [
    "receiving = []\n",
    "for year in years:\n",
    "    with open(\"C:/Users/kevin/Documents/receiving stats/{}.html\".format(year), encoding='utf-8') as f:\n",
    "        page = f.read()\n",
    "    soup = BeautifulSoup(page, \"html.parser\")\n",
    "    regularstats = soup.find(id=\"receiving\")\n",
    "    regular = pd.read_html(str(regularstats))[0]\n",
    "    regular[\"Year\"] = year\n",
    "    \n",
    "    receiving.append(regular)"
   ]
  },
  {
   "cell_type": "code",
   "execution_count": 72,
   "id": "a4a57cef",
   "metadata": {},
   "outputs": [],
   "source": [
    "rushing = []\n",
    "for year in years:\n",
    "    with open(\"C:/Users/kevin/Documents/rushing stats/{}.html\".format(year), encoding='utf-8') as f:\n",
    "        page = f.read()\n",
    "    soup = BeautifulSoup(page, \"html.parser\")\n",
    "    regularstats = soup.find(id=\"rushing\")\n",
    "    regular = pd.read_html(str(regularstats))[0]\n",
    "    regular[\"Year\"] = year\n",
    "    \n",
    "    rushing.append(regular)"
   ]
  },
  {
   "cell_type": "code",
   "execution_count": 67,
   "id": "6882e214",
   "metadata": {},
   "outputs": [],
   "source": [
    "receiving = pd.concat(receiving)"
   ]
  },
  {
   "cell_type": "code",
   "execution_count": 73,
   "id": "00b8c46f",
   "metadata": {},
   "outputs": [],
   "source": [
    "rushing = pd.concat(rushing)"
   ]
  },
  {
   "cell_type": "code",
   "execution_count": 70,
   "id": "978c0cb8",
   "metadata": {},
   "outputs": [
    {
     "data": {
      "text/plain": [
       "Index(['Player', 'Tm', 'Age', 'Pos', 'G', 'GS', 'Tgt', 'Rec', 'Ctch%', 'Yds',\n",
       "       'Y/R', 'TD', '1D', 'Lng', 'Y/Tgt', 'R/G', 'Y/G', 'Fmb', 'Year'],\n",
       "      dtype='object')"
      ]
     },
     "execution_count": 70,
     "metadata": {},
     "output_type": "execute_result"
    }
   ],
   "source": [
    "receiving.columns"
   ]
  },
  {
   "cell_type": "code",
   "execution_count": 21,
   "id": "ffeae7db",
   "metadata": {},
   "outputs": [
    {
     "name": "stdout",
     "output_type": "stream",
     "text": [
      "<class 'pandas.core.frame.DataFrame'>\n",
      "Int64Index: 2168 entries, 0 to 377\n",
      "Data columns (total 16 columns):\n",
      " #   Column                        Non-Null Count  Dtype \n",
      "---  ------                        --------------  ----- \n",
      " 0   (Unnamed: 0_level_0, Rk)      2168 non-null   object\n",
      " 1   (Unnamed: 1_level_0, Player)  2168 non-null   object\n",
      " 2   (Unnamed: 2_level_0, Tm)      2168 non-null   object\n",
      " 3   (Unnamed: 3_level_0, Age)     2168 non-null   object\n",
      " 4   (Unnamed: 4_level_0, Pos)     2159 non-null   object\n",
      " 5   (Games, G)                    2168 non-null   object\n",
      " 6   (Games, GS)                   2168 non-null   object\n",
      " 7   (Rushing, Att)                2168 non-null   object\n",
      " 8   (Rushing, Yds)                2168 non-null   object\n",
      " 9   (Rushing, TD)                 2168 non-null   object\n",
      " 10  (Rushing, 1D)                 2168 non-null   object\n",
      " 11  (Rushing, Lng)                2168 non-null   object\n",
      " 12  (Rushing, Y/A)                2168 non-null   object\n",
      " 13  (Rushing, Y/G)                2168 non-null   object\n",
      " 14  (Unnamed: 14_level_0, Fmb)    2168 non-null   object\n",
      " 15  (Year, )                      2168 non-null   int64 \n",
      "dtypes: int64(1), object(15)\n",
      "memory usage: 287.9+ KB\n"
     ]
    }
   ],
   "source": [
    "rushing.info()"
   ]
  },
  {
   "cell_type": "code",
   "execution_count": 74,
   "id": "94270099",
   "metadata": {},
   "outputs": [],
   "source": [
    "columns = ['Rk', 'Player', 'Tm', 'Age', 'Pos', 'G', 'GS', 'Rush_Att', 'Rush_Yds', 'Rush_TD', 'Rush_1D',\n",
    "       'Rush_Lng', 'Rush_Y/A', 'Rush_Y/G', 'Rush_Fmb', 'Year']"
   ]
  },
  {
   "cell_type": "code",
   "execution_count": 75,
   "id": "d216e013",
   "metadata": {},
   "outputs": [],
   "source": [
    "rushing.columns = columns"
   ]
  },
  {
   "cell_type": "markdown",
   "id": "4f7340aa",
   "metadata": {},
   "source": [
    "### Data Cleaning and Manipulation"
   ]
  },
  {
   "cell_type": "markdown",
   "id": "5d83b955",
   "metadata": {},
   "source": [
    "The sample from the dataframe shows that we will need to do some cleaning. For example, some players' names has * or +, which would make it impossible to look up stats later by name."
   ]
  },
  {
   "cell_type": "code",
   "execution_count": 76,
   "id": "142a6f85",
   "metadata": {},
   "outputs": [
    {
     "data": {
      "text/html": [
       "<div>\n",
       "<style scoped>\n",
       "    .dataframe tbody tr th:only-of-type {\n",
       "        vertical-align: middle;\n",
       "    }\n",
       "\n",
       "    .dataframe tbody tr th {\n",
       "        vertical-align: top;\n",
       "    }\n",
       "\n",
       "    .dataframe thead th {\n",
       "        text-align: right;\n",
       "    }\n",
       "</style>\n",
       "<table border=\"1\" class=\"dataframe\">\n",
       "  <thead>\n",
       "    <tr style=\"text-align: right;\">\n",
       "      <th></th>\n",
       "      <th>Rk</th>\n",
       "      <th>Player</th>\n",
       "      <th>Tm</th>\n",
       "      <th>Age</th>\n",
       "      <th>Pos</th>\n",
       "      <th>G</th>\n",
       "      <th>GS</th>\n",
       "      <th>Rush_Att</th>\n",
       "      <th>Rush_Yds</th>\n",
       "      <th>Rush_TD</th>\n",
       "      <th>Rush_1D</th>\n",
       "      <th>Rush_Lng</th>\n",
       "      <th>Rush_Y/A</th>\n",
       "      <th>Rush_Y/G</th>\n",
       "      <th>Rush_Fmb</th>\n",
       "      <th>Year</th>\n",
       "    </tr>\n",
       "  </thead>\n",
       "  <tbody>\n",
       "    <tr>\n",
       "      <th>0</th>\n",
       "      <td>1</td>\n",
       "      <td>Le'Veon Bell*+</td>\n",
       "      <td>PIT</td>\n",
       "      <td>25</td>\n",
       "      <td>RB</td>\n",
       "      <td>15</td>\n",
       "      <td>15</td>\n",
       "      <td>321</td>\n",
       "      <td>1291</td>\n",
       "      <td>9</td>\n",
       "      <td>71</td>\n",
       "      <td>27</td>\n",
       "      <td>4.0</td>\n",
       "      <td>86.1</td>\n",
       "      <td>3</td>\n",
       "      <td>2017</td>\n",
       "    </tr>\n",
       "    <tr>\n",
       "      <th>1</th>\n",
       "      <td>2</td>\n",
       "      <td>LeSean McCoy*</td>\n",
       "      <td>BUF</td>\n",
       "      <td>29</td>\n",
       "      <td>RB</td>\n",
       "      <td>16</td>\n",
       "      <td>16</td>\n",
       "      <td>287</td>\n",
       "      <td>1138</td>\n",
       "      <td>6</td>\n",
       "      <td>57</td>\n",
       "      <td>48</td>\n",
       "      <td>4.0</td>\n",
       "      <td>71.1</td>\n",
       "      <td>3</td>\n",
       "      <td>2017</td>\n",
       "    </tr>\n",
       "    <tr>\n",
       "      <th>2</th>\n",
       "      <td>3</td>\n",
       "      <td>Melvin Gordon</td>\n",
       "      <td>LAC</td>\n",
       "      <td>24</td>\n",
       "      <td>RB</td>\n",
       "      <td>16</td>\n",
       "      <td>16</td>\n",
       "      <td>284</td>\n",
       "      <td>1105</td>\n",
       "      <td>8</td>\n",
       "      <td>61</td>\n",
       "      <td>87</td>\n",
       "      <td>3.9</td>\n",
       "      <td>69.1</td>\n",
       "      <td>1</td>\n",
       "      <td>2017</td>\n",
       "    </tr>\n",
       "    <tr>\n",
       "      <th>3</th>\n",
       "      <td>4</td>\n",
       "      <td>Todd Gurley*+</td>\n",
       "      <td>LAR</td>\n",
       "      <td>23</td>\n",
       "      <td>RB</td>\n",
       "      <td>15</td>\n",
       "      <td>15</td>\n",
       "      <td>279</td>\n",
       "      <td>1305</td>\n",
       "      <td>13</td>\n",
       "      <td>69</td>\n",
       "      <td>57</td>\n",
       "      <td>4.7</td>\n",
       "      <td>87.0</td>\n",
       "      <td>5</td>\n",
       "      <td>2017</td>\n",
       "    </tr>\n",
       "    <tr>\n",
       "      <th>4</th>\n",
       "      <td>5</td>\n",
       "      <td>Jordan Howard</td>\n",
       "      <td>CHI</td>\n",
       "      <td>23</td>\n",
       "      <td>RB</td>\n",
       "      <td>16</td>\n",
       "      <td>16</td>\n",
       "      <td>276</td>\n",
       "      <td>1122</td>\n",
       "      <td>9</td>\n",
       "      <td>65</td>\n",
       "      <td>53</td>\n",
       "      <td>4.1</td>\n",
       "      <td>70.1</td>\n",
       "      <td>1</td>\n",
       "      <td>2017</td>\n",
       "    </tr>\n",
       "  </tbody>\n",
       "</table>\n",
       "</div>"
      ],
      "text/plain": [
       "  Rk          Player   Tm Age Pos   G  GS Rush_Att Rush_Yds Rush_TD Rush_1D  \\\n",
       "0  1  Le'Veon Bell*+  PIT  25  RB  15  15      321     1291       9      71   \n",
       "1  2   LeSean McCoy*  BUF  29  RB  16  16      287     1138       6      57   \n",
       "2  3   Melvin Gordon  LAC  24  RB  16  16      284     1105       8      61   \n",
       "3  4   Todd Gurley*+  LAR  23  RB  15  15      279     1305      13      69   \n",
       "4  5   Jordan Howard  CHI  23  RB  16  16      276     1122       9      65   \n",
       "\n",
       "  Rush_Lng Rush_Y/A Rush_Y/G Rush_Fmb  Year  \n",
       "0       27      4.0     86.1        3  2017  \n",
       "1       48      4.0     71.1        3  2017  \n",
       "2       87      3.9     69.1        1  2017  \n",
       "3       57      4.7     87.0        5  2017  \n",
       "4       53      4.1     70.1        1  2017  "
      ]
     },
     "execution_count": 76,
     "metadata": {},
     "output_type": "execute_result"
    }
   ],
   "source": [
    "rushing.head()"
   ]
  },
  {
   "cell_type": "code",
   "execution_count": 79,
   "id": "a9cbd4d9",
   "metadata": {},
   "outputs": [
    {
     "data": {
      "text/plain": [
       "Index(['Rk', 'Player', 'Tm', 'Age', 'Pos', 'G', 'GS', 'Rush_Att', 'Rush_Yds',\n",
       "       'Rush_TD', 'Rush_1D', 'Rush_Lng', 'Rush_Y/A', 'Rush_Y/G', 'Rush_Fmb',\n",
       "       'Year'],\n",
       "      dtype='object')"
      ]
     },
     "execution_count": 79,
     "metadata": {},
     "output_type": "execute_result"
    }
   ],
   "source": [
    "rushing.columns"
   ]
  },
  {
   "cell_type": "code",
   "execution_count": 81,
   "id": "bb6bd1b5",
   "metadata": {},
   "outputs": [],
   "source": [
    "receiving[\"Player\"] = receiving[\"Player\"].str.replace(\"*\",\"\", regex=False)\n",
    "receiving[\"Player\"] = receiving[\"Player\"].str.replace(\"+\",\"\", regex=False)\n",
    "rushing[\"Player\"] = rushing[\"Player\"].str.replace(\"*\",\"\", regex=False)\n",
    "rushing[\"Player\"] = rushing[\"Player\"].str.replace(\"+\",\"\", regex=False)"
   ]
  },
  {
   "cell_type": "code",
   "execution_count": 82,
   "id": "6e46ca4d",
   "metadata": {},
   "outputs": [],
   "source": [
    "def single_team(df):\n",
    "    if df.shape[0]==1:\n",
    "        return df\n",
    "    else:\n",
    "        row = df[df[\"Tm\"]==\"TOT\"]\n",
    "        row[\"Tm\"] = df.iloc[-1,:][\"Tm\"]\n",
    "        return row\n",
    "\n",
    "receiving = receiving.groupby([\"Player\", \"Year\"]).apply(single_team)\n",
    "rushing = rushing.groupby([\"Player\", \"Year\"]).apply(single_team)"
   ]
  },
  {
   "cell_type": "code",
   "execution_count": 83,
   "id": "8bbf2edb",
   "metadata": {},
   "outputs": [],
   "source": [
    "receiving.index = receiving.index.droplevel()\n",
    "receiving.index = receiving.index.droplevel()\n",
    "\n",
    "rushing.index = rushing.index.droplevel()\n",
    "rushing.index = rushing.index.droplevel()"
   ]
  },
  {
   "cell_type": "code",
   "execution_count": 84,
   "id": "d42ed828",
   "metadata": {},
   "outputs": [],
   "source": [
    "receiving.to_csv('C:/Users/kevin/Downloads/All Receiving Stats 2017-2022.csv', index=False)\n",
    "rushing.to_csv('C:/Users/kevin/Downloads/All Rushing Stats 2017-2022.csv', index=False)"
   ]
  },
  {
   "cell_type": "markdown",
   "id": "b3820fd2",
   "metadata": {},
   "source": [
    "The cleaning is complete. I am now creating duplicates of these statistical dataframes because a part of my model will include the stats from the rookie's best teammate. Because of that I will be pulling from the rushing and receiving dataframes twice: once for the rookie's stats and once for the teammate's stats."
   ]
  },
  {
   "cell_type": "code",
   "execution_count": 85,
   "id": "66a1a948",
   "metadata": {},
   "outputs": [],
   "source": [
    "teammate_receiving = receiving.copy()\n",
    "teammate_rushing = rushing.copy()"
   ]
  },
  {
   "cell_type": "code",
   "execution_count": 86,
   "id": "70cd6332",
   "metadata": {},
   "outputs": [
    {
     "data": {
      "text/plain": [
       "Index(['Player', 'Tm', 'Age', 'Pos', 'G', 'GS', 'Tgt', 'Rec', 'Ctch%', 'Yds',\n",
       "       'Y/R', 'TD', '1D', 'Lng', 'Y/Tgt', 'R/G', 'Y/G', 'Fmb', 'Year'],\n",
       "      dtype='object')"
      ]
     },
     "execution_count": 86,
     "metadata": {},
     "output_type": "execute_result"
    }
   ],
   "source": [
    "receiving.columns"
   ]
  },
  {
   "cell_type": "code",
   "execution_count": 87,
   "id": "cda72466",
   "metadata": {},
   "outputs": [
    {
     "data": {
      "text/plain": [
       "Index(['Player', 'Tm', 'Age', 'Pos', 'G', 'GS', 'Rush_Att', 'Rush_Yds',\n",
       "       'Rush_TD', 'Rush_1D', 'Rush_Lng', 'Rush_Y/A', 'Rush_Y/G', 'Rush_Fmb',\n",
       "       'Year'],\n",
       "      dtype='object')"
      ]
     },
     "execution_count": 87,
     "metadata": {},
     "output_type": "execute_result"
    }
   ],
   "source": [
    "rushing.columns"
   ]
  },
  {
   "cell_type": "code",
   "execution_count": 88,
   "id": "50da1c1b",
   "metadata": {},
   "outputs": [],
   "source": [
    "teammate_receiving.columns = 'Teammate ' + teammate_receiving.columns\n",
    "teammate_rushing.columns = 'Teammate ' + teammate_rushing.columns"
   ]
  },
  {
   "cell_type": "code",
   "execution_count": 89,
   "id": "e11e1c96",
   "metadata": {},
   "outputs": [
    {
     "data": {
      "text/plain": [
       "Index(['Teammate Player', 'Teammate Tm', 'Teammate Age', 'Teammate Pos',\n",
       "       'Teammate G', 'Teammate GS', 'Teammate Tgt', 'Teammate Rec',\n",
       "       'Teammate Ctch%', 'Teammate Yds', 'Teammate Y/R', 'Teammate TD',\n",
       "       'Teammate 1D', 'Teammate Lng', 'Teammate Y/Tgt', 'Teammate R/G',\n",
       "       'Teammate Y/G', 'Teammate Fmb', 'Teammate Year'],\n",
       "      dtype='object')"
      ]
     },
     "execution_count": 89,
     "metadata": {},
     "output_type": "execute_result"
    }
   ],
   "source": [
    "teammate_receiving.columns"
   ]
  },
  {
   "cell_type": "code",
   "execution_count": 91,
   "id": "93661b5d",
   "metadata": {},
   "outputs": [],
   "source": [
    "teammate_receiving.rename(columns={'Teammate Player': 'Teammate'}, inplace=True)\n",
    "teammate_rushing.rename(columns={'Teammate Player': 'Teammate'}, inplace=True)"
   ]
  },
  {
   "cell_type": "code",
   "execution_count": 93,
   "id": "cbfebd9e",
   "metadata": {},
   "outputs": [],
   "source": [
    "teammate_receiving.to_csv('C:/Users/kevin/Downloads/Teammate Receiving Stats 2017-2022.csv', index=False)\n",
    "teammate_rushing.to_csv('C:/Users/kevin/Downloads/Teammate Rushing Stats 2017-2022.csv', index=False)"
   ]
  },
  {
   "cell_type": "markdown",
   "id": "189891e3",
   "metadata": {},
   "source": [
    "The below code is a list of rookie running backs and receivers drafted since 2017. I had ChatGPT fill in most of the data and I filled in where necessary. The fields here that include the rookie's height, weight, draft pick. These will serve as predictors in our model in addition to the teammate's previous year stats once we merge those dataframes. The stats from the rookie will serve as the test data -- it will only be used to calculate the fantasy points they eventually achieved."
   ]
  },
  {
   "cell_type": "code",
   "execution_count": 94,
   "id": "28f20e6c",
   "metadata": {},
   "outputs": [],
   "source": [
    "rookie_wr = pd.read_csv(\"C:/Users/kevin/Downloads/NFL Rookie Wide Receivers 2017-2023.csv\")\n",
    "rookie_rb = pd.read_csv(\"C:/Users/kevin/Downloads/NFL Rookie Running Backs 2017-2023.csv\")"
   ]
  },
  {
   "cell_type": "code",
   "execution_count": 95,
   "id": "6f6249ba",
   "metadata": {},
   "outputs": [],
   "source": [
    "rookie_wr.rename(columns={'Name': 'Player'}, inplace=True)\n",
    "rookie_rb.rename(columns={'Name': 'Player'}, inplace=True)"
   ]
  },
  {
   "cell_type": "code",
   "execution_count": 96,
   "id": "3f1b117a",
   "metadata": {},
   "outputs": [
    {
     "data": {
      "text/plain": [
       "Index(['Player', 'Tm', 'Age', 'Pos', 'G', 'GS', 'Tgt', 'Rec', 'Ctch%', 'Yds',\n",
       "       'Y/R', 'TD', '1D', 'Lng', 'Y/Tgt', 'R/G', 'Y/G', 'Fmb', 'Year'],\n",
       "      dtype='object')"
      ]
     },
     "execution_count": 96,
     "metadata": {},
     "output_type": "execute_result"
    }
   ],
   "source": [
    "receiving.columns"
   ]
  },
  {
   "cell_type": "code",
   "execution_count": 97,
   "id": "c2fcf150",
   "metadata": {},
   "outputs": [],
   "source": [
    "temp = pd.merge(rookie_wr, receiving, on=['Player', 'Year'], how='left')"
   ]
  },
  {
   "cell_type": "code",
   "execution_count": 102,
   "id": "0c3c9fde",
   "metadata": {},
   "outputs": [],
   "source": [
    "final_wr = pd.merge(temp, teammate_receiving, on=['Teammate', 'Teammate Year'], how='left')"
   ]
  },
  {
   "cell_type": "code",
   "execution_count": 112,
   "id": "7a84bca5",
   "metadata": {},
   "outputs": [],
   "source": [
    "temp = pd.merge(rookie_rb, rushing, on=['Player', 'Year'], how='left')"
   ]
  },
  {
   "cell_type": "code",
   "execution_count": 113,
   "id": "910ccbb9",
   "metadata": {},
   "outputs": [],
   "source": [
    "final_rb = pd.merge(temp, teammate_rushing, on=['Teammate', 'Teammate Year'], how='left')"
   ]
  },
  {
   "cell_type": "markdown",
   "id": "669dd408",
   "metadata": {},
   "source": [
    "Example of all the columns we have below."
   ]
  },
  {
   "cell_type": "code",
   "execution_count": 117,
   "id": "90882f68",
   "metadata": {},
   "outputs": [
    {
     "data": {
      "text/plain": [
       "Index(['Player', 'Team', 'Year', 'Height', 'Weight', '40 Time', 'Pick',\n",
       "       'Teammate', 'Teammate Year', 'Tm', 'Age', 'Pos', 'G', 'GS', 'Tgt',\n",
       "       'Rec', 'Ctch%', 'Yds', 'Y/R', 'TD', '1D', 'Lng', 'Y/Tgt', 'R/G', 'Y/G',\n",
       "       'Fmb', 'Teammate Tm', 'Teammate Age', 'Teammate Pos', 'Teammate G',\n",
       "       'Teammate GS', 'Teammate Tgt', 'Teammate Rec', 'Teammate Ctch%',\n",
       "       'Teammate Yds', 'Teammate Y/R', 'Teammate TD', 'Teammate 1D',\n",
       "       'Teammate Lng', 'Teammate Y/Tgt', 'Teammate R/G', 'Teammate Y/G',\n",
       "       'Teammate Fmb'],\n",
       "      dtype='object')"
      ]
     },
     "execution_count": 117,
     "metadata": {},
     "output_type": "execute_result"
    }
   ],
   "source": [
    "final_wr.columns"
   ]
  },
  {
   "cell_type": "code",
   "execution_count": 121,
   "id": "0c3fd8f5",
   "metadata": {},
   "outputs": [],
   "source": [
    "# Convert 'Age' and 'Teammate Age' columns to numeric type\n",
    "final_wr['Age'] = pd.to_numeric(final_wr['Age'], errors='coerce')\n",
    "final_wr['Teammate Age'] = pd.to_numeric(final_wr['Teammate Age'], errors='coerce')\n",
    "\n",
    "# Calculate the average age (excluding null values)\n",
    "average_rookiewr_age = final_wr['Age'].mean()\n",
    "average_teammatewr_age = final_wr['Teammate Age'].mean()\n",
    "\n",
    "# Fill null values in 'Age' and 'Teammate Age' with their respective average ages\n",
    "final_wr['Age'].fillna(average_rookiewr_age, inplace=True)\n",
    "final_wr['Teammate Age'].fillna(average_teammatewr_age, inplace=True)"
   ]
  },
  {
   "cell_type": "code",
   "execution_count": 122,
   "id": "722e6f3b",
   "metadata": {},
   "outputs": [],
   "source": [
    "# Convert 'Age' and 'Teammate Age' columns to numeric type\n",
    "final_rb['Age'] = pd.to_numeric(final_rb['Age'], errors='coerce')\n",
    "final_rb['Teammate Age'] = pd.to_numeric(final_rb['Teammate Age'], errors='coerce')\n",
    "\n",
    "# Calculate the average age (excluding null values)\n",
    "average_rookierb_age = final_rb['Age'].mean()\n",
    "average_teammaterb_age = final_rb['Teammate Age'].mean()\n",
    "\n",
    "# Fill null values in 'Age' and 'Teammate Age' with their respective average ages\n",
    "final_rb['Age'].fillna(average_rookierb_age, inplace=True)\n",
    "final_rb['Teammate Age'].fillna(average_teammaterb_age, inplace=True)"
   ]
  },
  {
   "cell_type": "code",
   "execution_count": 123,
   "id": "fb602788",
   "metadata": {},
   "outputs": [
    {
     "name": "stdout",
     "output_type": "stream",
     "text": [
      "<class 'pandas.core.frame.DataFrame'>\n",
      "Int64Index: 221 entries, 0 to 220\n",
      "Data columns (total 43 columns):\n",
      " #   Column          Non-Null Count  Dtype  \n",
      "---  ------          --------------  -----  \n",
      " 0   Player          221 non-null    object \n",
      " 1   Team            221 non-null    object \n",
      " 2   Year            221 non-null    int64  \n",
      " 3   Height          221 non-null    int64  \n",
      " 4   Weight          221 non-null    int64  \n",
      " 5   40 Time         221 non-null    float64\n",
      " 6   Pick            221 non-null    int64  \n",
      " 7   Teammate        221 non-null    object \n",
      " 8   Teammate Year   221 non-null    int64  \n",
      " 9   Tm              148 non-null    object \n",
      " 10  Age             221 non-null    float64\n",
      " 11  Pos             148 non-null    object \n",
      " 12  G               148 non-null    object \n",
      " 13  GS              148 non-null    object \n",
      " 14  Tgt             148 non-null    object \n",
      " 15  Rec             148 non-null    object \n",
      " 16  Ctch%           148 non-null    object \n",
      " 17  Yds             148 non-null    object \n",
      " 18  Y/R             145 non-null    object \n",
      " 19  TD              148 non-null    object \n",
      " 20  1D              148 non-null    object \n",
      " 21  Lng             148 non-null    object \n",
      " 22  Y/Tgt           148 non-null    object \n",
      " 23  R/G             148 non-null    object \n",
      " 24  Y/G             148 non-null    object \n",
      " 25  Fmb             147 non-null    object \n",
      " 26  Teammate Tm     173 non-null    object \n",
      " 27  Teammate Age    221 non-null    float64\n",
      " 28  Teammate Pos    173 non-null    object \n",
      " 29  Teammate G      173 non-null    object \n",
      " 30  Teammate GS     173 non-null    object \n",
      " 31  Teammate Tgt    173 non-null    object \n",
      " 32  Teammate Rec    173 non-null    object \n",
      " 33  Teammate Ctch%  173 non-null    object \n",
      " 34  Teammate Yds    173 non-null    object \n",
      " 35  Teammate Y/R    170 non-null    object \n",
      " 36  Teammate TD     173 non-null    object \n",
      " 37  Teammate 1D     173 non-null    object \n",
      " 38  Teammate Lng    173 non-null    object \n",
      " 39  Teammate Y/Tgt  173 non-null    object \n",
      " 40  Teammate R/G    173 non-null    object \n",
      " 41  Teammate Y/G    173 non-null    object \n",
      " 42  Teammate Fmb    170 non-null    object \n",
      "dtypes: float64(3), int64(5), object(35)\n",
      "memory usage: 76.0+ KB\n"
     ]
    }
   ],
   "source": [
    "final_wr.info()"
   ]
  },
  {
   "cell_type": "code",
   "execution_count": 124,
   "id": "2dd63f1b",
   "metadata": {},
   "outputs": [],
   "source": [
    "final_wr = final_wr.apply(pd.to_numeric, errors='ignore')\n",
    "final_rb = final_rb.apply(pd.to_numeric, errors='ignore')"
   ]
  },
  {
   "cell_type": "code",
   "execution_count": 128,
   "id": "7eb4568c",
   "metadata": {},
   "outputs": [
    {
     "data": {
      "text/plain": [
       "Index(['Player', 'Team', 'Year', 'Height', 'Weight', '40 Time', 'Pick',\n",
       "       'Teammate', 'Teammate Year', 'Tm', 'Age', 'Pos', 'G', 'GS', 'Tgt',\n",
       "       'Rec', 'Ctch%', 'Yds', 'Y/R', 'TD', '1D', 'Lng', 'Y/Tgt', 'R/G', 'Y/G',\n",
       "       'Fmb', 'Teammate Tm', 'Teammate Age', 'Teammate Pos', 'Teammate G',\n",
       "       'Teammate GS', 'Teammate Tgt', 'Teammate Rec', 'Teammate Ctch%',\n",
       "       'Teammate Yds', 'Teammate Y/R', 'Teammate TD', 'Teammate 1D',\n",
       "       'Teammate Lng', 'Teammate Y/Tgt', 'Teammate R/G', 'Teammate Y/G',\n",
       "       'Teammate Fmb'],\n",
       "      dtype='object')"
      ]
     },
     "execution_count": 128,
     "metadata": {},
     "output_type": "execute_result"
    }
   ],
   "source": [
    "final_wr.columns"
   ]
  },
  {
   "cell_type": "code",
   "execution_count": 130,
   "id": "43fbc54b",
   "metadata": {},
   "outputs": [],
   "source": [
    "final_wr = final_wr.drop(['Ctch%','Teammate Ctch%'], axis=1)"
   ]
  },
  {
   "cell_type": "markdown",
   "id": "2a2b5574",
   "metadata": {},
   "source": [
    "The 2023 rookies will not have any end of season stats so we will need to fill them in with zeroes. They will be the test set as we predict their fantasy scores."
   ]
  },
  {
   "cell_type": "code",
   "execution_count": 133,
   "id": "04042345",
   "metadata": {},
   "outputs": [
    {
     "data": {
      "text/html": [
       "<div>\n",
       "<style scoped>\n",
       "    .dataframe tbody tr th:only-of-type {\n",
       "        vertical-align: middle;\n",
       "    }\n",
       "\n",
       "    .dataframe tbody tr th {\n",
       "        vertical-align: top;\n",
       "    }\n",
       "\n",
       "    .dataframe thead th {\n",
       "        text-align: right;\n",
       "    }\n",
       "</style>\n",
       "<table border=\"1\" class=\"dataframe\">\n",
       "  <thead>\n",
       "    <tr style=\"text-align: right;\">\n",
       "      <th></th>\n",
       "      <th>Player</th>\n",
       "      <th>G</th>\n",
       "    </tr>\n",
       "  </thead>\n",
       "  <tbody>\n",
       "    <tr>\n",
       "      <th>0</th>\n",
       "      <td>Jaxon Smith-Njigba</td>\n",
       "      <td>NaN</td>\n",
       "    </tr>\n",
       "    <tr>\n",
       "      <th>1</th>\n",
       "      <td>Quentin Johnston</td>\n",
       "      <td>NaN</td>\n",
       "    </tr>\n",
       "    <tr>\n",
       "      <th>2</th>\n",
       "      <td>Zay Flowers</td>\n",
       "      <td>NaN</td>\n",
       "    </tr>\n",
       "    <tr>\n",
       "      <th>3</th>\n",
       "      <td>Jordan Addison</td>\n",
       "      <td>NaN</td>\n",
       "    </tr>\n",
       "    <tr>\n",
       "      <th>4</th>\n",
       "      <td>Jonathan Mingo</td>\n",
       "      <td>NaN</td>\n",
       "    </tr>\n",
       "  </tbody>\n",
       "</table>\n",
       "</div>"
      ],
      "text/plain": [
       "               Player   G\n",
       "0  Jaxon Smith-Njigba NaN\n",
       "1    Quentin Johnston NaN\n",
       "2         Zay Flowers NaN\n",
       "3      Jordan Addison NaN\n",
       "4      Jonathan Mingo NaN"
      ]
     },
     "execution_count": 133,
     "metadata": {},
     "output_type": "execute_result"
    }
   ],
   "source": [
    "final_wr[['Player', 'G']].head()"
   ]
  },
  {
   "cell_type": "code",
   "execution_count": 134,
   "id": "a6f262f8",
   "metadata": {},
   "outputs": [],
   "source": [
    "final_wr.fillna(0, inplace=True)"
   ]
  },
  {
   "cell_type": "code",
   "execution_count": 135,
   "id": "a6fa2b09",
   "metadata": {},
   "outputs": [
    {
     "data": {
      "text/html": [
       "<div>\n",
       "<style scoped>\n",
       "    .dataframe tbody tr th:only-of-type {\n",
       "        vertical-align: middle;\n",
       "    }\n",
       "\n",
       "    .dataframe tbody tr th {\n",
       "        vertical-align: top;\n",
       "    }\n",
       "\n",
       "    .dataframe thead th {\n",
       "        text-align: right;\n",
       "    }\n",
       "</style>\n",
       "<table border=\"1\" class=\"dataframe\">\n",
       "  <thead>\n",
       "    <tr style=\"text-align: right;\">\n",
       "      <th></th>\n",
       "      <th>Player</th>\n",
       "      <th>G</th>\n",
       "    </tr>\n",
       "  </thead>\n",
       "  <tbody>\n",
       "    <tr>\n",
       "      <th>0</th>\n",
       "      <td>Jaxon Smith-Njigba</td>\n",
       "      <td>0.0</td>\n",
       "    </tr>\n",
       "    <tr>\n",
       "      <th>1</th>\n",
       "      <td>Quentin Johnston</td>\n",
       "      <td>0.0</td>\n",
       "    </tr>\n",
       "    <tr>\n",
       "      <th>2</th>\n",
       "      <td>Zay Flowers</td>\n",
       "      <td>0.0</td>\n",
       "    </tr>\n",
       "    <tr>\n",
       "      <th>3</th>\n",
       "      <td>Jordan Addison</td>\n",
       "      <td>0.0</td>\n",
       "    </tr>\n",
       "    <tr>\n",
       "      <th>4</th>\n",
       "      <td>Jonathan Mingo</td>\n",
       "      <td>0.0</td>\n",
       "    </tr>\n",
       "  </tbody>\n",
       "</table>\n",
       "</div>"
      ],
      "text/plain": [
       "               Player    G\n",
       "0  Jaxon Smith-Njigba  0.0\n",
       "1    Quentin Johnston  0.0\n",
       "2         Zay Flowers  0.0\n",
       "3      Jordan Addison  0.0\n",
       "4      Jonathan Mingo  0.0"
      ]
     },
     "execution_count": 135,
     "metadata": {},
     "output_type": "execute_result"
    }
   ],
   "source": [
    "final_wr[['Player', 'G']].head()"
   ]
  },
  {
   "cell_type": "code",
   "execution_count": 136,
   "id": "313258b9",
   "metadata": {},
   "outputs": [
    {
     "data": {
      "text/html": [
       "<div>\n",
       "<style scoped>\n",
       "    .dataframe tbody tr th:only-of-type {\n",
       "        vertical-align: middle;\n",
       "    }\n",
       "\n",
       "    .dataframe tbody tr th {\n",
       "        vertical-align: top;\n",
       "    }\n",
       "\n",
       "    .dataframe thead th {\n",
       "        text-align: right;\n",
       "    }\n",
       "</style>\n",
       "<table border=\"1\" class=\"dataframe\">\n",
       "  <thead>\n",
       "    <tr style=\"text-align: right;\">\n",
       "      <th></th>\n",
       "      <th>Player</th>\n",
       "      <th>G</th>\n",
       "    </tr>\n",
       "  </thead>\n",
       "  <tbody>\n",
       "    <tr>\n",
       "      <th>0</th>\n",
       "      <td>Bijan Robinson</td>\n",
       "      <td>NaN</td>\n",
       "    </tr>\n",
       "    <tr>\n",
       "      <th>1</th>\n",
       "      <td>Jahmyr Gibbs</td>\n",
       "      <td>NaN</td>\n",
       "    </tr>\n",
       "    <tr>\n",
       "      <th>2</th>\n",
       "      <td>Zach Charbonnet</td>\n",
       "      <td>NaN</td>\n",
       "    </tr>\n",
       "    <tr>\n",
       "      <th>3</th>\n",
       "      <td>Kendre Miller</td>\n",
       "      <td>NaN</td>\n",
       "    </tr>\n",
       "    <tr>\n",
       "      <th>4</th>\n",
       "      <td>Tyjae Sparks</td>\n",
       "      <td>NaN</td>\n",
       "    </tr>\n",
       "  </tbody>\n",
       "</table>\n",
       "</div>"
      ],
      "text/plain": [
       "            Player   G\n",
       "0   Bijan Robinson NaN\n",
       "1     Jahmyr Gibbs NaN\n",
       "2  Zach Charbonnet NaN\n",
       "3    Kendre Miller NaN\n",
       "4     Tyjae Sparks NaN"
      ]
     },
     "execution_count": 136,
     "metadata": {},
     "output_type": "execute_result"
    }
   ],
   "source": [
    "final_rb[['Player', 'G']].head()"
   ]
  },
  {
   "cell_type": "code",
   "execution_count": 137,
   "id": "f2e29ad4",
   "metadata": {},
   "outputs": [],
   "source": [
    "final_rb.fillna(0, inplace=True)"
   ]
  },
  {
   "cell_type": "code",
   "execution_count": 138,
   "id": "15cb8ec8",
   "metadata": {},
   "outputs": [
    {
     "data": {
      "text/html": [
       "<div>\n",
       "<style scoped>\n",
       "    .dataframe tbody tr th:only-of-type {\n",
       "        vertical-align: middle;\n",
       "    }\n",
       "\n",
       "    .dataframe tbody tr th {\n",
       "        vertical-align: top;\n",
       "    }\n",
       "\n",
       "    .dataframe thead th {\n",
       "        text-align: right;\n",
       "    }\n",
       "</style>\n",
       "<table border=\"1\" class=\"dataframe\">\n",
       "  <thead>\n",
       "    <tr style=\"text-align: right;\">\n",
       "      <th></th>\n",
       "      <th>Player</th>\n",
       "      <th>G</th>\n",
       "    </tr>\n",
       "  </thead>\n",
       "  <tbody>\n",
       "    <tr>\n",
       "      <th>0</th>\n",
       "      <td>Bijan Robinson</td>\n",
       "      <td>0.0</td>\n",
       "    </tr>\n",
       "    <tr>\n",
       "      <th>1</th>\n",
       "      <td>Jahmyr Gibbs</td>\n",
       "      <td>0.0</td>\n",
       "    </tr>\n",
       "    <tr>\n",
       "      <th>2</th>\n",
       "      <td>Zach Charbonnet</td>\n",
       "      <td>0.0</td>\n",
       "    </tr>\n",
       "    <tr>\n",
       "      <th>3</th>\n",
       "      <td>Kendre Miller</td>\n",
       "      <td>0.0</td>\n",
       "    </tr>\n",
       "    <tr>\n",
       "      <th>4</th>\n",
       "      <td>Tyjae Sparks</td>\n",
       "      <td>0.0</td>\n",
       "    </tr>\n",
       "  </tbody>\n",
       "</table>\n",
       "</div>"
      ],
      "text/plain": [
       "            Player    G\n",
       "0   Bijan Robinson  0.0\n",
       "1     Jahmyr Gibbs  0.0\n",
       "2  Zach Charbonnet  0.0\n",
       "3    Kendre Miller  0.0\n",
       "4     Tyjae Sparks  0.0"
      ]
     },
     "execution_count": 138,
     "metadata": {},
     "output_type": "execute_result"
    }
   ],
   "source": [
    "final_rb[['Player', 'G']].head()"
   ]
  },
  {
   "cell_type": "code",
   "execution_count": 7,
   "id": "20c81b32",
   "metadata": {},
   "outputs": [],
   "source": [
    "final_rb = pd.merge(final_rb, receiving, on=['Player', 'Year'], how='left')"
   ]
  },
  {
   "cell_type": "code",
   "execution_count": 10,
   "id": "72bc0a9b",
   "metadata": {},
   "outputs": [],
   "source": [
    "final_rb = final_rb.drop(['Tm_y', 'Age_y', 'Pos_y', 'G_y', 'GS_y', 'Ctch%'], axis=1)"
   ]
  },
  {
   "cell_type": "code",
   "execution_count": 14,
   "id": "af0d57bd",
   "metadata": {},
   "outputs": [],
   "source": [
    "final_rb.fillna(0, inplace=True)"
   ]
  },
  {
   "cell_type": "markdown",
   "id": "b3a47813",
   "metadata": {},
   "source": [
    "For running backs, they have a fumble column from the rushing data set and a fumble column from the receiving data set so I am combining them for simplicity. I do not have this issue with receivers because I did not pull in rushing data for them. While rushing data does add to a receiver's fantasy points, it has a such a small impact on PPR that I have kept it out for simplicity."
   ]
  },
  {
   "cell_type": "code",
   "execution_count": 16,
   "id": "0f4a42bd",
   "metadata": {},
   "outputs": [],
   "source": [
    "final_rb['Fumbles'] = final_rb['Rush_Fmb'] + final_rb['Fmb']"
   ]
  },
  {
   "cell_type": "code",
   "execution_count": 19,
   "id": "3220fc11",
   "metadata": {},
   "outputs": [
    {
     "data": {
      "text/html": [
       "<div>\n",
       "<style scoped>\n",
       "    .dataframe tbody tr th:only-of-type {\n",
       "        vertical-align: middle;\n",
       "    }\n",
       "\n",
       "    .dataframe tbody tr th {\n",
       "        vertical-align: top;\n",
       "    }\n",
       "\n",
       "    .dataframe thead th {\n",
       "        text-align: right;\n",
       "    }\n",
       "</style>\n",
       "<table border=\"1\" class=\"dataframe\">\n",
       "  <thead>\n",
       "    <tr style=\"text-align: right;\">\n",
       "      <th></th>\n",
       "      <th>Player</th>\n",
       "      <th>Fumbles</th>\n",
       "      <th>Rush_Fmb</th>\n",
       "      <th>Fmb</th>\n",
       "    </tr>\n",
       "  </thead>\n",
       "  <tbody>\n",
       "    <tr>\n",
       "      <th>17</th>\n",
       "      <td>Breece Hall</td>\n",
       "      <td>2.0</td>\n",
       "      <td>1.0</td>\n",
       "      <td>1.0</td>\n",
       "    </tr>\n",
       "    <tr>\n",
       "      <th>18</th>\n",
       "      <td>Kenneth Walker III</td>\n",
       "      <td>0.0</td>\n",
       "      <td>0.0</td>\n",
       "      <td>0.0</td>\n",
       "    </tr>\n",
       "    <tr>\n",
       "      <th>19</th>\n",
       "      <td>James Cook</td>\n",
       "      <td>2.0</td>\n",
       "      <td>1.0</td>\n",
       "      <td>1.0</td>\n",
       "    </tr>\n",
       "    <tr>\n",
       "      <th>20</th>\n",
       "      <td>Rachaad White</td>\n",
       "      <td>6.0</td>\n",
       "      <td>3.0</td>\n",
       "      <td>3.0</td>\n",
       "    </tr>\n",
       "    <tr>\n",
       "      <th>21</th>\n",
       "      <td>Tyrion Davis-Price</td>\n",
       "      <td>0.0</td>\n",
       "      <td>0.0</td>\n",
       "      <td>0.0</td>\n",
       "    </tr>\n",
       "  </tbody>\n",
       "</table>\n",
       "</div>"
      ],
      "text/plain": [
       "                Player  Fumbles  Rush_Fmb  Fmb\n",
       "17         Breece Hall      2.0       1.0  1.0\n",
       "18  Kenneth Walker III      0.0       0.0  0.0\n",
       "19          James Cook      2.0       1.0  1.0\n",
       "20       Rachaad White      6.0       3.0  3.0\n",
       "21  Tyrion Davis-Price      0.0       0.0  0.0"
      ]
     },
     "execution_count": 19,
     "metadata": {},
     "output_type": "execute_result"
    }
   ],
   "source": [
    "final_rb[['Player','Fumbles', 'Rush_Fmb', 'Fmb']][final_rb['Year'] == 2022].head(5)"
   ]
  },
  {
   "cell_type": "code",
   "execution_count": 20,
   "id": "964debf9",
   "metadata": {},
   "outputs": [],
   "source": [
    "final_rb = final_rb.drop(['Rush_Fmb', 'Fmb'], axis=1)"
   ]
  },
  {
   "cell_type": "code",
   "execution_count": 22,
   "id": "719db8eb",
   "metadata": {},
   "outputs": [
    {
     "data": {
      "text/plain": [
       "Index(['Player', 'Team', 'Year', 'Height', 'Weight', '40 Time', 'Pick',\n",
       "       'Teammate', 'Teammate Year', 'Tm_x', 'Age_x', 'Pos_x', 'G_x', 'GS_x',\n",
       "       'Rush_Att', 'Rush_Yds', 'Rush_TD', 'Rush_1D', 'Rush_Lng', 'Rush_Y/A',\n",
       "       'Rush_Y/G', 'Teammate Tm', 'Teammate Age', 'Teammate Pos', 'Teammate G',\n",
       "       'Teammate GS', 'Teammate Rush_Att', 'Teammate Rush_Yds',\n",
       "       'Teammate Rush_TD', 'Teammate Rush_1D', 'Teammate Rush_Lng',\n",
       "       'Teammate Rush_Y/A', 'Teammate Rush_Y/G', 'Teammate Rush_Fmb', 'Tgt',\n",
       "       'Rec', 'Yds', 'Y/R', 'TD', '1D', 'Lng', 'Y/Tgt', 'R/G', 'Y/G',\n",
       "       'Fumbles'],\n",
       "      dtype='object')"
      ]
     },
     "execution_count": 22,
     "metadata": {},
     "output_type": "execute_result"
    }
   ],
   "source": [
    "final_rb.columns"
   ]
  },
  {
   "cell_type": "markdown",
   "id": "790d5105",
   "metadata": {},
   "source": [
    "### Target Columns"
   ]
  },
  {
   "cell_type": "markdown",
   "id": "dc7252b3",
   "metadata": {},
   "source": [
    "The total fantasy points on the year and fantasy points per game are calculated based on the total stats for running backs and receivers. Those will be the target in our linear regression models."
   ]
  },
  {
   "cell_type": "code",
   "execution_count": 23,
   "id": "e0887c9d",
   "metadata": {},
   "outputs": [],
   "source": [
    "final_rb['Total FP'] = ((final_rb['Rush_Yds'] * 0.1) + (final_rb['Rush_TD'] * 6) +\n",
    "                        (final_rb['Rec']) + (final_rb['Yds'] * 0.1) + (final_rb['TD'] * 6) - (final_rb['Fumbles'] * 2))"
   ]
  },
  {
   "cell_type": "code",
   "execution_count": 24,
   "id": "23906eb9",
   "metadata": {},
   "outputs": [],
   "source": [
    "final_rb['FPPG'] = final_rb['Total FP'] / final_rb['G_x']"
   ]
  },
  {
   "cell_type": "code",
   "execution_count": 26,
   "id": "2a3698c1",
   "metadata": {},
   "outputs": [
    {
     "data": {
      "text/html": [
       "<div>\n",
       "<style scoped>\n",
       "    .dataframe tbody tr th:only-of-type {\n",
       "        vertical-align: middle;\n",
       "    }\n",
       "\n",
       "    .dataframe tbody tr th {\n",
       "        vertical-align: top;\n",
       "    }\n",
       "\n",
       "    .dataframe thead th {\n",
       "        text-align: right;\n",
       "    }\n",
       "</style>\n",
       "<table border=\"1\" class=\"dataframe\">\n",
       "  <thead>\n",
       "    <tr style=\"text-align: right;\">\n",
       "      <th></th>\n",
       "      <th>Player</th>\n",
       "      <th>Rush_Yds</th>\n",
       "      <th>Rush_TD</th>\n",
       "      <th>Rec</th>\n",
       "      <th>Yds</th>\n",
       "      <th>TD</th>\n",
       "      <th>Fumbles</th>\n",
       "      <th>G_x</th>\n",
       "      <th>Total FP</th>\n",
       "      <th>FPPG</th>\n",
       "    </tr>\n",
       "  </thead>\n",
       "  <tbody>\n",
       "    <tr>\n",
       "      <th>17</th>\n",
       "      <td>Breece Hall</td>\n",
       "      <td>463.0</td>\n",
       "      <td>4.0</td>\n",
       "      <td>19.0</td>\n",
       "      <td>218.0</td>\n",
       "      <td>1.0</td>\n",
       "      <td>2.0</td>\n",
       "      <td>7.0</td>\n",
       "      <td>113.1</td>\n",
       "      <td>16.157143</td>\n",
       "    </tr>\n",
       "    <tr>\n",
       "      <th>18</th>\n",
       "      <td>Kenneth Walker III</td>\n",
       "      <td>1050.0</td>\n",
       "      <td>9.0</td>\n",
       "      <td>27.0</td>\n",
       "      <td>165.0</td>\n",
       "      <td>0.0</td>\n",
       "      <td>0.0</td>\n",
       "      <td>15.0</td>\n",
       "      <td>202.5</td>\n",
       "      <td>13.500000</td>\n",
       "    </tr>\n",
       "    <tr>\n",
       "      <th>19</th>\n",
       "      <td>James Cook</td>\n",
       "      <td>507.0</td>\n",
       "      <td>2.0</td>\n",
       "      <td>21.0</td>\n",
       "      <td>180.0</td>\n",
       "      <td>1.0</td>\n",
       "      <td>2.0</td>\n",
       "      <td>16.0</td>\n",
       "      <td>103.7</td>\n",
       "      <td>6.481250</td>\n",
       "    </tr>\n",
       "    <tr>\n",
       "      <th>20</th>\n",
       "      <td>Rachaad White</td>\n",
       "      <td>481.0</td>\n",
       "      <td>1.0</td>\n",
       "      <td>50.0</td>\n",
       "      <td>290.0</td>\n",
       "      <td>2.0</td>\n",
       "      <td>6.0</td>\n",
       "      <td>17.0</td>\n",
       "      <td>133.1</td>\n",
       "      <td>7.829412</td>\n",
       "    </tr>\n",
       "    <tr>\n",
       "      <th>21</th>\n",
       "      <td>Tyrion Davis-Price</td>\n",
       "      <td>99.0</td>\n",
       "      <td>0.0</td>\n",
       "      <td>0.0</td>\n",
       "      <td>0.0</td>\n",
       "      <td>0.0</td>\n",
       "      <td>0.0</td>\n",
       "      <td>6.0</td>\n",
       "      <td>9.9</td>\n",
       "      <td>1.650000</td>\n",
       "    </tr>\n",
       "  </tbody>\n",
       "</table>\n",
       "</div>"
      ],
      "text/plain": [
       "                Player  Rush_Yds  Rush_TD   Rec    Yds   TD  Fumbles   G_x  \\\n",
       "17         Breece Hall     463.0      4.0  19.0  218.0  1.0      2.0   7.0   \n",
       "18  Kenneth Walker III    1050.0      9.0  27.0  165.0  0.0      0.0  15.0   \n",
       "19          James Cook     507.0      2.0  21.0  180.0  1.0      2.0  16.0   \n",
       "20       Rachaad White     481.0      1.0  50.0  290.0  2.0      6.0  17.0   \n",
       "21  Tyrion Davis-Price      99.0      0.0   0.0    0.0  0.0      0.0   6.0   \n",
       "\n",
       "    Total FP       FPPG  \n",
       "17     113.1  16.157143  \n",
       "18     202.5  13.500000  \n",
       "19     103.7   6.481250  \n",
       "20     133.1   7.829412  \n",
       "21       9.9   1.650000  "
      ]
     },
     "execution_count": 26,
     "metadata": {},
     "output_type": "execute_result"
    }
   ],
   "source": [
    "final_rb[['Player','Rush_Yds', 'Rush_TD', 'Rec', 'Yds', 'TD', 'Fumbles', 'G_x', 'Total FP', 'FPPG']][final_rb['Year'] == 2022].head(5)"
   ]
  },
  {
   "cell_type": "code",
   "execution_count": 27,
   "id": "410f8f92",
   "metadata": {},
   "outputs": [
    {
     "data": {
      "text/plain": [
       "Index(['Player', 'Team', 'Year', 'Height', 'Weight', '40 Time', 'Pick',\n",
       "       'Teammate', 'Teammate Year', 'Tm', 'Age', 'Pos', 'G', 'GS', 'Tgt',\n",
       "       'Rec', 'Yds', 'Y/R', 'TD', '1D', 'Lng', 'Y/Tgt', 'R/G', 'Y/G', 'Fmb',\n",
       "       'Teammate Tm', 'Teammate Age', 'Teammate Pos', 'Teammate G',\n",
       "       'Teammate GS', 'Teammate Tgt', 'Teammate Rec', 'Teammate Yds',\n",
       "       'Teammate Y/R', 'Teammate TD', 'Teammate 1D', 'Teammate Lng',\n",
       "       'Teammate Y/Tgt', 'Teammate R/G', 'Teammate Y/G', 'Teammate Fmb'],\n",
       "      dtype='object')"
      ]
     },
     "execution_count": 27,
     "metadata": {},
     "output_type": "execute_result"
    }
   ],
   "source": [
    "final_wr.columns"
   ]
  },
  {
   "cell_type": "code",
   "execution_count": 28,
   "id": "4ac65e7f",
   "metadata": {},
   "outputs": [],
   "source": [
    "final_wr['Total FP'] = ((final_wr['Rec']) + (final_wr['Yds'] * 0.1) + (final_wr['TD'] * 6) - (final_wr['Fmb'] * 2))\n",
    "final_wr['FPPG'] = final_wr['Total FP'] / final_wr['G']"
   ]
  },
  {
   "cell_type": "code",
   "execution_count": 30,
   "id": "5e0bd750",
   "metadata": {},
   "outputs": [
    {
     "data": {
      "text/html": [
       "<div>\n",
       "<style scoped>\n",
       "    .dataframe tbody tr th:only-of-type {\n",
       "        vertical-align: middle;\n",
       "    }\n",
       "\n",
       "    .dataframe tbody tr th {\n",
       "        vertical-align: top;\n",
       "    }\n",
       "\n",
       "    .dataframe thead th {\n",
       "        text-align: right;\n",
       "    }\n",
       "</style>\n",
       "<table border=\"1\" class=\"dataframe\">\n",
       "  <thead>\n",
       "    <tr style=\"text-align: right;\">\n",
       "      <th></th>\n",
       "      <th>Player</th>\n",
       "      <th>Rec</th>\n",
       "      <th>Yds</th>\n",
       "      <th>TD</th>\n",
       "      <th>Fmb</th>\n",
       "      <th>G</th>\n",
       "      <th>Total FP</th>\n",
       "      <th>FPPG</th>\n",
       "    </tr>\n",
       "  </thead>\n",
       "  <tbody>\n",
       "    <tr>\n",
       "      <th>32</th>\n",
       "      <td>Drake London</td>\n",
       "      <td>72.0</td>\n",
       "      <td>866.0</td>\n",
       "      <td>4.0</td>\n",
       "      <td>3.0</td>\n",
       "      <td>17.0</td>\n",
       "      <td>176.6</td>\n",
       "      <td>10.388235</td>\n",
       "    </tr>\n",
       "    <tr>\n",
       "      <th>33</th>\n",
       "      <td>Garrett Wilson</td>\n",
       "      <td>83.0</td>\n",
       "      <td>1103.0</td>\n",
       "      <td>4.0</td>\n",
       "      <td>2.0</td>\n",
       "      <td>17.0</td>\n",
       "      <td>213.3</td>\n",
       "      <td>12.547059</td>\n",
       "    </tr>\n",
       "    <tr>\n",
       "      <th>34</th>\n",
       "      <td>Chris Olave</td>\n",
       "      <td>72.0</td>\n",
       "      <td>1042.0</td>\n",
       "      <td>4.0</td>\n",
       "      <td>2.0</td>\n",
       "      <td>15.0</td>\n",
       "      <td>196.2</td>\n",
       "      <td>13.080000</td>\n",
       "    </tr>\n",
       "    <tr>\n",
       "      <th>35</th>\n",
       "      <td>Jameson Williams</td>\n",
       "      <td>1.0</td>\n",
       "      <td>41.0</td>\n",
       "      <td>1.0</td>\n",
       "      <td>0.0</td>\n",
       "      <td>6.0</td>\n",
       "      <td>11.1</td>\n",
       "      <td>1.850000</td>\n",
       "    </tr>\n",
       "    <tr>\n",
       "      <th>36</th>\n",
       "      <td>Jahan Dotson</td>\n",
       "      <td>35.0</td>\n",
       "      <td>523.0</td>\n",
       "      <td>7.0</td>\n",
       "      <td>0.0</td>\n",
       "      <td>12.0</td>\n",
       "      <td>129.3</td>\n",
       "      <td>10.775000</td>\n",
       "    </tr>\n",
       "  </tbody>\n",
       "</table>\n",
       "</div>"
      ],
      "text/plain": [
       "              Player   Rec     Yds   TD  Fmb     G  Total FP       FPPG\n",
       "32      Drake London  72.0   866.0  4.0  3.0  17.0     176.6  10.388235\n",
       "33    Garrett Wilson  83.0  1103.0  4.0  2.0  17.0     213.3  12.547059\n",
       "34       Chris Olave  72.0  1042.0  4.0  2.0  15.0     196.2  13.080000\n",
       "35  Jameson Williams   1.0    41.0  1.0  0.0   6.0      11.1   1.850000\n",
       "36      Jahan Dotson  35.0   523.0  7.0  0.0  12.0     129.3  10.775000"
      ]
     },
     "execution_count": 30,
     "metadata": {},
     "output_type": "execute_result"
    }
   ],
   "source": [
    "final_wr[['Player', 'Rec', 'Yds', 'TD', 'Fmb', 'G', 'Total FP', 'FPPG']][final_wr['Year'] == 2022].head(5)"
   ]
  },
  {
   "cell_type": "code",
   "execution_count": 31,
   "id": "4f218d2a",
   "metadata": {},
   "outputs": [],
   "source": [
    "final_wr.to_csv('C:/Users/kevin/Downloads/Full Receiving Model 2017-2022.csv', index=False)\n",
    "final_rb.to_csv('C:/Users/kevin/Downloads/Full Rushing Model 2017-2022.csv', index=False)"
   ]
  },
  {
   "cell_type": "code",
   "execution_count": null,
   "id": "4fff32c2",
   "metadata": {},
   "outputs": [],
   "source": []
  }
 ],
 "metadata": {
  "kernelspec": {
   "display_name": "Python 3 (ipykernel)",
   "language": "python",
   "name": "python3"
  },
  "language_info": {
   "codemirror_mode": {
    "name": "ipython",
    "version": 3
   },
   "file_extension": ".py",
   "mimetype": "text/x-python",
   "name": "python",
   "nbconvert_exporter": "python",
   "pygments_lexer": "ipython3",
   "version": "3.8.16"
  }
 },
 "nbformat": 4,
 "nbformat_minor": 5
}
