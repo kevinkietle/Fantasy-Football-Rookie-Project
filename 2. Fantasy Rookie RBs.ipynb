{
 "cells": [
  {
   "cell_type": "markdown",
   "id": "d53a6b3d",
   "metadata": {},
   "source": [
    "## NFL Fantasy Rookie Project Part 2 - Running Backs"
   ]
  },
  {
   "cell_type": "markdown",
   "id": "35c73b41",
   "metadata": {},
   "source": [
    "### Imports"
   ]
  },
  {
   "cell_type": "code",
   "execution_count": 1,
   "id": "713374dd",
   "metadata": {},
   "outputs": [],
   "source": [
    "import pandas as pd\n",
    "import numpy as np\n",
    "import matplotlib.pyplot as plt\n",
    "import seaborn as sns\n",
    "%matplotlib inline"
   ]
  },
  {
   "cell_type": "code",
   "execution_count": 2,
   "id": "0b30e525",
   "metadata": {},
   "outputs": [],
   "source": [
    "final_rb = pd.read_csv('C:/Users/kevin/Downloads/Full Rushing Model 2017-2022.csv')"
   ]
  },
  {
   "cell_type": "code",
   "execution_count": 3,
   "id": "60cb7b6a",
   "metadata": {},
   "outputs": [],
   "source": [
    "from sklearn.model_selection import train_test_split\n",
    "from sklearn.linear_model import LinearRegression"
   ]
  },
  {
   "cell_type": "code",
   "execution_count": 9,
   "id": "466ade9f",
   "metadata": {},
   "outputs": [
    {
     "data": {
      "text/plain": [
       "Index(['Player', 'Team', 'Year', 'Height', 'Weight', '40 Time', 'Pick',\n",
       "       'Teammate', 'Teammate Year', 'Tm_x', 'Age_x', 'Pos_x', 'G_x', 'GS_x',\n",
       "       'Rush_Att', 'Rush_Yds', 'Rush_TD', 'Rush_1D', 'Rush_Lng', 'Rush_Y/A',\n",
       "       'Rush_Y/G', 'Teammate Tm', 'Teammate Age', 'Teammate Pos', 'Teammate G',\n",
       "       'Teammate GS', 'Teammate Rush_Att', 'Teammate Rush_Yds',\n",
       "       'Teammate Rush_TD', 'Teammate Rush_1D', 'Teammate Rush_Lng',\n",
       "       'Teammate Rush_Y/A', 'Teammate Rush_Y/G', 'Teammate Rush_Fmb', 'Tgt',\n",
       "       'Rec', 'Yds', 'Y/R', 'TD', '1D', 'Lng', 'Y/Tgt', 'R/G', 'Y/G',\n",
       "       'Fumbles', 'Total FP', 'FPPG'],\n",
       "      dtype='object')"
      ]
     },
     "execution_count": 9,
     "metadata": {},
     "output_type": "execute_result"
    }
   ],
   "source": [
    "final_rb.columns"
   ]
  },
  {
   "cell_type": "markdown",
   "id": "48b1811c",
   "metadata": {},
   "source": [
    "### Linear Regression"
   ]
  },
  {
   "cell_type": "markdown",
   "id": "35c2cf49",
   "metadata": {},
   "source": [
    "Like previously mentioned, the rookie's stats themselves are not included in the predictors. The rookie's stats are end of year stats, so it would not be something we have when we want to project future rookies' stats and fantasy points. The teammate stats are relevant because it is the teammate's stats from the PREVIOUS year."
   ]
  },
  {
   "cell_type": "code",
   "execution_count": 56,
   "id": "da8e8e9d",
   "metadata": {},
   "outputs": [],
   "source": [
    "predictors = ['Height', 'Weight', '40 Time', 'Pick', 'Age_x', 'Teammate Age', 'Teammate G',\n",
    "              'Teammate Rush_Att', 'Teammate Rush_Yds',\n",
    "           'Teammate Rush_TD', 'Teammate Rush_1D', 'Teammate Rush_Lng',\n",
    "           'Teammate Rush_Y/A', 'Teammate Rush_Y/G', 'Teammate Rush_Fmb']\n",
    "\n",
    "target = ['FPPG']"
   ]
  },
  {
   "cell_type": "code",
   "execution_count": 57,
   "id": "01fbd677",
   "metadata": {},
   "outputs": [],
   "source": [
    "train = final_rb[final_rb[\"Year\"].isin([2018, 2019, 2020, 2021])]\n",
    "test = final_rb[final_rb[\"Year\"] == 2022]"
   ]
  },
  {
   "cell_type": "code",
   "execution_count": 58,
   "id": "300dd6c7",
   "metadata": {},
   "outputs": [],
   "source": [
    "lm = LinearRegression()"
   ]
  },
  {
   "cell_type": "code",
   "execution_count": 59,
   "id": "7803f477",
   "metadata": {},
   "outputs": [
    {
     "data": {
      "text/html": [
       "<style>#sk-container-id-5 {color: black;background-color: white;}#sk-container-id-5 pre{padding: 0;}#sk-container-id-5 div.sk-toggleable {background-color: white;}#sk-container-id-5 label.sk-toggleable__label {cursor: pointer;display: block;width: 100%;margin-bottom: 0;padding: 0.3em;box-sizing: border-box;text-align: center;}#sk-container-id-5 label.sk-toggleable__label-arrow:before {content: \"▸\";float: left;margin-right: 0.25em;color: #696969;}#sk-container-id-5 label.sk-toggleable__label-arrow:hover:before {color: black;}#sk-container-id-5 div.sk-estimator:hover label.sk-toggleable__label-arrow:before {color: black;}#sk-container-id-5 div.sk-toggleable__content {max-height: 0;max-width: 0;overflow: hidden;text-align: left;background-color: #f0f8ff;}#sk-container-id-5 div.sk-toggleable__content pre {margin: 0.2em;color: black;border-radius: 0.25em;background-color: #f0f8ff;}#sk-container-id-5 input.sk-toggleable__control:checked~div.sk-toggleable__content {max-height: 200px;max-width: 100%;overflow: auto;}#sk-container-id-5 input.sk-toggleable__control:checked~label.sk-toggleable__label-arrow:before {content: \"▾\";}#sk-container-id-5 div.sk-estimator input.sk-toggleable__control:checked~label.sk-toggleable__label {background-color: #d4ebff;}#sk-container-id-5 div.sk-label input.sk-toggleable__control:checked~label.sk-toggleable__label {background-color: #d4ebff;}#sk-container-id-5 input.sk-hidden--visually {border: 0;clip: rect(1px 1px 1px 1px);clip: rect(1px, 1px, 1px, 1px);height: 1px;margin: -1px;overflow: hidden;padding: 0;position: absolute;width: 1px;}#sk-container-id-5 div.sk-estimator {font-family: monospace;background-color: #f0f8ff;border: 1px dotted black;border-radius: 0.25em;box-sizing: border-box;margin-bottom: 0.5em;}#sk-container-id-5 div.sk-estimator:hover {background-color: #d4ebff;}#sk-container-id-5 div.sk-parallel-item::after {content: \"\";width: 100%;border-bottom: 1px solid gray;flex-grow: 1;}#sk-container-id-5 div.sk-label:hover label.sk-toggleable__label {background-color: #d4ebff;}#sk-container-id-5 div.sk-serial::before {content: \"\";position: absolute;border-left: 1px solid gray;box-sizing: border-box;top: 0;bottom: 0;left: 50%;z-index: 0;}#sk-container-id-5 div.sk-serial {display: flex;flex-direction: column;align-items: center;background-color: white;padding-right: 0.2em;padding-left: 0.2em;position: relative;}#sk-container-id-5 div.sk-item {position: relative;z-index: 1;}#sk-container-id-5 div.sk-parallel {display: flex;align-items: stretch;justify-content: center;background-color: white;position: relative;}#sk-container-id-5 div.sk-item::before, #sk-container-id-5 div.sk-parallel-item::before {content: \"\";position: absolute;border-left: 1px solid gray;box-sizing: border-box;top: 0;bottom: 0;left: 50%;z-index: -1;}#sk-container-id-5 div.sk-parallel-item {display: flex;flex-direction: column;z-index: 1;position: relative;background-color: white;}#sk-container-id-5 div.sk-parallel-item:first-child::after {align-self: flex-end;width: 50%;}#sk-container-id-5 div.sk-parallel-item:last-child::after {align-self: flex-start;width: 50%;}#sk-container-id-5 div.sk-parallel-item:only-child::after {width: 0;}#sk-container-id-5 div.sk-dashed-wrapped {border: 1px dashed gray;margin: 0 0.4em 0.5em 0.4em;box-sizing: border-box;padding-bottom: 0.4em;background-color: white;}#sk-container-id-5 div.sk-label label {font-family: monospace;font-weight: bold;display: inline-block;line-height: 1.2em;}#sk-container-id-5 div.sk-label-container {text-align: center;}#sk-container-id-5 div.sk-container {/* jupyter's `normalize.less` sets `[hidden] { display: none; }` but bootstrap.min.css set `[hidden] { display: none !important; }` so we also need the `!important` here to be able to override the default hidden behavior on the sphinx rendered scikit-learn.org. See: https://github.com/scikit-learn/scikit-learn/issues/21755 */display: inline-block !important;position: relative;}#sk-container-id-5 div.sk-text-repr-fallback {display: none;}</style><div id=\"sk-container-id-5\" class=\"sk-top-container\"><div class=\"sk-text-repr-fallback\"><pre>LinearRegression()</pre><b>In a Jupyter environment, please rerun this cell to show the HTML representation or trust the notebook. <br />On GitHub, the HTML representation is unable to render, please try loading this page with nbviewer.org.</b></div><div class=\"sk-container\" hidden><div class=\"sk-item\"><div class=\"sk-estimator sk-toggleable\"><input class=\"sk-toggleable__control sk-hidden--visually\" id=\"sk-estimator-id-5\" type=\"checkbox\" checked><label for=\"sk-estimator-id-5\" class=\"sk-toggleable__label sk-toggleable__label-arrow\">LinearRegression</label><div class=\"sk-toggleable__content\"><pre>LinearRegression()</pre></div></div></div></div></div>"
      ],
      "text/plain": [
       "LinearRegression()"
      ]
     },
     "execution_count": 59,
     "metadata": {},
     "output_type": "execute_result"
    }
   ],
   "source": [
    "lm.fit(train[predictors],train[target])"
   ]
  },
  {
   "cell_type": "code",
   "execution_count": 60,
   "id": "1725f4e7",
   "metadata": {},
   "outputs": [],
   "source": [
    "predictions = lm.predict(test[predictors])\n",
    "predictions = pd.DataFrame(predictions, columns=[\"predictions\"], index=test.index)\n",
    "combination = pd.concat([test[[\"Player\", \"Year\", \"FPPG\"]], predictions], axis=1)"
   ]
  },
  {
   "cell_type": "code",
   "execution_count": 21,
   "id": "bd076faf",
   "metadata": {},
   "outputs": [],
   "source": [
    "from sklearn import metrics"
   ]
  },
  {
   "cell_type": "code",
   "execution_count": 61,
   "id": "c9b3fa6e",
   "metadata": {},
   "outputs": [
    {
     "name": "stdout",
     "output_type": "stream",
     "text": [
      "MAE: 3.426755510522917\n",
      "MSE: 15.817491180150471\n",
      "RMSE: 3.977120966245617\n",
      "R-squared:  0.4081383974203784\n",
      "R:  0.6388571025044477\n"
     ]
    }
   ],
   "source": [
    "print('MAE:', metrics.mean_absolute_error(combination[\"FPPG\"], combination[\"predictions\"]))\n",
    "print('MSE:', metrics.mean_squared_error(combination[\"FPPG\"], combination[\"predictions\"]))\n",
    "print('RMSE:', np.sqrt(metrics.mean_squared_error(combination[\"FPPG\"], combination[\"predictions\"])))\n",
    "print('R-squared: ', metrics.explained_variance_score(combination[\"FPPG\"], combination[\"predictions\"]))\n",
    "print('R: ', np.sqrt(metrics.explained_variance_score(combination[\"FPPG\"], combination[\"predictions\"])))"
   ]
  },
  {
   "cell_type": "markdown",
   "id": "dfd29974",
   "metadata": {},
   "source": [
    "I tried both a regular linear regression and a ridge regression and saw more success with just a regular linear regression."
   ]
  },
  {
   "cell_type": "code",
   "execution_count": 62,
   "id": "17b28738",
   "metadata": {},
   "outputs": [
    {
     "data": {
      "text/html": [
       "<div>\n",
       "<style scoped>\n",
       "    .dataframe tbody tr th:only-of-type {\n",
       "        vertical-align: middle;\n",
       "    }\n",
       "\n",
       "    .dataframe tbody tr th {\n",
       "        vertical-align: top;\n",
       "    }\n",
       "\n",
       "    .dataframe thead th {\n",
       "        text-align: right;\n",
       "    }\n",
       "</style>\n",
       "<table border=\"1\" class=\"dataframe\">\n",
       "  <thead>\n",
       "    <tr style=\"text-align: right;\">\n",
       "      <th></th>\n",
       "      <th>Player</th>\n",
       "      <th>Year</th>\n",
       "      <th>FPPG</th>\n",
       "      <th>predictions</th>\n",
       "    </tr>\n",
       "  </thead>\n",
       "  <tbody>\n",
       "    <tr>\n",
       "      <th>23</th>\n",
       "      <td>Dameon Pierce</td>\n",
       "      <td>2022</td>\n",
       "      <td>11.876923</td>\n",
       "      <td>10.521589</td>\n",
       "    </tr>\n",
       "    <tr>\n",
       "      <th>17</th>\n",
       "      <td>Breece Hall</td>\n",
       "      <td>2022</td>\n",
       "      <td>16.157143</td>\n",
       "      <td>10.185390</td>\n",
       "    </tr>\n",
       "    <tr>\n",
       "      <th>18</th>\n",
       "      <td>Kenneth Walker III</td>\n",
       "      <td>2022</td>\n",
       "      <td>13.500000</td>\n",
       "      <td>7.322166</td>\n",
       "    </tr>\n",
       "    <tr>\n",
       "      <th>21</th>\n",
       "      <td>Tyrion Davis-Price</td>\n",
       "      <td>2022</td>\n",
       "      <td>1.650000</td>\n",
       "      <td>6.623739</td>\n",
       "    </tr>\n",
       "    <tr>\n",
       "      <th>19</th>\n",
       "      <td>James Cook</td>\n",
       "      <td>2022</td>\n",
       "      <td>6.481250</td>\n",
       "      <td>6.458575</td>\n",
       "    </tr>\n",
       "    <tr>\n",
       "      <th>27</th>\n",
       "      <td>Hassan Haskins</td>\n",
       "      <td>2022</td>\n",
       "      <td>1.733333</td>\n",
       "      <td>5.548370</td>\n",
       "    </tr>\n",
       "    <tr>\n",
       "      <th>22</th>\n",
       "      <td>Brian Robinson</td>\n",
       "      <td>2022</td>\n",
       "      <td>9.060000</td>\n",
       "      <td>5.255208</td>\n",
       "    </tr>\n",
       "    <tr>\n",
       "      <th>28</th>\n",
       "      <td>Tyler Allgeier</td>\n",
       "      <td>2022</td>\n",
       "      <td>9.837500</td>\n",
       "      <td>4.426420</td>\n",
       "    </tr>\n",
       "    <tr>\n",
       "      <th>20</th>\n",
       "      <td>Rachaad White</td>\n",
       "      <td>2022</td>\n",
       "      <td>7.829412</td>\n",
       "      <td>4.175850</td>\n",
       "    </tr>\n",
       "    <tr>\n",
       "      <th>29</th>\n",
       "      <td>Jerome Ford</td>\n",
       "      <td>2022</td>\n",
       "      <td>0.092308</td>\n",
       "      <td>4.031686</td>\n",
       "    </tr>\n",
       "  </tbody>\n",
       "</table>\n",
       "</div>"
      ],
      "text/plain": [
       "                Player  Year       FPPG  predictions\n",
       "23       Dameon Pierce  2022  11.876923    10.521589\n",
       "17         Breece Hall  2022  16.157143    10.185390\n",
       "18  Kenneth Walker III  2022  13.500000     7.322166\n",
       "21  Tyrion Davis-Price  2022   1.650000     6.623739\n",
       "19          James Cook  2022   6.481250     6.458575\n",
       "27      Hassan Haskins  2022   1.733333     5.548370\n",
       "22      Brian Robinson  2022   9.060000     5.255208\n",
       "28      Tyler Allgeier  2022   9.837500     4.426420\n",
       "20       Rachaad White  2022   7.829412     4.175850\n",
       "29         Jerome Ford  2022   0.092308     4.031686"
      ]
     },
     "execution_count": 62,
     "metadata": {},
     "output_type": "execute_result"
    }
   ],
   "source": [
    "combination.sort_values(by='predictions', ascending=False).head(10)"
   ]
  },
  {
   "cell_type": "markdown",
   "id": "5c80b1f0",
   "metadata": {},
   "source": [
    "This first model here has 2022 as the test set so I have data to compare to. My projections had Pierce, Hall, and Walker as the projected top 3 at the position and that is indeed how it worked out. That along with the R score of 0.64 means this model is relatively strong."
   ]
  },
  {
   "cell_type": "code",
   "execution_count": 66,
   "id": "e10ef44a",
   "metadata": {},
   "outputs": [
    {
     "name": "stdout",
     "output_type": "stream",
     "text": [
      "              Feature  Coefficient  Absolute Coefficient\n",
      "0             40 Time    -6.029638              6.029638\n",
      "1   Teammate Rush_Y/A    -2.281542              2.281542\n",
      "2          Teammate G     0.756736              0.756736\n",
      "3               Age_x    -0.419973              0.419973\n",
      "4    Teammate Rush_TD    -0.363365              0.363365\n",
      "5              Height    -0.310611              0.310611\n",
      "6   Teammate Rush_Fmb     0.179234              0.179234\n",
      "7   Teammate Rush_Y/G     0.137900              0.137900\n",
      "8    Teammate Rush_1D     0.091851              0.091851\n",
      "9              Weight     0.068248              0.068248\n",
      "10  Teammate Rush_Att    -0.058196              0.058196\n",
      "11  Teammate Rush_Lng     0.049641              0.049641\n",
      "12               Pick    -0.036003              0.036003\n",
      "13       Teammate Age     0.008523              0.008523\n",
      "14  Teammate Rush_Yds    -0.003699              0.003699\n"
     ]
    }
   ],
   "source": [
    "# Get the coefficients and corresponding feature names\n",
    "lm_coefs = lm.coef_.ravel()\n",
    "feature_names = train[predictors].columns.tolist()  # Convert DataFrame to a list of column names\n",
    "\n",
    "# Create a DataFrame to store the coefficients and feature names\n",
    "coefs_df = pd.DataFrame({'Feature': feature_names, 'Coefficient': lm_coefs})\n",
    "\n",
    "# Sort the DataFrame by absolute coefficient values\n",
    "coefs_df['Absolute Coefficient'] = coefs_df['Coefficient'].abs()\n",
    "coefs_df = coefs_df.sort_values('Absolute Coefficient', ascending=False).reset_index(drop=True)\n",
    "\n",
    "# Print the feature importance\n",
    "print(coefs_df)"
   ]
  },
  {
   "cell_type": "code",
   "execution_count": 69,
   "id": "29811e3b",
   "metadata": {},
   "outputs": [
    {
     "data": {
      "text/plain": [
       "Pick                 0.000029\n",
       "Teammate G           0.060427\n",
       "Teammate Rush_Y/A    0.100812\n",
       "Teammate Rush_TD     0.133538\n",
       "Teammate Rush_Att    0.164661\n",
       "Teammate Rush_Y/G    0.188109\n",
       "Teammate Rush_Lng    0.318568\n",
       "Teammate Rush_1D     0.453400\n",
       "Weight               0.641422\n",
       "Teammate Rush_Fmb    0.672624\n",
       "Height               0.696957\n",
       "Teammate Rush_Yds    0.742363\n",
       "Age_x                0.755911\n",
       "Teammate Age         0.932080\n",
       "40 Time              0.932794\n",
       "dtype: float64"
      ]
     },
     "execution_count": 69,
     "metadata": {},
     "output_type": "execute_result"
    }
   ],
   "source": [
    "import statsmodels.api as sm\n",
    "results = sm.OLS(train[target],train[predictors]).fit()\n",
    "p_value = results.pvalues[predictors]\n",
    "p_value.sort_values()"
   ]
  },
  {
   "cell_type": "code",
   "execution_count": 46,
   "id": "fe2c9b00",
   "metadata": {},
   "outputs": [],
   "source": [
    "predictors = ['Height', 'Weight', '40 Time', 'Pick', 'Age_x', 'Teammate Age', 'Teammate G',\n",
    "              'Teammate Rush_Att', 'Teammate Rush_Yds',\n",
    "           'Teammate Rush_TD', 'Teammate Rush_1D', 'Teammate Rush_Lng',\n",
    "           'Teammate Rush_Y/A', 'Teammate Rush_Y/G', 'Teammate Rush_Fmb']\n",
    "\n",
    "target = ['Total FP']"
   ]
  },
  {
   "cell_type": "code",
   "execution_count": 47,
   "id": "ec8bee03",
   "metadata": {},
   "outputs": [],
   "source": [
    "train = final_rb[final_rb[\"Year\"].isin([2018, 2019, 2020, 2021])]\n",
    "test = final_rb[final_rb[\"Year\"] == 2022]"
   ]
  },
  {
   "cell_type": "code",
   "execution_count": 48,
   "id": "4e518ad0",
   "metadata": {},
   "outputs": [],
   "source": [
    "lm = LinearRegression()"
   ]
  },
  {
   "cell_type": "code",
   "execution_count": 49,
   "id": "75284758",
   "metadata": {},
   "outputs": [
    {
     "data": {
      "text/html": [
       "<style>#sk-container-id-4 {color: black;background-color: white;}#sk-container-id-4 pre{padding: 0;}#sk-container-id-4 div.sk-toggleable {background-color: white;}#sk-container-id-4 label.sk-toggleable__label {cursor: pointer;display: block;width: 100%;margin-bottom: 0;padding: 0.3em;box-sizing: border-box;text-align: center;}#sk-container-id-4 label.sk-toggleable__label-arrow:before {content: \"▸\";float: left;margin-right: 0.25em;color: #696969;}#sk-container-id-4 label.sk-toggleable__label-arrow:hover:before {color: black;}#sk-container-id-4 div.sk-estimator:hover label.sk-toggleable__label-arrow:before {color: black;}#sk-container-id-4 div.sk-toggleable__content {max-height: 0;max-width: 0;overflow: hidden;text-align: left;background-color: #f0f8ff;}#sk-container-id-4 div.sk-toggleable__content pre {margin: 0.2em;color: black;border-radius: 0.25em;background-color: #f0f8ff;}#sk-container-id-4 input.sk-toggleable__control:checked~div.sk-toggleable__content {max-height: 200px;max-width: 100%;overflow: auto;}#sk-container-id-4 input.sk-toggleable__control:checked~label.sk-toggleable__label-arrow:before {content: \"▾\";}#sk-container-id-4 div.sk-estimator input.sk-toggleable__control:checked~label.sk-toggleable__label {background-color: #d4ebff;}#sk-container-id-4 div.sk-label input.sk-toggleable__control:checked~label.sk-toggleable__label {background-color: #d4ebff;}#sk-container-id-4 input.sk-hidden--visually {border: 0;clip: rect(1px 1px 1px 1px);clip: rect(1px, 1px, 1px, 1px);height: 1px;margin: -1px;overflow: hidden;padding: 0;position: absolute;width: 1px;}#sk-container-id-4 div.sk-estimator {font-family: monospace;background-color: #f0f8ff;border: 1px dotted black;border-radius: 0.25em;box-sizing: border-box;margin-bottom: 0.5em;}#sk-container-id-4 div.sk-estimator:hover {background-color: #d4ebff;}#sk-container-id-4 div.sk-parallel-item::after {content: \"\";width: 100%;border-bottom: 1px solid gray;flex-grow: 1;}#sk-container-id-4 div.sk-label:hover label.sk-toggleable__label {background-color: #d4ebff;}#sk-container-id-4 div.sk-serial::before {content: \"\";position: absolute;border-left: 1px solid gray;box-sizing: border-box;top: 0;bottom: 0;left: 50%;z-index: 0;}#sk-container-id-4 div.sk-serial {display: flex;flex-direction: column;align-items: center;background-color: white;padding-right: 0.2em;padding-left: 0.2em;position: relative;}#sk-container-id-4 div.sk-item {position: relative;z-index: 1;}#sk-container-id-4 div.sk-parallel {display: flex;align-items: stretch;justify-content: center;background-color: white;position: relative;}#sk-container-id-4 div.sk-item::before, #sk-container-id-4 div.sk-parallel-item::before {content: \"\";position: absolute;border-left: 1px solid gray;box-sizing: border-box;top: 0;bottom: 0;left: 50%;z-index: -1;}#sk-container-id-4 div.sk-parallel-item {display: flex;flex-direction: column;z-index: 1;position: relative;background-color: white;}#sk-container-id-4 div.sk-parallel-item:first-child::after {align-self: flex-end;width: 50%;}#sk-container-id-4 div.sk-parallel-item:last-child::after {align-self: flex-start;width: 50%;}#sk-container-id-4 div.sk-parallel-item:only-child::after {width: 0;}#sk-container-id-4 div.sk-dashed-wrapped {border: 1px dashed gray;margin: 0 0.4em 0.5em 0.4em;box-sizing: border-box;padding-bottom: 0.4em;background-color: white;}#sk-container-id-4 div.sk-label label {font-family: monospace;font-weight: bold;display: inline-block;line-height: 1.2em;}#sk-container-id-4 div.sk-label-container {text-align: center;}#sk-container-id-4 div.sk-container {/* jupyter's `normalize.less` sets `[hidden] { display: none; }` but bootstrap.min.css set `[hidden] { display: none !important; }` so we also need the `!important` here to be able to override the default hidden behavior on the sphinx rendered scikit-learn.org. See: https://github.com/scikit-learn/scikit-learn/issues/21755 */display: inline-block !important;position: relative;}#sk-container-id-4 div.sk-text-repr-fallback {display: none;}</style><div id=\"sk-container-id-4\" class=\"sk-top-container\"><div class=\"sk-text-repr-fallback\"><pre>LinearRegression()</pre><b>In a Jupyter environment, please rerun this cell to show the HTML representation or trust the notebook. <br />On GitHub, the HTML representation is unable to render, please try loading this page with nbviewer.org.</b></div><div class=\"sk-container\" hidden><div class=\"sk-item\"><div class=\"sk-estimator sk-toggleable\"><input class=\"sk-toggleable__control sk-hidden--visually\" id=\"sk-estimator-id-4\" type=\"checkbox\" checked><label for=\"sk-estimator-id-4\" class=\"sk-toggleable__label sk-toggleable__label-arrow\">LinearRegression</label><div class=\"sk-toggleable__content\"><pre>LinearRegression()</pre></div></div></div></div></div>"
      ],
      "text/plain": [
       "LinearRegression()"
      ]
     },
     "execution_count": 49,
     "metadata": {},
     "output_type": "execute_result"
    }
   ],
   "source": [
    "lm.fit(train[predictors],train[target])"
   ]
  },
  {
   "cell_type": "code",
   "execution_count": 51,
   "id": "83819090",
   "metadata": {},
   "outputs": [],
   "source": [
    "predictions = lm.predict(test[predictors])\n",
    "predictions = pd.DataFrame(predictions, columns=[\"predictions\"], index=test.index)\n",
    "combination = pd.concat([test[[\"Player\", \"Year\", \"Total FP\"]], predictions], axis=1)"
   ]
  },
  {
   "cell_type": "code",
   "execution_count": 53,
   "id": "559f16e1",
   "metadata": {},
   "outputs": [
    {
     "name": "stdout",
     "output_type": "stream",
     "text": [
      "MAE: 48.73386074025879\n",
      "MSE: 3522.7306673274265\n",
      "RMSE: 59.352596129633845\n",
      "R-squared:  0.17549026441229987\n",
      "R:  0.4189155814866521\n"
     ]
    }
   ],
   "source": [
    "print('MAE:', metrics.mean_absolute_error(combination[\"Total FP\"], combination[\"predictions\"]))\n",
    "print('MSE:', metrics.mean_squared_error(combination[\"Total FP\"], combination[\"predictions\"]))\n",
    "print('RMSE:', np.sqrt(metrics.mean_squared_error(combination[\"Total FP\"], combination[\"predictions\"])))\n",
    "print('R-squared: ', metrics.explained_variance_score(combination[\"Total FP\"], combination[\"predictions\"]))\n",
    "print('R: ', np.sqrt(metrics.explained_variance_score(combination[\"Total FP\"], combination[\"predictions\"])))"
   ]
  },
  {
   "cell_type": "code",
   "execution_count": 54,
   "id": "849fe715",
   "metadata": {},
   "outputs": [
    {
     "data": {
      "text/html": [
       "<div>\n",
       "<style scoped>\n",
       "    .dataframe tbody tr th:only-of-type {\n",
       "        vertical-align: middle;\n",
       "    }\n",
       "\n",
       "    .dataframe tbody tr th {\n",
       "        vertical-align: top;\n",
       "    }\n",
       "\n",
       "    .dataframe thead th {\n",
       "        text-align: right;\n",
       "    }\n",
       "</style>\n",
       "<table border=\"1\" class=\"dataframe\">\n",
       "  <thead>\n",
       "    <tr style=\"text-align: right;\">\n",
       "      <th></th>\n",
       "      <th>Player</th>\n",
       "      <th>Year</th>\n",
       "      <th>Total FP</th>\n",
       "      <th>predictions</th>\n",
       "    </tr>\n",
       "  </thead>\n",
       "  <tbody>\n",
       "    <tr>\n",
       "      <th>23</th>\n",
       "      <td>Dameon Pierce</td>\n",
       "      <td>2022</td>\n",
       "      <td>154.4</td>\n",
       "      <td>152.302023</td>\n",
       "    </tr>\n",
       "    <tr>\n",
       "      <th>17</th>\n",
       "      <td>Breece Hall</td>\n",
       "      <td>2022</td>\n",
       "      <td>113.1</td>\n",
       "      <td>146.887335</td>\n",
       "    </tr>\n",
       "    <tr>\n",
       "      <th>18</th>\n",
       "      <td>Kenneth Walker III</td>\n",
       "      <td>2022</td>\n",
       "      <td>202.5</td>\n",
       "      <td>98.620536</td>\n",
       "    </tr>\n",
       "    <tr>\n",
       "      <th>21</th>\n",
       "      <td>Tyrion Davis-Price</td>\n",
       "      <td>2022</td>\n",
       "      <td>9.9</td>\n",
       "      <td>96.403851</td>\n",
       "    </tr>\n",
       "    <tr>\n",
       "      <th>27</th>\n",
       "      <td>Hassan Haskins</td>\n",
       "      <td>2022</td>\n",
       "      <td>26.0</td>\n",
       "      <td>95.941198</td>\n",
       "    </tr>\n",
       "    <tr>\n",
       "      <th>19</th>\n",
       "      <td>James Cook</td>\n",
       "      <td>2022</td>\n",
       "      <td>103.7</td>\n",
       "      <td>94.399055</td>\n",
       "    </tr>\n",
       "    <tr>\n",
       "      <th>22</th>\n",
       "      <td>Brian Robinson</td>\n",
       "      <td>2022</td>\n",
       "      <td>108.7</td>\n",
       "      <td>86.131572</td>\n",
       "    </tr>\n",
       "    <tr>\n",
       "      <th>20</th>\n",
       "      <td>Rachaad White</td>\n",
       "      <td>2022</td>\n",
       "      <td>133.1</td>\n",
       "      <td>55.644743</td>\n",
       "    </tr>\n",
       "    <tr>\n",
       "      <th>28</th>\n",
       "      <td>Tyler Allgeier</td>\n",
       "      <td>2022</td>\n",
       "      <td>157.4</td>\n",
       "      <td>54.412701</td>\n",
       "    </tr>\n",
       "    <tr>\n",
       "      <th>29</th>\n",
       "      <td>Jerome Ford</td>\n",
       "      <td>2022</td>\n",
       "      <td>1.2</td>\n",
       "      <td>53.404312</td>\n",
       "    </tr>\n",
       "  </tbody>\n",
       "</table>\n",
       "</div>"
      ],
      "text/plain": [
       "                Player  Year  Total FP  predictions\n",
       "23       Dameon Pierce  2022     154.4   152.302023\n",
       "17         Breece Hall  2022     113.1   146.887335\n",
       "18  Kenneth Walker III  2022     202.5    98.620536\n",
       "21  Tyrion Davis-Price  2022       9.9    96.403851\n",
       "27      Hassan Haskins  2022      26.0    95.941198\n",
       "19          James Cook  2022     103.7    94.399055\n",
       "22      Brian Robinson  2022     108.7    86.131572\n",
       "20       Rachaad White  2022     133.1    55.644743\n",
       "28      Tyler Allgeier  2022     157.4    54.412701\n",
       "29         Jerome Ford  2022       1.2    53.404312"
      ]
     },
     "execution_count": 54,
     "metadata": {},
     "output_type": "execute_result"
    }
   ],
   "source": [
    "combination.sort_values(by='predictions', ascending=False).head(10)"
   ]
  },
  {
   "cell_type": "markdown",
   "id": "f9e5f3b4",
   "metadata": {},
   "source": [
    "The model on points per game is much better. This is because for rookies, some guys may not play a big role until later in the season or they may miss a lot of games. This will lower their total points even though they were actually pretty good for fantasy when you were able to play them. Case in point: Breece Hall."
   ]
  },
  {
   "cell_type": "markdown",
   "id": "7e37074c",
   "metadata": {},
   "source": [
    "### Projecting the 2023 Rookies"
   ]
  },
  {
   "cell_type": "code",
   "execution_count": 73,
   "id": "b337fd98",
   "metadata": {},
   "outputs": [],
   "source": [
    "predictors = ['Height', 'Weight', '40 Time', 'Pick', 'Age_x', 'Teammate Age', 'Teammate G',\n",
    "              'Teammate Rush_Att', 'Teammate Rush_Yds',\n",
    "           'Teammate Rush_TD', 'Teammate Rush_1D', 'Teammate Rush_Lng',\n",
    "           'Teammate Rush_Y/A', 'Teammate Rush_Y/G', 'Teammate Rush_Fmb']\n",
    "\n",
    "target = ['FPPG']"
   ]
  },
  {
   "cell_type": "code",
   "execution_count": 74,
   "id": "a07552d4",
   "metadata": {},
   "outputs": [],
   "source": [
    "train = final_rb[final_rb[\"Year\"].isin([2018, 2019, 2020, 2021, 2022])]\n",
    "test = final_rb[final_rb[\"Year\"] == 2023]"
   ]
  },
  {
   "cell_type": "code",
   "execution_count": 75,
   "id": "5ba95959",
   "metadata": {},
   "outputs": [],
   "source": [
    "lm = LinearRegression()"
   ]
  },
  {
   "cell_type": "code",
   "execution_count": 76,
   "id": "dee7867e",
   "metadata": {},
   "outputs": [
    {
     "data": {
      "text/html": [
       "<style>#sk-container-id-7 {color: black;background-color: white;}#sk-container-id-7 pre{padding: 0;}#sk-container-id-7 div.sk-toggleable {background-color: white;}#sk-container-id-7 label.sk-toggleable__label {cursor: pointer;display: block;width: 100%;margin-bottom: 0;padding: 0.3em;box-sizing: border-box;text-align: center;}#sk-container-id-7 label.sk-toggleable__label-arrow:before {content: \"▸\";float: left;margin-right: 0.25em;color: #696969;}#sk-container-id-7 label.sk-toggleable__label-arrow:hover:before {color: black;}#sk-container-id-7 div.sk-estimator:hover label.sk-toggleable__label-arrow:before {color: black;}#sk-container-id-7 div.sk-toggleable__content {max-height: 0;max-width: 0;overflow: hidden;text-align: left;background-color: #f0f8ff;}#sk-container-id-7 div.sk-toggleable__content pre {margin: 0.2em;color: black;border-radius: 0.25em;background-color: #f0f8ff;}#sk-container-id-7 input.sk-toggleable__control:checked~div.sk-toggleable__content {max-height: 200px;max-width: 100%;overflow: auto;}#sk-container-id-7 input.sk-toggleable__control:checked~label.sk-toggleable__label-arrow:before {content: \"▾\";}#sk-container-id-7 div.sk-estimator input.sk-toggleable__control:checked~label.sk-toggleable__label {background-color: #d4ebff;}#sk-container-id-7 div.sk-label input.sk-toggleable__control:checked~label.sk-toggleable__label {background-color: #d4ebff;}#sk-container-id-7 input.sk-hidden--visually {border: 0;clip: rect(1px 1px 1px 1px);clip: rect(1px, 1px, 1px, 1px);height: 1px;margin: -1px;overflow: hidden;padding: 0;position: absolute;width: 1px;}#sk-container-id-7 div.sk-estimator {font-family: monospace;background-color: #f0f8ff;border: 1px dotted black;border-radius: 0.25em;box-sizing: border-box;margin-bottom: 0.5em;}#sk-container-id-7 div.sk-estimator:hover {background-color: #d4ebff;}#sk-container-id-7 div.sk-parallel-item::after {content: \"\";width: 100%;border-bottom: 1px solid gray;flex-grow: 1;}#sk-container-id-7 div.sk-label:hover label.sk-toggleable__label {background-color: #d4ebff;}#sk-container-id-7 div.sk-serial::before {content: \"\";position: absolute;border-left: 1px solid gray;box-sizing: border-box;top: 0;bottom: 0;left: 50%;z-index: 0;}#sk-container-id-7 div.sk-serial {display: flex;flex-direction: column;align-items: center;background-color: white;padding-right: 0.2em;padding-left: 0.2em;position: relative;}#sk-container-id-7 div.sk-item {position: relative;z-index: 1;}#sk-container-id-7 div.sk-parallel {display: flex;align-items: stretch;justify-content: center;background-color: white;position: relative;}#sk-container-id-7 div.sk-item::before, #sk-container-id-7 div.sk-parallel-item::before {content: \"\";position: absolute;border-left: 1px solid gray;box-sizing: border-box;top: 0;bottom: 0;left: 50%;z-index: -1;}#sk-container-id-7 div.sk-parallel-item {display: flex;flex-direction: column;z-index: 1;position: relative;background-color: white;}#sk-container-id-7 div.sk-parallel-item:first-child::after {align-self: flex-end;width: 50%;}#sk-container-id-7 div.sk-parallel-item:last-child::after {align-self: flex-start;width: 50%;}#sk-container-id-7 div.sk-parallel-item:only-child::after {width: 0;}#sk-container-id-7 div.sk-dashed-wrapped {border: 1px dashed gray;margin: 0 0.4em 0.5em 0.4em;box-sizing: border-box;padding-bottom: 0.4em;background-color: white;}#sk-container-id-7 div.sk-label label {font-family: monospace;font-weight: bold;display: inline-block;line-height: 1.2em;}#sk-container-id-7 div.sk-label-container {text-align: center;}#sk-container-id-7 div.sk-container {/* jupyter's `normalize.less` sets `[hidden] { display: none; }` but bootstrap.min.css set `[hidden] { display: none !important; }` so we also need the `!important` here to be able to override the default hidden behavior on the sphinx rendered scikit-learn.org. See: https://github.com/scikit-learn/scikit-learn/issues/21755 */display: inline-block !important;position: relative;}#sk-container-id-7 div.sk-text-repr-fallback {display: none;}</style><div id=\"sk-container-id-7\" class=\"sk-top-container\"><div class=\"sk-text-repr-fallback\"><pre>LinearRegression()</pre><b>In a Jupyter environment, please rerun this cell to show the HTML representation or trust the notebook. <br />On GitHub, the HTML representation is unable to render, please try loading this page with nbviewer.org.</b></div><div class=\"sk-container\" hidden><div class=\"sk-item\"><div class=\"sk-estimator sk-toggleable\"><input class=\"sk-toggleable__control sk-hidden--visually\" id=\"sk-estimator-id-7\" type=\"checkbox\" checked><label for=\"sk-estimator-id-7\" class=\"sk-toggleable__label sk-toggleable__label-arrow\">LinearRegression</label><div class=\"sk-toggleable__content\"><pre>LinearRegression()</pre></div></div></div></div></div>"
      ],
      "text/plain": [
       "LinearRegression()"
      ]
     },
     "execution_count": 76,
     "metadata": {},
     "output_type": "execute_result"
    }
   ],
   "source": [
    "lm.fit(train[predictors],train[target])"
   ]
  },
  {
   "cell_type": "code",
   "execution_count": 77,
   "id": "aa63eef9",
   "metadata": {},
   "outputs": [],
   "source": [
    "predictions = lm.predict(test[predictors])\n",
    "predictions = pd.DataFrame(predictions, columns=[\"predictions\"], index=test.index)\n",
    "combination = pd.concat([test[[\"Player\", \"Year\"]], predictions], axis=1)"
   ]
  },
  {
   "cell_type": "markdown",
   "id": "8dba03b3",
   "metadata": {},
   "source": [
    "After re running the model with 2022 included as the training set, the projections for the 2023 rookies are below. Robinson and Gibbs at the top makes sense because they were high first round picks and their current ADP in fantasy is much higher than the rest. Devon Achane is a sleeper that I will be looking at following the conclusion of this model."
   ]
  },
  {
   "cell_type": "code",
   "execution_count": 78,
   "id": "25f4bcd5",
   "metadata": {},
   "outputs": [
    {
     "data": {
      "text/html": [
       "<div>\n",
       "<style scoped>\n",
       "    .dataframe tbody tr th:only-of-type {\n",
       "        vertical-align: middle;\n",
       "    }\n",
       "\n",
       "    .dataframe tbody tr th {\n",
       "        vertical-align: top;\n",
       "    }\n",
       "\n",
       "    .dataframe thead th {\n",
       "        text-align: right;\n",
       "    }\n",
       "</style>\n",
       "<table border=\"1\" class=\"dataframe\">\n",
       "  <thead>\n",
       "    <tr style=\"text-align: right;\">\n",
       "      <th></th>\n",
       "      <th>Player</th>\n",
       "      <th>Year</th>\n",
       "      <th>predictions</th>\n",
       "    </tr>\n",
       "  </thead>\n",
       "  <tbody>\n",
       "    <tr>\n",
       "      <th>0</th>\n",
       "      <td>Bijan Robinson</td>\n",
       "      <td>2023</td>\n",
       "      <td>10.250899</td>\n",
       "    </tr>\n",
       "    <tr>\n",
       "      <th>1</th>\n",
       "      <td>Jahmyr Gibbs</td>\n",
       "      <td>2023</td>\n",
       "      <td>9.373282</td>\n",
       "    </tr>\n",
       "    <tr>\n",
       "      <th>5</th>\n",
       "      <td>Devon Achane</td>\n",
       "      <td>2023</td>\n",
       "      <td>8.096718</td>\n",
       "    </tr>\n",
       "    <tr>\n",
       "      <th>6</th>\n",
       "      <td>Tank Bigsby</td>\n",
       "      <td>2023</td>\n",
       "      <td>7.004942</td>\n",
       "    </tr>\n",
       "    <tr>\n",
       "      <th>3</th>\n",
       "      <td>Kendre Miller</td>\n",
       "      <td>2023</td>\n",
       "      <td>6.903701</td>\n",
       "    </tr>\n",
       "    <tr>\n",
       "      <th>2</th>\n",
       "      <td>Zach Charbonnet</td>\n",
       "      <td>2023</td>\n",
       "      <td>6.595700</td>\n",
       "    </tr>\n",
       "    <tr>\n",
       "      <th>14</th>\n",
       "      <td>DeWayne McBride</td>\n",
       "      <td>2023</td>\n",
       "      <td>5.114798</td>\n",
       "    </tr>\n",
       "    <tr>\n",
       "      <th>7</th>\n",
       "      <td>Roschon Johnson</td>\n",
       "      <td>2023</td>\n",
       "      <td>4.570349</td>\n",
       "    </tr>\n",
       "    <tr>\n",
       "      <th>8</th>\n",
       "      <td>Israel Abanikanda</td>\n",
       "      <td>2023</td>\n",
       "      <td>4.213827</td>\n",
       "    </tr>\n",
       "    <tr>\n",
       "      <th>11</th>\n",
       "      <td>Chris Rodriguez Jr.</td>\n",
       "      <td>2023</td>\n",
       "      <td>3.264604</td>\n",
       "    </tr>\n",
       "    <tr>\n",
       "      <th>15</th>\n",
       "      <td>Lew Nichols</td>\n",
       "      <td>2023</td>\n",
       "      <td>3.059307</td>\n",
       "    </tr>\n",
       "    <tr>\n",
       "      <th>9</th>\n",
       "      <td>Chase Brown</td>\n",
       "      <td>2023</td>\n",
       "      <td>2.841149</td>\n",
       "    </tr>\n",
       "    <tr>\n",
       "      <th>13</th>\n",
       "      <td>Zach Evans</td>\n",
       "      <td>2023</td>\n",
       "      <td>2.290567</td>\n",
       "    </tr>\n",
       "    <tr>\n",
       "      <th>4</th>\n",
       "      <td>Tyjae Sparks</td>\n",
       "      <td>2023</td>\n",
       "      <td>1.566107</td>\n",
       "    </tr>\n",
       "    <tr>\n",
       "      <th>12</th>\n",
       "      <td>Deuce Vaughn</td>\n",
       "      <td>2023</td>\n",
       "      <td>1.062552</td>\n",
       "    </tr>\n",
       "  </tbody>\n",
       "</table>\n",
       "</div>"
      ],
      "text/plain": [
       "                 Player  Year  predictions\n",
       "0        Bijan Robinson  2023    10.250899\n",
       "1          Jahmyr Gibbs  2023     9.373282\n",
       "5          Devon Achane  2023     8.096718\n",
       "6           Tank Bigsby  2023     7.004942\n",
       "3         Kendre Miller  2023     6.903701\n",
       "2       Zach Charbonnet  2023     6.595700\n",
       "14      DeWayne McBride  2023     5.114798\n",
       "7       Roschon Johnson  2023     4.570349\n",
       "8     Israel Abanikanda  2023     4.213827\n",
       "11  Chris Rodriguez Jr.  2023     3.264604\n",
       "15          Lew Nichols  2023     3.059307\n",
       "9           Chase Brown  2023     2.841149\n",
       "13           Zach Evans  2023     2.290567\n",
       "4          Tyjae Sparks  2023     1.566107\n",
       "12         Deuce Vaughn  2023     1.062552"
      ]
     },
     "execution_count": 78,
     "metadata": {},
     "output_type": "execute_result"
    }
   ],
   "source": [
    "combination.sort_values(by='predictions', ascending=False).head(15)"
   ]
  },
  {
   "cell_type": "markdown",
   "id": "8274a1ca",
   "metadata": {},
   "source": [
    "The pick someone was drafted is so overwhelmingly important to a running back's results. Additionally, teammate performance is next most important. The talent of the running back himself (height, weight, 40 time) is seemingly not important compared to outside factors."
   ]
  },
  {
   "cell_type": "code",
   "execution_count": 79,
   "id": "cceeecfb",
   "metadata": {},
   "outputs": [
    {
     "data": {
      "text/plain": [
       "Pick                 0.000006\n",
       "Teammate G           0.040368\n",
       "Teammate Rush_Y/A    0.109989\n",
       "Teammate Rush_TD     0.117403\n",
       "Teammate Rush_Att    0.137379\n",
       "Teammate Rush_Y/G    0.290014\n",
       "Teammate Rush_Lng    0.496222\n",
       "Height               0.536900\n",
       "Weight               0.663800\n",
       "Age_x                0.687938\n",
       "Teammate Rush_Fmb    0.780952\n",
       "Teammate Age         0.796046\n",
       "Teammate Rush_Yds    0.796327\n",
       "Teammate Rush_1D     0.911236\n",
       "40 Time              0.919106\n",
       "dtype: float64"
      ]
     },
     "execution_count": 79,
     "metadata": {},
     "output_type": "execute_result"
    }
   ],
   "source": [
    "results = sm.OLS(train[target],train[predictors]).fit()\n",
    "p_value = results.pvalues[predictors]\n",
    "p_value.sort_values()"
   ]
  },
  {
   "cell_type": "code",
   "execution_count": 4,
   "id": "492864f6",
   "metadata": {},
   "outputs": [
    {
     "data": {
      "text/plain": [
       "Index(['Unnamed: 0', 'Player', 'Team', 'Year', 'Height', 'Weight', '40 Time',\n",
       "       'Pick', 'Teammate', 'Teammate Year', 'Tm_x', 'Age_x', 'Pos_x', 'G_x',\n",
       "       'GS_x', 'Rush_Att', 'Rush_Yds', 'Rush_TD', 'Rush_1D', 'Rush_Lng',\n",
       "       'Rush_Y/A', 'Rush_Y/G', 'Teammate Tm', 'Teammate Age', 'Teammate Pos',\n",
       "       'Teammate G', 'Teammate GS', 'Teammate Rush_Att', 'Teammate Rush_Yds',\n",
       "       'Teammate Rush_TD', 'Teammate Rush_1D', 'Teammate Rush_Lng',\n",
       "       'Teammate Rush_Y/A', 'Teammate Rush_Y/G', 'Teammate Rush_Fmb', 'Tgt',\n",
       "       'Rec', 'Yds', 'Y/R', 'TD', '1D', 'Lng', 'Y/Tgt', 'R/G', 'Y/G',\n",
       "       'Fumbles', 'Total FP', 'FPPG'],\n",
       "      dtype='object')"
      ]
     },
     "execution_count": 4,
     "metadata": {},
     "output_type": "execute_result"
    }
   ],
   "source": [
    "final_rb.columns"
   ]
  },
  {
   "cell_type": "markdown",
   "id": "34b6b121",
   "metadata": {},
   "source": [
    "### Support Vector Machines"
   ]
  },
  {
   "cell_type": "code",
   "execution_count": 18,
   "id": "3b780650",
   "metadata": {},
   "outputs": [],
   "source": [
    "def add_target_column(final_rb):\n",
    "    # Sort the dataframe by 'FPPG' column in descending order within each 'Year' group\n",
    "    final_rb_sorted = final_rb.groupby('Year', group_keys=False).apply(lambda x: x.nlargest(5, 'FPPG'))\n",
    "    \n",
    "    # Create the 'Target' column and set it to 1 for the top 5 rows, and 0 for the rest\n",
    "    final_rb_sorted['Target'] = 1\n",
    "    final_rb_sorted['Target'] = final_rb_sorted['Target'].fillna(0).astype(int)\n",
    "    \n",
    "    # Merge the sorted and updated dataframe back with the original dataframe\n",
    "    final_rb = final_rb.merge(final_rb_sorted[['Year', 'Player', 'Target']], on=['Year', 'Player'], how='left')\n",
    "    \n",
    "    return final_rb\n",
    "\n",
    "# Usage example:\n",
    "# Assuming 'final_rb' is your original dataframe\n",
    "new_rb = add_target_column(final_rb)"
   ]
  },
  {
   "cell_type": "code",
   "execution_count": 28,
   "id": "ae12064a",
   "metadata": {},
   "outputs": [],
   "source": [
    "new_rb = new_rb.fillna(0)"
   ]
  },
  {
   "cell_type": "code",
   "execution_count": 20,
   "id": "39765490",
   "metadata": {},
   "outputs": [],
   "source": [
    "predictors = ['Height', 'Weight', '40 Time', 'Pick', 'Age_x', 'Teammate Age', 'Teammate G',\n",
    "              'Teammate Rush_Att', 'Teammate Rush_Yds',\n",
    "           'Teammate Rush_TD', 'Teammate Rush_1D', 'Teammate Rush_Lng',\n",
    "           'Teammate Rush_Y/A', 'Teammate Rush_Y/G', 'Teammate Rush_Fmb']\n",
    "\n",
    "target = ['Target']"
   ]
  },
  {
   "cell_type": "markdown",
   "id": "e4fdef3d",
   "metadata": {},
   "source": [
    "The above code basically states that if a running back finished top 5 in fantasy points per game amongst rookies in his year, the target value is 1. Otherwise, it is 0."
   ]
  },
  {
   "cell_type": "code",
   "execution_count": 29,
   "id": "68d8a2eb",
   "metadata": {},
   "outputs": [],
   "source": [
    "train = new_rb[new_rb[\"Year\"].isin([2018, 2019, 2020, 2021])]\n",
    "test = new_rb[new_rb[\"Year\"] == 2022]"
   ]
  },
  {
   "cell_type": "code",
   "execution_count": 30,
   "id": "a07d4ef4",
   "metadata": {},
   "outputs": [
    {
     "name": "stderr",
     "output_type": "stream",
     "text": [
      "C:\\Users\\kevin\\anaconda3\\lib\\site-packages\\sklearn\\utils\\validation.py:1143: DataConversionWarning: A column-vector y was passed when a 1d array was expected. Please change the shape of y to (n_samples, ), for example using ravel().\n",
      "  y = column_or_1d(y, warn=True)\n"
     ]
    },
    {
     "data": {
      "text/html": [
       "<style>#sk-container-id-1 {color: black;background-color: white;}#sk-container-id-1 pre{padding: 0;}#sk-container-id-1 div.sk-toggleable {background-color: white;}#sk-container-id-1 label.sk-toggleable__label {cursor: pointer;display: block;width: 100%;margin-bottom: 0;padding: 0.3em;box-sizing: border-box;text-align: center;}#sk-container-id-1 label.sk-toggleable__label-arrow:before {content: \"▸\";float: left;margin-right: 0.25em;color: #696969;}#sk-container-id-1 label.sk-toggleable__label-arrow:hover:before {color: black;}#sk-container-id-1 div.sk-estimator:hover label.sk-toggleable__label-arrow:before {color: black;}#sk-container-id-1 div.sk-toggleable__content {max-height: 0;max-width: 0;overflow: hidden;text-align: left;background-color: #f0f8ff;}#sk-container-id-1 div.sk-toggleable__content pre {margin: 0.2em;color: black;border-radius: 0.25em;background-color: #f0f8ff;}#sk-container-id-1 input.sk-toggleable__control:checked~div.sk-toggleable__content {max-height: 200px;max-width: 100%;overflow: auto;}#sk-container-id-1 input.sk-toggleable__control:checked~label.sk-toggleable__label-arrow:before {content: \"▾\";}#sk-container-id-1 div.sk-estimator input.sk-toggleable__control:checked~label.sk-toggleable__label {background-color: #d4ebff;}#sk-container-id-1 div.sk-label input.sk-toggleable__control:checked~label.sk-toggleable__label {background-color: #d4ebff;}#sk-container-id-1 input.sk-hidden--visually {border: 0;clip: rect(1px 1px 1px 1px);clip: rect(1px, 1px, 1px, 1px);height: 1px;margin: -1px;overflow: hidden;padding: 0;position: absolute;width: 1px;}#sk-container-id-1 div.sk-estimator {font-family: monospace;background-color: #f0f8ff;border: 1px dotted black;border-radius: 0.25em;box-sizing: border-box;margin-bottom: 0.5em;}#sk-container-id-1 div.sk-estimator:hover {background-color: #d4ebff;}#sk-container-id-1 div.sk-parallel-item::after {content: \"\";width: 100%;border-bottom: 1px solid gray;flex-grow: 1;}#sk-container-id-1 div.sk-label:hover label.sk-toggleable__label {background-color: #d4ebff;}#sk-container-id-1 div.sk-serial::before {content: \"\";position: absolute;border-left: 1px solid gray;box-sizing: border-box;top: 0;bottom: 0;left: 50%;z-index: 0;}#sk-container-id-1 div.sk-serial {display: flex;flex-direction: column;align-items: center;background-color: white;padding-right: 0.2em;padding-left: 0.2em;position: relative;}#sk-container-id-1 div.sk-item {position: relative;z-index: 1;}#sk-container-id-1 div.sk-parallel {display: flex;align-items: stretch;justify-content: center;background-color: white;position: relative;}#sk-container-id-1 div.sk-item::before, #sk-container-id-1 div.sk-parallel-item::before {content: \"\";position: absolute;border-left: 1px solid gray;box-sizing: border-box;top: 0;bottom: 0;left: 50%;z-index: -1;}#sk-container-id-1 div.sk-parallel-item {display: flex;flex-direction: column;z-index: 1;position: relative;background-color: white;}#sk-container-id-1 div.sk-parallel-item:first-child::after {align-self: flex-end;width: 50%;}#sk-container-id-1 div.sk-parallel-item:last-child::after {align-self: flex-start;width: 50%;}#sk-container-id-1 div.sk-parallel-item:only-child::after {width: 0;}#sk-container-id-1 div.sk-dashed-wrapped {border: 1px dashed gray;margin: 0 0.4em 0.5em 0.4em;box-sizing: border-box;padding-bottom: 0.4em;background-color: white;}#sk-container-id-1 div.sk-label label {font-family: monospace;font-weight: bold;display: inline-block;line-height: 1.2em;}#sk-container-id-1 div.sk-label-container {text-align: center;}#sk-container-id-1 div.sk-container {/* jupyter's `normalize.less` sets `[hidden] { display: none; }` but bootstrap.min.css set `[hidden] { display: none !important; }` so we also need the `!important` here to be able to override the default hidden behavior on the sphinx rendered scikit-learn.org. See: https://github.com/scikit-learn/scikit-learn/issues/21755 */display: inline-block !important;position: relative;}#sk-container-id-1 div.sk-text-repr-fallback {display: none;}</style><div id=\"sk-container-id-1\" class=\"sk-top-container\"><div class=\"sk-text-repr-fallback\"><pre>SVC()</pre><b>In a Jupyter environment, please rerun this cell to show the HTML representation or trust the notebook. <br />On GitHub, the HTML representation is unable to render, please try loading this page with nbviewer.org.</b></div><div class=\"sk-container\" hidden><div class=\"sk-item\"><div class=\"sk-estimator sk-toggleable\"><input class=\"sk-toggleable__control sk-hidden--visually\" id=\"sk-estimator-id-1\" type=\"checkbox\" checked><label for=\"sk-estimator-id-1\" class=\"sk-toggleable__label sk-toggleable__label-arrow\">SVC</label><div class=\"sk-toggleable__content\"><pre>SVC()</pre></div></div></div></div></div>"
      ],
      "text/plain": [
       "SVC()"
      ]
     },
     "execution_count": 30,
     "metadata": {},
     "output_type": "execute_result"
    }
   ],
   "source": [
    "from sklearn.svm import SVC\n",
    "model = SVC()\n",
    "model.fit(train[predictors], train[target])"
   ]
  },
  {
   "cell_type": "code",
   "execution_count": 31,
   "id": "3426fe35",
   "metadata": {},
   "outputs": [],
   "source": [
    "predictions = model.predict(test[predictors])"
   ]
  },
  {
   "cell_type": "code",
   "execution_count": 32,
   "id": "64a4ce06",
   "metadata": {},
   "outputs": [],
   "source": [
    "from sklearn.metrics import classification_report,confusion_matrix"
   ]
  },
  {
   "cell_type": "markdown",
   "id": "7221762e",
   "metadata": {},
   "source": [
    "The model always selects the target as 0 when predicting. This model is useless."
   ]
  },
  {
   "cell_type": "code",
   "execution_count": 33,
   "id": "bcc21929",
   "metadata": {},
   "outputs": [
    {
     "name": "stdout",
     "output_type": "stream",
     "text": [
      "[[16  0]\n",
      " [ 5  0]]\n",
      "              precision    recall  f1-score   support\n",
      "\n",
      "         0.0       0.76      1.00      0.86        16\n",
      "         1.0       0.00      0.00      0.00         5\n",
      "\n",
      "    accuracy                           0.76        21\n",
      "   macro avg       0.38      0.50      0.43        21\n",
      "weighted avg       0.58      0.76      0.66        21\n",
      "\n"
     ]
    },
    {
     "name": "stderr",
     "output_type": "stream",
     "text": [
      "C:\\Users\\kevin\\anaconda3\\lib\\site-packages\\sklearn\\metrics\\_classification.py:1344: UndefinedMetricWarning: Precision and F-score are ill-defined and being set to 0.0 in labels with no predicted samples. Use `zero_division` parameter to control this behavior.\n",
      "  _warn_prf(average, modifier, msg_start, len(result))\n",
      "C:\\Users\\kevin\\anaconda3\\lib\\site-packages\\sklearn\\metrics\\_classification.py:1344: UndefinedMetricWarning: Precision and F-score are ill-defined and being set to 0.0 in labels with no predicted samples. Use `zero_division` parameter to control this behavior.\n",
      "  _warn_prf(average, modifier, msg_start, len(result))\n",
      "C:\\Users\\kevin\\anaconda3\\lib\\site-packages\\sklearn\\metrics\\_classification.py:1344: UndefinedMetricWarning: Precision and F-score are ill-defined and being set to 0.0 in labels with no predicted samples. Use `zero_division` parameter to control this behavior.\n",
      "  _warn_prf(average, modifier, msg_start, len(result))\n"
     ]
    }
   ],
   "source": [
    "print(confusion_matrix(test[target],predictions))\n",
    "print(classification_report(test[target],predictions))"
   ]
  },
  {
   "cell_type": "code",
   "execution_count": 35,
   "id": "ba231d2c",
   "metadata": {},
   "outputs": [],
   "source": [
    "param_grid = {'C': [0.1,1, 10, 100, 1000], 'gamma': [1,0.1,0.01,0.001,0.0001], 'kernel': ['rbf']} "
   ]
  },
  {
   "cell_type": "code",
   "execution_count": 36,
   "id": "b1b840cf",
   "metadata": {},
   "outputs": [],
   "source": [
    "from sklearn.model_selection import GridSearchCV"
   ]
  },
  {
   "cell_type": "code",
   "execution_count": 37,
   "id": "61777a7b",
   "metadata": {},
   "outputs": [],
   "source": [
    "grid = GridSearchCV(SVC(),param_grid,refit=True,verbose=3)"
   ]
  },
  {
   "cell_type": "code",
   "execution_count": null,
   "id": "a9df721f",
   "metadata": {},
   "outputs": [],
   "source": [
    "grid.fit(train[predictors], train[target])"
   ]
  },
  {
   "cell_type": "code",
   "execution_count": 39,
   "id": "741a450d",
   "metadata": {},
   "outputs": [
    {
     "data": {
      "text/plain": [
       "{'C': 10, 'gamma': 0.0001, 'kernel': 'rbf'}"
      ]
     },
     "execution_count": 39,
     "metadata": {},
     "output_type": "execute_result"
    }
   ],
   "source": [
    "grid.best_params_"
   ]
  },
  {
   "cell_type": "code",
   "execution_count": 40,
   "id": "552707cc",
   "metadata": {},
   "outputs": [
    {
     "data": {
      "text/html": [
       "<style>#sk-container-id-3 {color: black;background-color: white;}#sk-container-id-3 pre{padding: 0;}#sk-container-id-3 div.sk-toggleable {background-color: white;}#sk-container-id-3 label.sk-toggleable__label {cursor: pointer;display: block;width: 100%;margin-bottom: 0;padding: 0.3em;box-sizing: border-box;text-align: center;}#sk-container-id-3 label.sk-toggleable__label-arrow:before {content: \"▸\";float: left;margin-right: 0.25em;color: #696969;}#sk-container-id-3 label.sk-toggleable__label-arrow:hover:before {color: black;}#sk-container-id-3 div.sk-estimator:hover label.sk-toggleable__label-arrow:before {color: black;}#sk-container-id-3 div.sk-toggleable__content {max-height: 0;max-width: 0;overflow: hidden;text-align: left;background-color: #f0f8ff;}#sk-container-id-3 div.sk-toggleable__content pre {margin: 0.2em;color: black;border-radius: 0.25em;background-color: #f0f8ff;}#sk-container-id-3 input.sk-toggleable__control:checked~div.sk-toggleable__content {max-height: 200px;max-width: 100%;overflow: auto;}#sk-container-id-3 input.sk-toggleable__control:checked~label.sk-toggleable__label-arrow:before {content: \"▾\";}#sk-container-id-3 div.sk-estimator input.sk-toggleable__control:checked~label.sk-toggleable__label {background-color: #d4ebff;}#sk-container-id-3 div.sk-label input.sk-toggleable__control:checked~label.sk-toggleable__label {background-color: #d4ebff;}#sk-container-id-3 input.sk-hidden--visually {border: 0;clip: rect(1px 1px 1px 1px);clip: rect(1px, 1px, 1px, 1px);height: 1px;margin: -1px;overflow: hidden;padding: 0;position: absolute;width: 1px;}#sk-container-id-3 div.sk-estimator {font-family: monospace;background-color: #f0f8ff;border: 1px dotted black;border-radius: 0.25em;box-sizing: border-box;margin-bottom: 0.5em;}#sk-container-id-3 div.sk-estimator:hover {background-color: #d4ebff;}#sk-container-id-3 div.sk-parallel-item::after {content: \"\";width: 100%;border-bottom: 1px solid gray;flex-grow: 1;}#sk-container-id-3 div.sk-label:hover label.sk-toggleable__label {background-color: #d4ebff;}#sk-container-id-3 div.sk-serial::before {content: \"\";position: absolute;border-left: 1px solid gray;box-sizing: border-box;top: 0;bottom: 0;left: 50%;z-index: 0;}#sk-container-id-3 div.sk-serial {display: flex;flex-direction: column;align-items: center;background-color: white;padding-right: 0.2em;padding-left: 0.2em;position: relative;}#sk-container-id-3 div.sk-item {position: relative;z-index: 1;}#sk-container-id-3 div.sk-parallel {display: flex;align-items: stretch;justify-content: center;background-color: white;position: relative;}#sk-container-id-3 div.sk-item::before, #sk-container-id-3 div.sk-parallel-item::before {content: \"\";position: absolute;border-left: 1px solid gray;box-sizing: border-box;top: 0;bottom: 0;left: 50%;z-index: -1;}#sk-container-id-3 div.sk-parallel-item {display: flex;flex-direction: column;z-index: 1;position: relative;background-color: white;}#sk-container-id-3 div.sk-parallel-item:first-child::after {align-self: flex-end;width: 50%;}#sk-container-id-3 div.sk-parallel-item:last-child::after {align-self: flex-start;width: 50%;}#sk-container-id-3 div.sk-parallel-item:only-child::after {width: 0;}#sk-container-id-3 div.sk-dashed-wrapped {border: 1px dashed gray;margin: 0 0.4em 0.5em 0.4em;box-sizing: border-box;padding-bottom: 0.4em;background-color: white;}#sk-container-id-3 div.sk-label label {font-family: monospace;font-weight: bold;display: inline-block;line-height: 1.2em;}#sk-container-id-3 div.sk-label-container {text-align: center;}#sk-container-id-3 div.sk-container {/* jupyter's `normalize.less` sets `[hidden] { display: none; }` but bootstrap.min.css set `[hidden] { display: none !important; }` so we also need the `!important` here to be able to override the default hidden behavior on the sphinx rendered scikit-learn.org. See: https://github.com/scikit-learn/scikit-learn/issues/21755 */display: inline-block !important;position: relative;}#sk-container-id-3 div.sk-text-repr-fallback {display: none;}</style><div id=\"sk-container-id-3\" class=\"sk-top-container\"><div class=\"sk-text-repr-fallback\"><pre>SVC(C=10, gamma=0.0001)</pre><b>In a Jupyter environment, please rerun this cell to show the HTML representation or trust the notebook. <br />On GitHub, the HTML representation is unable to render, please try loading this page with nbviewer.org.</b></div><div class=\"sk-container\" hidden><div class=\"sk-item\"><div class=\"sk-estimator sk-toggleable\"><input class=\"sk-toggleable__control sk-hidden--visually\" id=\"sk-estimator-id-5\" type=\"checkbox\" checked><label for=\"sk-estimator-id-5\" class=\"sk-toggleable__label sk-toggleable__label-arrow\">SVC</label><div class=\"sk-toggleable__content\"><pre>SVC(C=10, gamma=0.0001)</pre></div></div></div></div></div>"
      ],
      "text/plain": [
       "SVC(C=10, gamma=0.0001)"
      ]
     },
     "execution_count": 40,
     "metadata": {},
     "output_type": "execute_result"
    }
   ],
   "source": [
    "grid.best_estimator_"
   ]
  },
  {
   "cell_type": "code",
   "execution_count": 41,
   "id": "2f8f5bbf",
   "metadata": {},
   "outputs": [],
   "source": [
    "grid_predictions = grid.predict(test[predictors])"
   ]
  },
  {
   "cell_type": "markdown",
   "id": "9d4b68c8",
   "metadata": {},
   "source": [
    "Even after testing many models, the model only recalls 1 in 5 of correct answers for running backs that finish in the top 5 for the year."
   ]
  },
  {
   "cell_type": "code",
   "execution_count": 42,
   "id": "f479c405",
   "metadata": {},
   "outputs": [
    {
     "name": "stdout",
     "output_type": "stream",
     "text": [
      "[[13  3]\n",
      " [ 4  1]]\n",
      "              precision    recall  f1-score   support\n",
      "\n",
      "         0.0       0.76      0.81      0.79        16\n",
      "         1.0       0.25      0.20      0.22         5\n",
      "\n",
      "    accuracy                           0.67        21\n",
      "   macro avg       0.51      0.51      0.51        21\n",
      "weighted avg       0.64      0.67      0.65        21\n",
      "\n"
     ]
    }
   ],
   "source": [
    "print(confusion_matrix(test[target],grid_predictions))\n",
    "print(classification_report(test[target],grid_predictions))"
   ]
  },
  {
   "cell_type": "markdown",
   "id": "146c7557",
   "metadata": {},
   "source": [
    "Even the best parameters for a Support Vector Maachine only correctly predicted 1 out of 5 of the top RB rookie finishes in 2022. SVM is not a model we need to continue looking at for the WRs in part 3."
   ]
  },
  {
   "cell_type": "markdown",
   "id": "7330d83b",
   "metadata": {},
   "source": [
    "### K Means Clustering"
   ]
  },
  {
   "cell_type": "markdown",
   "id": "d5f8d8d3",
   "metadata": {},
   "source": [
    "This function creates a new data set with only the top 5 running backs for each year. We will attempt to perform cluster analysis to see if we can spot trends in the rookies that succeed."
   ]
  },
  {
   "cell_type": "code",
   "execution_count": 13,
   "id": "32943e64",
   "metadata": {},
   "outputs": [],
   "source": [
    "def yearly_outperformers(df, group):\n",
    "    # Grouping the DataFrame by 'Year'\n",
    "    groups = df.groupby(group)\n",
    "\n",
    "    # Sorting the groups based on 'WS/48_diff' column and retrieving the top 15 results\n",
    "    top_results = groups.apply(lambda x: x.sort_values('FPPG', ascending=False).head(5))\n",
    "\n",
    "    # Resetting the index of the DataFrame\n",
    "    top_results = top_results.reset_index(drop=True)\n",
    "\n",
    "    return top_results"
   ]
  },
  {
   "cell_type": "code",
   "execution_count": 14,
   "id": "df6debc9",
   "metadata": {},
   "outputs": [],
   "source": [
    "temp = yearly_outperformers(final_rb, 'Year')\n",
    "top_rbs = temp[temp[\"Year\"].isin([2018, 2019, 2020, 2021, 2022])]"
   ]
  },
  {
   "cell_type": "code",
   "execution_count": 16,
   "id": "2d86c83a",
   "metadata": {},
   "outputs": [],
   "source": [
    "top_rbs = top_rbs.drop('Unnamed: 0', axis=1)"
   ]
  },
  {
   "cell_type": "code",
   "execution_count": 17,
   "id": "b7b972ad",
   "metadata": {},
   "outputs": [],
   "source": [
    "top_rbs.to_csv('C:/Users/kevin/Downloads/Top 5 RBs 2018-2022.csv', index = False)"
   ]
  },
  {
   "cell_type": "code",
   "execution_count": 44,
   "id": "b64e8495",
   "metadata": {},
   "outputs": [],
   "source": [
    "from sklearn.cluster import KMeans\n",
    "from sklearn.metrics import silhouette_score"
   ]
  },
  {
   "cell_type": "code",
   "execution_count": 49,
   "id": "1d00ee66",
   "metadata": {},
   "outputs": [],
   "source": [
    "predictors = ['Height', 'Weight', '40 Time', 'Pick', 'Age_x', 'Teammate Age', 'Teammate G',\n",
    "              'Teammate Rush_Att', 'Teammate Rush_Yds',\n",
    "           'Teammate Rush_TD', 'Teammate Rush_1D', 'Teammate Rush_Lng',\n",
    "           'Teammate Rush_Y/A', 'Teammate Rush_Y/G', 'Teammate Rush_Fmb']\n",
    "\n",
    "target = ['FPPG']"
   ]
  },
  {
   "cell_type": "code",
   "execution_count": 60,
   "id": "ea74f2a9",
   "metadata": {},
   "outputs": [],
   "source": [
    "train = top_rbs[top_rbs[\"Year\"].isin([2018, 2019, 2020, 2021, 2022])]"
   ]
  },
  {
   "cell_type": "code",
   "execution_count": null,
   "id": "8456bae3",
   "metadata": {},
   "outputs": [],
   "source": [
    "silhouette = []\n",
    "\n",
    "for n_clusters in range(2, 20):\n",
    "    kmeans = KMeans(n_clusters=n_clusters, random_state=99)\n",
    "    cluster_labels = kmeans.fit_predict(train[predictors])\n",
    "    \n",
    "    centers = kmeans.cluster_centers_\n",
    "    \n",
    "    score = silhouette_score(train[predictors], cluster_labels)\n",
    "    silhouette.append(score)\n",
    "    print('For n_clusters = {}, silhouette score is {}'.format(n_clusters, score))"
   ]
  },
  {
   "cell_type": "code",
   "execution_count": 62,
   "id": "a9e583eb",
   "metadata": {},
   "outputs": [
    {
     "data": {
      "text/plain": [
       "Text(0.5, 0.98, 'Identifying Optimal Cluster #')"
      ]
     },
     "execution_count": 62,
     "metadata": {},
     "output_type": "execute_result"
    },
    {
     "data": {
      "image/png": "[encoded data removed]",
      "text/plain": [
       "<Figure size 640x480 with 1 Axes>"
      ]
     },
     "metadata": {},
     "output_type": "display_data"
    }
   ],
   "source": [
    "plt.style.use('fivethirtyeight')\n",
    "\n",
    "silhouette_fig, ax = plt.subplots()\n",
    "\n",
    "ax.plot(range(2,20), silhouette)\n",
    "\n",
    "ax.set_xlabel('Number of clusters')\n",
    "ax.set_ylabel('Silhouette score')\n",
    "\n",
    "ax.set_xticks(np.arange(2,21, 3.0))\n",
    "\n",
    "silhouette_fig.suptitle('Identifying Optimal Cluster #', weight = 'bold', size = 18)"
   ]
  },
  {
   "cell_type": "markdown",
   "id": "07e509df",
   "metadata": {},
   "source": [
    "2 or 3 clusters is best."
   ]
  },
  {
   "cell_type": "code",
   "execution_count": 65,
   "id": "24b9922e",
   "metadata": {},
   "outputs": [
    {
     "name": "stderr",
     "output_type": "stream",
     "text": [
      "C:\\Users\\kevin\\anaconda3\\lib\\site-packages\\sklearn\\cluster\\_kmeans.py:870: FutureWarning: The default value of `n_init` will change from 10 to 'auto' in 1.4. Set the value of `n_init` explicitly to suppress the warning\n",
      "  warnings.warn(\n",
      "C:\\Users\\kevin\\anaconda3\\lib\\site-packages\\sklearn\\cluster\\_kmeans.py:1382: UserWarning: KMeans is known to have a memory leak on Windows with MKL, when there are less chunks than available threads. You can avoid it by setting the environment variable OMP_NUM_THREADS=1.\n",
      "  warnings.warn(\n"
     ]
    }
   ],
   "source": [
    "kmeans = KMeans(n_clusters = 5, random_state = 1)\n",
    "kmeans.fit(train[predictors])\n",
    "\n",
    "y_kmeans = kmeans.predict(train[predictors])"
   ]
  },
  {
   "cell_type": "code",
   "execution_count": 66,
   "id": "9f055e42",
   "metadata": {},
   "outputs": [
    {
     "data": {
      "text/html": [
       "<div>\n",
       "<style scoped>\n",
       "    .dataframe tbody tr th:only-of-type {\n",
       "        vertical-align: middle;\n",
       "    }\n",
       "\n",
       "    .dataframe tbody tr th {\n",
       "        vertical-align: top;\n",
       "    }\n",
       "\n",
       "    .dataframe thead th {\n",
       "        text-align: right;\n",
       "    }\n",
       "</style>\n",
       "<table border=\"1\" class=\"dataframe\">\n",
       "  <thead>\n",
       "    <tr style=\"text-align: right;\">\n",
       "      <th></th>\n",
       "      <th>Player</th>\n",
       "      <th>Cluster</th>\n",
       "    </tr>\n",
       "  </thead>\n",
       "  <tbody>\n",
       "    <tr>\n",
       "      <th>11</th>\n",
       "      <td>Miles Sanders</td>\n",
       "      <td>0</td>\n",
       "    </tr>\n",
       "    <tr>\n",
       "      <th>22</th>\n",
       "      <td>Javonte Williams</td>\n",
       "      <td>0</td>\n",
       "    </tr>\n",
       "    <tr>\n",
       "      <th>16</th>\n",
       "      <td>D'Andre Swift</td>\n",
       "      <td>0</td>\n",
       "    </tr>\n",
       "    <tr>\n",
       "      <th>29</th>\n",
       "      <td>Tyler Badie</td>\n",
       "      <td>1</td>\n",
       "    </tr>\n",
       "    <tr>\n",
       "      <th>27</th>\n",
       "      <td>Dameon Pierce</td>\n",
       "      <td>1</td>\n",
       "    </tr>\n",
       "    <tr>\n",
       "      <th>7</th>\n",
       "      <td>Nick Chubb</td>\n",
       "      <td>1</td>\n",
       "    </tr>\n",
       "    <tr>\n",
       "      <th>8</th>\n",
       "      <td>Sony Michel</td>\n",
       "      <td>1</td>\n",
       "    </tr>\n",
       "    <tr>\n",
       "      <th>23</th>\n",
       "      <td>Michael Carter</td>\n",
       "      <td>1</td>\n",
       "    </tr>\n",
       "    <tr>\n",
       "      <th>15</th>\n",
       "      <td>Jonathan Taylor</td>\n",
       "      <td>1</td>\n",
       "    </tr>\n",
       "    <tr>\n",
       "      <th>21</th>\n",
       "      <td>Elijah Mitchell</td>\n",
       "      <td>1</td>\n",
       "    </tr>\n",
       "    <tr>\n",
       "      <th>26</th>\n",
       "      <td>Kenneth Walker III</td>\n",
       "      <td>2</td>\n",
       "    </tr>\n",
       "    <tr>\n",
       "      <th>25</th>\n",
       "      <td>Breece Hall</td>\n",
       "      <td>2</td>\n",
       "    </tr>\n",
       "    <tr>\n",
       "      <th>24</th>\n",
       "      <td>Rhamondre Stevenson</td>\n",
       "      <td>2</td>\n",
       "    </tr>\n",
       "    <tr>\n",
       "      <th>19</th>\n",
       "      <td>Zack Moss</td>\n",
       "      <td>2</td>\n",
       "    </tr>\n",
       "    <tr>\n",
       "      <th>17</th>\n",
       "      <td>Clyde Edwards-Helaire</td>\n",
       "      <td>2</td>\n",
       "    </tr>\n",
       "    <tr>\n",
       "      <th>28</th>\n",
       "      <td>Tyler Allgeier</td>\n",
       "      <td>2</td>\n",
       "    </tr>\n",
       "    <tr>\n",
       "      <th>12</th>\n",
       "      <td>Devin Singletary</td>\n",
       "      <td>2</td>\n",
       "    </tr>\n",
       "    <tr>\n",
       "      <th>6</th>\n",
       "      <td>Kerryon Johnson</td>\n",
       "      <td>2</td>\n",
       "    </tr>\n",
       "    <tr>\n",
       "      <th>18</th>\n",
       "      <td>J.K. Dobbins</td>\n",
       "      <td>2</td>\n",
       "    </tr>\n",
       "    <tr>\n",
       "      <th>20</th>\n",
       "      <td>Najee Harris</td>\n",
       "      <td>3</td>\n",
       "    </tr>\n",
       "    <tr>\n",
       "      <th>13</th>\n",
       "      <td>David Montgomery</td>\n",
       "      <td>3</td>\n",
       "    </tr>\n",
       "    <tr>\n",
       "      <th>10</th>\n",
       "      <td>Josh Jacobs</td>\n",
       "      <td>3</td>\n",
       "    </tr>\n",
       "    <tr>\n",
       "      <th>9</th>\n",
       "      <td>Nyheim Hines</td>\n",
       "      <td>3</td>\n",
       "    </tr>\n",
       "    <tr>\n",
       "      <th>5</th>\n",
       "      <td>Saquon Barkley</td>\n",
       "      <td>3</td>\n",
       "    </tr>\n",
       "    <tr>\n",
       "      <th>14</th>\n",
       "      <td>Tony Pollard</td>\n",
       "      <td>4</td>\n",
       "    </tr>\n",
       "  </tbody>\n",
       "</table>\n",
       "</div>"
      ],
      "text/plain": [
       "                   Player  Cluster\n",
       "11          Miles Sanders        0\n",
       "22       Javonte Williams        0\n",
       "16          D'Andre Swift        0\n",
       "29            Tyler Badie        1\n",
       "27          Dameon Pierce        1\n",
       "7              Nick Chubb        1\n",
       "8             Sony Michel        1\n",
       "23         Michael Carter        1\n",
       "15        Jonathan Taylor        1\n",
       "21        Elijah Mitchell        1\n",
       "26     Kenneth Walker III        2\n",
       "25            Breece Hall        2\n",
       "24    Rhamondre Stevenson        2\n",
       "19              Zack Moss        2\n",
       "17  Clyde Edwards-Helaire        2\n",
       "28         Tyler Allgeier        2\n",
       "12       Devin Singletary        2\n",
       "6         Kerryon Johnson        2\n",
       "18           J.K. Dobbins        2\n",
       "20           Najee Harris        3\n",
       "13       David Montgomery        3\n",
       "10            Josh Jacobs        3\n",
       "9            Nyheim Hines        3\n",
       "5          Saquon Barkley        3\n",
       "14           Tony Pollard        4"
      ]
     },
     "execution_count": 66,
     "metadata": {},
     "output_type": "execute_result"
    }
   ],
   "source": [
    "df_cluster = pd.DataFrame()\n",
    "\n",
    "df_cluster['Player'] = train['Player']\n",
    "df_cluster['Cluster'] = y_kmeans\n",
    "df_cluster.sort_values(by='Cluster')"
   ]
  },
  {
   "cell_type": "markdown",
   "id": "c753654d",
   "metadata": {},
   "source": [
    "2 clusters had the highest silhouette score but there was no insight there. Here with 5 clusters, there are a few noticeable breakdowns: Cluster 0 seems to be quick, explosive backs with good draft capital (all second rounders). CLuster 1 is bruising, rushing focused guys who had large carrying responsibility early. Cluster 2 is guys with decent draft capital who are strong pass catchers (with exception to Allgeier and Dobbins). Cluster 3 does not have a noticeable trend beyond the fact that three of the players are first round picks (Montgomery and Hines are probably miscast in this cluster). Tony Pollard seems to be an exception no matter how many clusters I run."
   ]
  },
  {
   "cell_type": "code",
   "execution_count": null,
   "id": "010f5f4b",
   "metadata": {},
   "outputs": [],
   "source": []
  }
 ],
 "metadata": {
  "kernelspec": {
   "display_name": "Python 3 (ipykernel)",
   "language": "python",
   "name": "python3"
  },
  "language_info": {
   "codemirror_mode": {
    "name": "ipython",
    "version": 3
   },
   "file_extension": ".py",
   "mimetype": "text/x-python",
   "name": "python",
   "nbconvert_exporter": "python",
   "pygments_lexer": "ipython3",
   "version": "3.8.16"
  }
 },
 "nbformat": 4,
 "nbformat_minor": 5
}
