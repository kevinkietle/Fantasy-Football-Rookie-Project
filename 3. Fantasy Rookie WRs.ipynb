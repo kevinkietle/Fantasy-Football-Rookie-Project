{
 "cells": [
  {
   "cell_type": "markdown",
   "id": "4e198e5a",
   "metadata": {},
   "source": [
    "## NFL Fantasy Rookie Project Part 2 - Wide Receivers"
   ]
  },
  {
   "cell_type": "markdown",
   "id": "709473be",
   "metadata": {},
   "source": [
    "### Imports"
   ]
  },
  {
   "cell_type": "code",
   "execution_count": 4,
   "id": "8c939bb2",
   "metadata": {},
   "outputs": [],
   "source": [
    "import pandas as pd\n",
    "import numpy as np\n",
    "import matplotlib.pyplot as plt\n",
    "import seaborn as sns\n",
    "%matplotlib inline"
   ]
  },
  {
   "cell_type": "code",
   "execution_count": 5,
   "id": "5b0f84db",
   "metadata": {},
   "outputs": [],
   "source": [
    "final_wr = pd.read_csv('C:/Users/kevin/Downloads/Full Receiving Model 2017-2022.csv')"
   ]
  },
  {
   "cell_type": "code",
   "execution_count": 3,
   "id": "ad9c5247",
   "metadata": {},
   "outputs": [],
   "source": [
    "from sklearn.model_selection import train_test_split\n",
    "from sklearn.linear_model import LinearRegression"
   ]
  },
  {
   "cell_type": "code",
   "execution_count": 4,
   "id": "98018be8",
   "metadata": {},
   "outputs": [
    {
     "data": {
      "text/plain": [
       "Index(['Player', 'Team', 'Year', 'Height', 'Weight', '40 Time', 'Pick',\n",
       "       'Teammate', 'Teammate Year', 'Tm', 'Age', 'Pos', 'G', 'GS', 'Tgt',\n",
       "       'Rec', 'Yds', 'Y/R', 'TD', '1D', 'Lng', 'Y/Tgt', 'R/G', 'Y/G', 'Fmb',\n",
       "       'Teammate Tm', 'Teammate Age', 'Teammate Pos', 'Teammate G',\n",
       "       'Teammate GS', 'Teammate Tgt', 'Teammate Rec', 'Teammate Yds',\n",
       "       'Teammate Y/R', 'Teammate TD', 'Teammate 1D', 'Teammate Lng',\n",
       "       'Teammate Y/Tgt', 'Teammate R/G', 'Teammate Y/G', 'Teammate Fmb',\n",
       "       'Total FP', 'FPPG'],\n",
       "      dtype='object')"
      ]
     },
     "execution_count": 4,
     "metadata": {},
     "output_type": "execute_result"
    }
   ],
   "source": [
    "final_wr.columns"
   ]
  },
  {
   "cell_type": "markdown",
   "id": "f1e697ef",
   "metadata": {},
   "source": [
    "### Linear Regression"
   ]
  },
  {
   "cell_type": "code",
   "execution_count": 12,
   "id": "1e712812",
   "metadata": {},
   "outputs": [],
   "source": [
    "predictors = ['Height', 'Weight', '40 Time', 'Pick', 'Age', 'Teammate Age', 'Teammate G',\n",
    "              'Teammate Tgt', 'Teammate Rec', 'Teammate Yds',\n",
    "           'Teammate Y/R', 'Teammate TD', 'Teammate 1D', 'Teammate Lng',\n",
    "           'Teammate Y/Tgt', 'Teammate R/G', 'Teammate Y/G', 'Teammate Fmb']\n",
    "\n",
    "target = ['FPPG']"
   ]
  },
  {
   "cell_type": "code",
   "execution_count": 13,
   "id": "e942f25c",
   "metadata": {},
   "outputs": [],
   "source": [
    "train = final_wr[final_wr[\"Year\"].isin([2018, 2019, 2020, 2021])]\n",
    "test = final_wr[final_wr[\"Year\"] == 2022]"
   ]
  },
  {
   "cell_type": "code",
   "execution_count": 14,
   "id": "7f4af8c1",
   "metadata": {},
   "outputs": [],
   "source": [
    "lm = LinearRegression()"
   ]
  },
  {
   "cell_type": "code",
   "execution_count": 15,
   "id": "481f2b97",
   "metadata": {},
   "outputs": [
    {
     "data": {
      "text/html": [
       "<style>#sk-container-id-1 {color: black;background-color: white;}#sk-container-id-1 pre{padding: 0;}#sk-container-id-1 div.sk-toggleable {background-color: white;}#sk-container-id-1 label.sk-toggleable__label {cursor: pointer;display: block;width: 100%;margin-bottom: 0;padding: 0.3em;box-sizing: border-box;text-align: center;}#sk-container-id-1 label.sk-toggleable__label-arrow:before {content: \"▸\";float: left;margin-right: 0.25em;color: #696969;}#sk-container-id-1 label.sk-toggleable__label-arrow:hover:before {color: black;}#sk-container-id-1 div.sk-estimator:hover label.sk-toggleable__label-arrow:before {color: black;}#sk-container-id-1 div.sk-toggleable__content {max-height: 0;max-width: 0;overflow: hidden;text-align: left;background-color: #f0f8ff;}#sk-container-id-1 div.sk-toggleable__content pre {margin: 0.2em;color: black;border-radius: 0.25em;background-color: #f0f8ff;}#sk-container-id-1 input.sk-toggleable__control:checked~div.sk-toggleable__content {max-height: 200px;max-width: 100%;overflow: auto;}#sk-container-id-1 input.sk-toggleable__control:checked~label.sk-toggleable__label-arrow:before {content: \"▾\";}#sk-container-id-1 div.sk-estimator input.sk-toggleable__control:checked~label.sk-toggleable__label {background-color: #d4ebff;}#sk-container-id-1 div.sk-label input.sk-toggleable__control:checked~label.sk-toggleable__label {background-color: #d4ebff;}#sk-container-id-1 input.sk-hidden--visually {border: 0;clip: rect(1px 1px 1px 1px);clip: rect(1px, 1px, 1px, 1px);height: 1px;margin: -1px;overflow: hidden;padding: 0;position: absolute;width: 1px;}#sk-container-id-1 div.sk-estimator {font-family: monospace;background-color: #f0f8ff;border: 1px dotted black;border-radius: 0.25em;box-sizing: border-box;margin-bottom: 0.5em;}#sk-container-id-1 div.sk-estimator:hover {background-color: #d4ebff;}#sk-container-id-1 div.sk-parallel-item::after {content: \"\";width: 100%;border-bottom: 1px solid gray;flex-grow: 1;}#sk-container-id-1 div.sk-label:hover label.sk-toggleable__label {background-color: #d4ebff;}#sk-container-id-1 div.sk-serial::before {content: \"\";position: absolute;border-left: 1px solid gray;box-sizing: border-box;top: 0;bottom: 0;left: 50%;z-index: 0;}#sk-container-id-1 div.sk-serial {display: flex;flex-direction: column;align-items: center;background-color: white;padding-right: 0.2em;padding-left: 0.2em;position: relative;}#sk-container-id-1 div.sk-item {position: relative;z-index: 1;}#sk-container-id-1 div.sk-parallel {display: flex;align-items: stretch;justify-content: center;background-color: white;position: relative;}#sk-container-id-1 div.sk-item::before, #sk-container-id-1 div.sk-parallel-item::before {content: \"\";position: absolute;border-left: 1px solid gray;box-sizing: border-box;top: 0;bottom: 0;left: 50%;z-index: -1;}#sk-container-id-1 div.sk-parallel-item {display: flex;flex-direction: column;z-index: 1;position: relative;background-color: white;}#sk-container-id-1 div.sk-parallel-item:first-child::after {align-self: flex-end;width: 50%;}#sk-container-id-1 div.sk-parallel-item:last-child::after {align-self: flex-start;width: 50%;}#sk-container-id-1 div.sk-parallel-item:only-child::after {width: 0;}#sk-container-id-1 div.sk-dashed-wrapped {border: 1px dashed gray;margin: 0 0.4em 0.5em 0.4em;box-sizing: border-box;padding-bottom: 0.4em;background-color: white;}#sk-container-id-1 div.sk-label label {font-family: monospace;font-weight: bold;display: inline-block;line-height: 1.2em;}#sk-container-id-1 div.sk-label-container {text-align: center;}#sk-container-id-1 div.sk-container {/* jupyter's `normalize.less` sets `[hidden] { display: none; }` but bootstrap.min.css set `[hidden] { display: none !important; }` so we also need the `!important` here to be able to override the default hidden behavior on the sphinx rendered scikit-learn.org. See: https://github.com/scikit-learn/scikit-learn/issues/21755 */display: inline-block !important;position: relative;}#sk-container-id-1 div.sk-text-repr-fallback {display: none;}</style><div id=\"sk-container-id-1\" class=\"sk-top-container\"><div class=\"sk-text-repr-fallback\"><pre>LinearRegression()</pre><b>In a Jupyter environment, please rerun this cell to show the HTML representation or trust the notebook. <br />On GitHub, the HTML representation is unable to render, please try loading this page with nbviewer.org.</b></div><div class=\"sk-container\" hidden><div class=\"sk-item\"><div class=\"sk-estimator sk-toggleable\"><input class=\"sk-toggleable__control sk-hidden--visually\" id=\"sk-estimator-id-1\" type=\"checkbox\" checked><label for=\"sk-estimator-id-1\" class=\"sk-toggleable__label sk-toggleable__label-arrow\">LinearRegression</label><div class=\"sk-toggleable__content\"><pre>LinearRegression()</pre></div></div></div></div></div>"
      ],
      "text/plain": [
       "LinearRegression()"
      ]
     },
     "execution_count": 15,
     "metadata": {},
     "output_type": "execute_result"
    }
   ],
   "source": [
    "lm.fit(train[predictors],train[target])"
   ]
  },
  {
   "cell_type": "code",
   "execution_count": 16,
   "id": "e291c055",
   "metadata": {},
   "outputs": [],
   "source": [
    "predictions = lm.predict(test[predictors])\n",
    "predictions = pd.DataFrame(predictions, columns=[\"predictions\"], index=test.index)\n",
    "combination = pd.concat([test[[\"Player\", \"Year\", \"FPPG\"]], predictions], axis=1)"
   ]
  },
  {
   "cell_type": "code",
   "execution_count": 17,
   "id": "0a3274c5",
   "metadata": {},
   "outputs": [],
   "source": [
    "from sklearn import metrics"
   ]
  },
  {
   "cell_type": "code",
   "execution_count": 18,
   "id": "c6bd0dfe",
   "metadata": {},
   "outputs": [
    {
     "name": "stdout",
     "output_type": "stream",
     "text": [
      "MAE: 2.929810256351955\n",
      "MSE: 11.531533844542086\n",
      "RMSE: 3.395811220392277\n",
      "R-squared:  0.46819852471588563\n",
      "R:  0.684250337753578\n"
     ]
    }
   ],
   "source": [
    "print('MAE:', metrics.mean_absolute_error(combination[\"FPPG\"], combination[\"predictions\"]))\n",
    "print('MSE:', metrics.mean_squared_error(combination[\"FPPG\"], combination[\"predictions\"]))\n",
    "print('RMSE:', np.sqrt(metrics.mean_squared_error(combination[\"FPPG\"], combination[\"predictions\"])))\n",
    "print('R-squared: ', metrics.explained_variance_score(combination[\"FPPG\"], combination[\"predictions\"]))\n",
    "print('R: ', np.sqrt(metrics.explained_variance_score(combination[\"FPPG\"], combination[\"predictions\"])))"
   ]
  },
  {
   "cell_type": "markdown",
   "id": "eb4cef4b",
   "metadata": {},
   "source": [
    "Like the running back model, the wide receiver linear regression model is pretty strong with an R score of 0.68. In fact, it is even stronger. Despite that, there is more variance in my predicted top 10 compared to actuals. 3 of the actual top 5 finishes are not included in the model's top 5."
   ]
  },
  {
   "cell_type": "code",
   "execution_count": 19,
   "id": "416034d0",
   "metadata": {},
   "outputs": [
    {
     "data": {
      "text/html": [
       "<div>\n",
       "<style scoped>\n",
       "    .dataframe tbody tr th:only-of-type {\n",
       "        vertical-align: middle;\n",
       "    }\n",
       "\n",
       "    .dataframe tbody tr th {\n",
       "        vertical-align: top;\n",
       "    }\n",
       "\n",
       "    .dataframe thead th {\n",
       "        text-align: right;\n",
       "    }\n",
       "</style>\n",
       "<table border=\"1\" class=\"dataframe\">\n",
       "  <thead>\n",
       "    <tr style=\"text-align: right;\">\n",
       "      <th></th>\n",
       "      <th>Player</th>\n",
       "      <th>Year</th>\n",
       "      <th>FPPG</th>\n",
       "      <th>predictions</th>\n",
       "    </tr>\n",
       "  </thead>\n",
       "  <tbody>\n",
       "    <tr>\n",
       "      <th>39</th>\n",
       "      <td>Wan'Dale Robinson</td>\n",
       "      <td>2022</td>\n",
       "      <td>8.616667</td>\n",
       "      <td>10.319747</td>\n",
       "    </tr>\n",
       "    <tr>\n",
       "      <th>33</th>\n",
       "      <td>Garrett Wilson</td>\n",
       "      <td>2022</td>\n",
       "      <td>12.547059</td>\n",
       "      <td>10.051383</td>\n",
       "    </tr>\n",
       "    <tr>\n",
       "      <th>37</th>\n",
       "      <td>Treylon Burks</td>\n",
       "      <td>2022</td>\n",
       "      <td>7.581818</td>\n",
       "      <td>9.149927</td>\n",
       "    </tr>\n",
       "    <tr>\n",
       "      <th>35</th>\n",
       "      <td>Jameson Williams</td>\n",
       "      <td>2022</td>\n",
       "      <td>1.850000</td>\n",
       "      <td>8.763569</td>\n",
       "    </tr>\n",
       "    <tr>\n",
       "      <th>34</th>\n",
       "      <td>Chris Olave</td>\n",
       "      <td>2022</td>\n",
       "      <td>13.080000</td>\n",
       "      <td>8.643032</td>\n",
       "    </tr>\n",
       "    <tr>\n",
       "      <th>41</th>\n",
       "      <td>Tyquan Thornton</td>\n",
       "      <td>2022</td>\n",
       "      <td>4.515385</td>\n",
       "      <td>8.583028</td>\n",
       "    </tr>\n",
       "    <tr>\n",
       "      <th>38</th>\n",
       "      <td>Christian Watson</td>\n",
       "      <td>2022</td>\n",
       "      <td>10.292857</td>\n",
       "      <td>8.054930</td>\n",
       "    </tr>\n",
       "    <tr>\n",
       "      <th>32</th>\n",
       "      <td>Drake London</td>\n",
       "      <td>2022</td>\n",
       "      <td>10.388235</td>\n",
       "      <td>7.957112</td>\n",
       "    </tr>\n",
       "    <tr>\n",
       "      <th>36</th>\n",
       "      <td>Jahan Dotson</td>\n",
       "      <td>2022</td>\n",
       "      <td>10.775000</td>\n",
       "      <td>7.705079</td>\n",
       "    </tr>\n",
       "    <tr>\n",
       "      <th>42</th>\n",
       "      <td>George Pickens</td>\n",
       "      <td>2022</td>\n",
       "      <td>9.182353</td>\n",
       "      <td>7.525098</td>\n",
       "    </tr>\n",
       "  </tbody>\n",
       "</table>\n",
       "</div>"
      ],
      "text/plain": [
       "               Player  Year       FPPG  predictions\n",
       "39  Wan'Dale Robinson  2022   8.616667    10.319747\n",
       "33     Garrett Wilson  2022  12.547059    10.051383\n",
       "37      Treylon Burks  2022   7.581818     9.149927\n",
       "35   Jameson Williams  2022   1.850000     8.763569\n",
       "34        Chris Olave  2022  13.080000     8.643032\n",
       "41    Tyquan Thornton  2022   4.515385     8.583028\n",
       "38   Christian Watson  2022  10.292857     8.054930\n",
       "32       Drake London  2022  10.388235     7.957112\n",
       "36       Jahan Dotson  2022  10.775000     7.705079\n",
       "42     George Pickens  2022   9.182353     7.525098"
      ]
     },
     "execution_count": 19,
     "metadata": {},
     "output_type": "execute_result"
    }
   ],
   "source": [
    "combination.sort_values(by='predictions', ascending=False).head(10)"
   ]
  },
  {
   "cell_type": "code",
   "execution_count": 20,
   "id": "9646f73e",
   "metadata": {},
   "outputs": [
    {
     "name": "stdout",
     "output_type": "stream",
     "text": [
      "           Feature  Coefficient  Absolute Coefficient\n",
      "0          40 Time    -1.655451              1.655451\n",
      "1   Teammate Y/Tgt     1.104550              1.104550\n",
      "2     Teammate Y/R    -0.820031              0.820031\n",
      "3     Teammate R/G     0.647249              0.647249\n",
      "4     Teammate Fmb     0.348957              0.348957\n",
      "5              Age    -0.333719              0.333719\n",
      "6     Teammate Rec    -0.209859              0.209859\n",
      "7       Teammate G     0.189912              0.189912\n",
      "8     Teammate Age    -0.124095              0.124095\n",
      "9     Teammate Tgt     0.100129              0.100129\n",
      "10     Teammate 1D     0.098526              0.098526\n",
      "11     Teammate TD    -0.061065              0.061065\n",
      "12          Height    -0.043337              0.043337\n",
      "13            Pick    -0.033945              0.033945\n",
      "14    Teammate Y/G     0.033423              0.033423\n",
      "15          Weight    -0.015799              0.015799\n",
      "16    Teammate Lng     0.013218              0.013218\n",
      "17    Teammate Yds    -0.007823              0.007823\n"
     ]
    }
   ],
   "source": [
    "# Get the coefficients and corresponding feature names\n",
    "lm_coefs = lm.coef_.ravel()\n",
    "feature_names = train[predictors].columns.tolist()  # Convert DataFrame to a list of column names\n",
    "\n",
    "# Create a DataFrame to store the coefficients and feature names\n",
    "coefs_df = pd.DataFrame({'Feature': feature_names, 'Coefficient': lm_coefs})\n",
    "\n",
    "# Sort the DataFrame by absolute coefficient values\n",
    "coefs_df['Absolute Coefficient'] = coefs_df['Coefficient'].abs()\n",
    "coefs_df = coefs_df.sort_values('Absolute Coefficient', ascending=False).reset_index(drop=True)\n",
    "\n",
    "# Print the feature importance\n",
    "print(coefs_df)"
   ]
  },
  {
   "cell_type": "code",
   "execution_count": 21,
   "id": "48df38fd",
   "metadata": {},
   "outputs": [
    {
     "data": {
      "text/plain": [
       "Pick              1.424792e-13\n",
       "Teammate 1D       1.406526e-01\n",
       "Teammate Y/Tgt    1.654558e-01\n",
       "Weight            1.804693e-01\n",
       "Teammate Fmb      2.011277e-01\n",
       "Teammate Rec      2.439155e-01\n",
       "Teammate Y/R      2.440524e-01\n",
       "Teammate Tgt      2.748456e-01\n",
       "40 Time           2.997050e-01\n",
       "Teammate Age      4.724461e-01\n",
       "Height            4.751570e-01\n",
       "Teammate G        5.089849e-01\n",
       "Teammate Yds      5.374475e-01\n",
       "Teammate Lng      5.825256e-01\n",
       "Age               6.599060e-01\n",
       "Teammate TD       7.582221e-01\n",
       "Teammate R/G      8.469748e-01\n",
       "Teammate Y/G      8.794182e-01\n",
       "dtype: float64"
      ]
     },
     "execution_count": 21,
     "metadata": {},
     "output_type": "execute_result"
    }
   ],
   "source": [
    "import statsmodels.api as sm\n",
    "results = sm.OLS(train[target],train[predictors]).fit()\n",
    "p_value = results.pvalues[predictors]\n",
    "p_value.sort_values()"
   ]
  },
  {
   "cell_type": "markdown",
   "id": "b1430752",
   "metadata": {},
   "source": [
    "Interesting here: the pick still matters a lot but other factors beyond the teammate's production is appearing as relatively significant predictors. The weight (which has a negative efficient, and 40 time are much more significant than in the running back model. Additionally, Teammate first downs (positive coefficient) is the second most significant predictor. Combining these results into a thought here: if your teammate gets more first downs they are probably a possession type of guy instead of a big play threat. If you have a fast 40 time, you can fill in the void of a big play threat, and it is the big play threats that carve out successful rookie seasons."
   ]
  },
  {
   "cell_type": "code",
   "execution_count": 22,
   "id": "681e3e19",
   "metadata": {},
   "outputs": [],
   "source": [
    "predictors = ['Height', 'Weight', '40 Time', 'Pick', 'Age', 'Teammate Age', 'Teammate G',\n",
    "              'Teammate Tgt', 'Teammate Rec', 'Teammate Yds',\n",
    "           'Teammate Y/R', 'Teammate TD', 'Teammate 1D', 'Teammate Lng',\n",
    "           'Teammate Y/Tgt', 'Teammate R/G', 'Teammate Y/G', 'Teammate Fmb']\n",
    "\n",
    "target = ['Total FP']"
   ]
  },
  {
   "cell_type": "code",
   "execution_count": 23,
   "id": "f89ca9ca",
   "metadata": {},
   "outputs": [],
   "source": [
    "train = final_wr[final_wr[\"Year\"].isin([2018, 2019, 2020, 2021])]\n",
    "test = final_wr[final_wr[\"Year\"] == 2022]"
   ]
  },
  {
   "cell_type": "code",
   "execution_count": 24,
   "id": "1d788254",
   "metadata": {},
   "outputs": [],
   "source": [
    "lm = LinearRegression()"
   ]
  },
  {
   "cell_type": "code",
   "execution_count": 25,
   "id": "31237569",
   "metadata": {},
   "outputs": [
    {
     "data": {
      "text/html": [
       "<style>#sk-container-id-2 {color: black;background-color: white;}#sk-container-id-2 pre{padding: 0;}#sk-container-id-2 div.sk-toggleable {background-color: white;}#sk-container-id-2 label.sk-toggleable__label {cursor: pointer;display: block;width: 100%;margin-bottom: 0;padding: 0.3em;box-sizing: border-box;text-align: center;}#sk-container-id-2 label.sk-toggleable__label-arrow:before {content: \"▸\";float: left;margin-right: 0.25em;color: #696969;}#sk-container-id-2 label.sk-toggleable__label-arrow:hover:before {color: black;}#sk-container-id-2 div.sk-estimator:hover label.sk-toggleable__label-arrow:before {color: black;}#sk-container-id-2 div.sk-toggleable__content {max-height: 0;max-width: 0;overflow: hidden;text-align: left;background-color: #f0f8ff;}#sk-container-id-2 div.sk-toggleable__content pre {margin: 0.2em;color: black;border-radius: 0.25em;background-color: #f0f8ff;}#sk-container-id-2 input.sk-toggleable__control:checked~div.sk-toggleable__content {max-height: 200px;max-width: 100%;overflow: auto;}#sk-container-id-2 input.sk-toggleable__control:checked~label.sk-toggleable__label-arrow:before {content: \"▾\";}#sk-container-id-2 div.sk-estimator input.sk-toggleable__control:checked~label.sk-toggleable__label {background-color: #d4ebff;}#sk-container-id-2 div.sk-label input.sk-toggleable__control:checked~label.sk-toggleable__label {background-color: #d4ebff;}#sk-container-id-2 input.sk-hidden--visually {border: 0;clip: rect(1px 1px 1px 1px);clip: rect(1px, 1px, 1px, 1px);height: 1px;margin: -1px;overflow: hidden;padding: 0;position: absolute;width: 1px;}#sk-container-id-2 div.sk-estimator {font-family: monospace;background-color: #f0f8ff;border: 1px dotted black;border-radius: 0.25em;box-sizing: border-box;margin-bottom: 0.5em;}#sk-container-id-2 div.sk-estimator:hover {background-color: #d4ebff;}#sk-container-id-2 div.sk-parallel-item::after {content: \"\";width: 100%;border-bottom: 1px solid gray;flex-grow: 1;}#sk-container-id-2 div.sk-label:hover label.sk-toggleable__label {background-color: #d4ebff;}#sk-container-id-2 div.sk-serial::before {content: \"\";position: absolute;border-left: 1px solid gray;box-sizing: border-box;top: 0;bottom: 0;left: 50%;z-index: 0;}#sk-container-id-2 div.sk-serial {display: flex;flex-direction: column;align-items: center;background-color: white;padding-right: 0.2em;padding-left: 0.2em;position: relative;}#sk-container-id-2 div.sk-item {position: relative;z-index: 1;}#sk-container-id-2 div.sk-parallel {display: flex;align-items: stretch;justify-content: center;background-color: white;position: relative;}#sk-container-id-2 div.sk-item::before, #sk-container-id-2 div.sk-parallel-item::before {content: \"\";position: absolute;border-left: 1px solid gray;box-sizing: border-box;top: 0;bottom: 0;left: 50%;z-index: -1;}#sk-container-id-2 div.sk-parallel-item {display: flex;flex-direction: column;z-index: 1;position: relative;background-color: white;}#sk-container-id-2 div.sk-parallel-item:first-child::after {align-self: flex-end;width: 50%;}#sk-container-id-2 div.sk-parallel-item:last-child::after {align-self: flex-start;width: 50%;}#sk-container-id-2 div.sk-parallel-item:only-child::after {width: 0;}#sk-container-id-2 div.sk-dashed-wrapped {border: 1px dashed gray;margin: 0 0.4em 0.5em 0.4em;box-sizing: border-box;padding-bottom: 0.4em;background-color: white;}#sk-container-id-2 div.sk-label label {font-family: monospace;font-weight: bold;display: inline-block;line-height: 1.2em;}#sk-container-id-2 div.sk-label-container {text-align: center;}#sk-container-id-2 div.sk-container {/* jupyter's `normalize.less` sets `[hidden] { display: none; }` but bootstrap.min.css set `[hidden] { display: none !important; }` so we also need the `!important` here to be able to override the default hidden behavior on the sphinx rendered scikit-learn.org. See: https://github.com/scikit-learn/scikit-learn/issues/21755 */display: inline-block !important;position: relative;}#sk-container-id-2 div.sk-text-repr-fallback {display: none;}</style><div id=\"sk-container-id-2\" class=\"sk-top-container\"><div class=\"sk-text-repr-fallback\"><pre>LinearRegression()</pre><b>In a Jupyter environment, please rerun this cell to show the HTML representation or trust the notebook. <br />On GitHub, the HTML representation is unable to render, please try loading this page with nbviewer.org.</b></div><div class=\"sk-container\" hidden><div class=\"sk-item\"><div class=\"sk-estimator sk-toggleable\"><input class=\"sk-toggleable__control sk-hidden--visually\" id=\"sk-estimator-id-2\" type=\"checkbox\" checked><label for=\"sk-estimator-id-2\" class=\"sk-toggleable__label sk-toggleable__label-arrow\">LinearRegression</label><div class=\"sk-toggleable__content\"><pre>LinearRegression()</pre></div></div></div></div></div>"
      ],
      "text/plain": [
       "LinearRegression()"
      ]
     },
     "execution_count": 25,
     "metadata": {},
     "output_type": "execute_result"
    }
   ],
   "source": [
    "lm.fit(train[predictors],train[target])"
   ]
  },
  {
   "cell_type": "code",
   "execution_count": 26,
   "id": "f6b5b9e7",
   "metadata": {},
   "outputs": [],
   "source": [
    "predictions = lm.predict(test[predictors])\n",
    "predictions = pd.DataFrame(predictions, columns=[\"predictions\"], index=test.index)\n",
    "combination = pd.concat([test[[\"Player\", \"Year\", \"Total FP\"]], predictions], axis=1)"
   ]
  },
  {
   "cell_type": "code",
   "execution_count": 27,
   "id": "871d3222",
   "metadata": {},
   "outputs": [
    {
     "name": "stdout",
     "output_type": "stream",
     "text": [
      "MAE: 47.93021905038311\n",
      "MSE: 3144.3254646555765\n",
      "RMSE: 56.07428523535165\n",
      "R-squared:  0.3772094542802562\n",
      "R:  0.6141737981062496\n"
     ]
    }
   ],
   "source": [
    "print('MAE:', metrics.mean_absolute_error(combination[\"Total FP\"], combination[\"predictions\"]))\n",
    "print('MSE:', metrics.mean_squared_error(combination[\"Total FP\"], combination[\"predictions\"]))\n",
    "print('RMSE:', np.sqrt(metrics.mean_squared_error(combination[\"Total FP\"], combination[\"predictions\"])))\n",
    "print('R-squared: ', metrics.explained_variance_score(combination[\"Total FP\"], combination[\"predictions\"]))\n",
    "print('R: ', np.sqrt(metrics.explained_variance_score(combination[\"Total FP\"], combination[\"predictions\"])))"
   ]
  },
  {
   "cell_type": "code",
   "execution_count": 28,
   "id": "2e927aa2",
   "metadata": {},
   "outputs": [
    {
     "data": {
      "text/html": [
       "<div>\n",
       "<style scoped>\n",
       "    .dataframe tbody tr th:only-of-type {\n",
       "        vertical-align: middle;\n",
       "    }\n",
       "\n",
       "    .dataframe tbody tr th {\n",
       "        vertical-align: top;\n",
       "    }\n",
       "\n",
       "    .dataframe thead th {\n",
       "        text-align: right;\n",
       "    }\n",
       "</style>\n",
       "<table border=\"1\" class=\"dataframe\">\n",
       "  <thead>\n",
       "    <tr style=\"text-align: right;\">\n",
       "      <th></th>\n",
       "      <th>Player</th>\n",
       "      <th>Year</th>\n",
       "      <th>Total FP</th>\n",
       "      <th>predictions</th>\n",
       "    </tr>\n",
       "  </thead>\n",
       "  <tbody>\n",
       "    <tr>\n",
       "      <th>33</th>\n",
       "      <td>Garrett Wilson</td>\n",
       "      <td>2022</td>\n",
       "      <td>213.3</td>\n",
       "      <td>142.005018</td>\n",
       "    </tr>\n",
       "    <tr>\n",
       "      <th>39</th>\n",
       "      <td>Wan'Dale Robinson</td>\n",
       "      <td>2022</td>\n",
       "      <td>51.7</td>\n",
       "      <td>140.664317</td>\n",
       "    </tr>\n",
       "    <tr>\n",
       "      <th>35</th>\n",
       "      <td>Jameson Williams</td>\n",
       "      <td>2022</td>\n",
       "      <td>11.1</td>\n",
       "      <td>137.656070</td>\n",
       "    </tr>\n",
       "    <tr>\n",
       "      <th>32</th>\n",
       "      <td>Drake London</td>\n",
       "      <td>2022</td>\n",
       "      <td>176.6</td>\n",
       "      <td>125.453323</td>\n",
       "    </tr>\n",
       "    <tr>\n",
       "      <th>37</th>\n",
       "      <td>Treylon Burks</td>\n",
       "      <td>2022</td>\n",
       "      <td>83.4</td>\n",
       "      <td>124.568166</td>\n",
       "    </tr>\n",
       "    <tr>\n",
       "      <th>34</th>\n",
       "      <td>Chris Olave</td>\n",
       "      <td>2022</td>\n",
       "      <td>196.2</td>\n",
       "      <td>119.445931</td>\n",
       "    </tr>\n",
       "    <tr>\n",
       "      <th>38</th>\n",
       "      <td>Christian Watson</td>\n",
       "      <td>2022</td>\n",
       "      <td>144.1</td>\n",
       "      <td>116.501897</td>\n",
       "    </tr>\n",
       "    <tr>\n",
       "      <th>42</th>\n",
       "      <td>George Pickens</td>\n",
       "      <td>2022</td>\n",
       "      <td>156.1</td>\n",
       "      <td>114.694657</td>\n",
       "    </tr>\n",
       "    <tr>\n",
       "      <th>41</th>\n",
       "      <td>Tyquan Thornton</td>\n",
       "      <td>2022</td>\n",
       "      <td>58.7</td>\n",
       "      <td>114.583766</td>\n",
       "    </tr>\n",
       "    <tr>\n",
       "      <th>36</th>\n",
       "      <td>Jahan Dotson</td>\n",
       "      <td>2022</td>\n",
       "      <td>129.3</td>\n",
       "      <td>108.250968</td>\n",
       "    </tr>\n",
       "  </tbody>\n",
       "</table>\n",
       "</div>"
      ],
      "text/plain": [
       "               Player  Year  Total FP  predictions\n",
       "33     Garrett Wilson  2022     213.3   142.005018\n",
       "39  Wan'Dale Robinson  2022      51.7   140.664317\n",
       "35   Jameson Williams  2022      11.1   137.656070\n",
       "32       Drake London  2022     176.6   125.453323\n",
       "37      Treylon Burks  2022      83.4   124.568166\n",
       "34        Chris Olave  2022     196.2   119.445931\n",
       "38   Christian Watson  2022     144.1   116.501897\n",
       "42     George Pickens  2022     156.1   114.694657\n",
       "41    Tyquan Thornton  2022      58.7   114.583766\n",
       "36       Jahan Dotson  2022     129.3   108.250968"
      ]
     },
     "execution_count": 28,
     "metadata": {},
     "output_type": "execute_result"
    }
   ],
   "source": [
    "combination.sort_values(by='predictions', ascending=False).head(10)"
   ]
  },
  {
   "cell_type": "markdown",
   "id": "f866ade9",
   "metadata": {},
   "source": [
    "Once again, the model with total points for the year is not as successful as the fantasy points per game model."
   ]
  },
  {
   "cell_type": "markdown",
   "id": "8aa3280c",
   "metadata": {},
   "source": [
    "### Projecting the 2023 Rookies"
   ]
  },
  {
   "cell_type": "code",
   "execution_count": 38,
   "id": "a2946432",
   "metadata": {},
   "outputs": [],
   "source": [
    "predictors = ['Height', 'Weight', '40 Time', 'Pick', 'Teammate Age', 'Teammate G',\n",
    "              'Teammate Tgt', 'Teammate Rec', 'Teammate Yds',\n",
    "           'Teammate Y/R', 'Teammate TD', 'Teammate 1D', 'Teammate Lng',\n",
    "           'Teammate Y/Tgt', 'Teammate R/G', 'Teammate Y/G', 'Teammate Fmb']\n",
    "\n",
    "target = ['FPPG']"
   ]
  },
  {
   "cell_type": "code",
   "execution_count": 39,
   "id": "d824f2e9",
   "metadata": {},
   "outputs": [],
   "source": [
    "train = final_wr[final_wr[\"Year\"].isin([2018, 2019, 2020, 2021, 2022])]\n",
    "test = final_wr[final_wr[\"Year\"] == 2023]"
   ]
  },
  {
   "cell_type": "code",
   "execution_count": 31,
   "id": "ff76036f",
   "metadata": {},
   "outputs": [],
   "source": [
    "lm = LinearRegression()"
   ]
  },
  {
   "cell_type": "code",
   "execution_count": 32,
   "id": "56e79f00",
   "metadata": {},
   "outputs": [
    {
     "data": {
      "text/html": [
       "<style>#sk-container-id-3 {color: black;background-color: white;}#sk-container-id-3 pre{padding: 0;}#sk-container-id-3 div.sk-toggleable {background-color: white;}#sk-container-id-3 label.sk-toggleable__label {cursor: pointer;display: block;width: 100%;margin-bottom: 0;padding: 0.3em;box-sizing: border-box;text-align: center;}#sk-container-id-3 label.sk-toggleable__label-arrow:before {content: \"▸\";float: left;margin-right: 0.25em;color: #696969;}#sk-container-id-3 label.sk-toggleable__label-arrow:hover:before {color: black;}#sk-container-id-3 div.sk-estimator:hover label.sk-toggleable__label-arrow:before {color: black;}#sk-container-id-3 div.sk-toggleable__content {max-height: 0;max-width: 0;overflow: hidden;text-align: left;background-color: #f0f8ff;}#sk-container-id-3 div.sk-toggleable__content pre {margin: 0.2em;color: black;border-radius: 0.25em;background-color: #f0f8ff;}#sk-container-id-3 input.sk-toggleable__control:checked~div.sk-toggleable__content {max-height: 200px;max-width: 100%;overflow: auto;}#sk-container-id-3 input.sk-toggleable__control:checked~label.sk-toggleable__label-arrow:before {content: \"▾\";}#sk-container-id-3 div.sk-estimator input.sk-toggleable__control:checked~label.sk-toggleable__label {background-color: #d4ebff;}#sk-container-id-3 div.sk-label input.sk-toggleable__control:checked~label.sk-toggleable__label {background-color: #d4ebff;}#sk-container-id-3 input.sk-hidden--visually {border: 0;clip: rect(1px 1px 1px 1px);clip: rect(1px, 1px, 1px, 1px);height: 1px;margin: -1px;overflow: hidden;padding: 0;position: absolute;width: 1px;}#sk-container-id-3 div.sk-estimator {font-family: monospace;background-color: #f0f8ff;border: 1px dotted black;border-radius: 0.25em;box-sizing: border-box;margin-bottom: 0.5em;}#sk-container-id-3 div.sk-estimator:hover {background-color: #d4ebff;}#sk-container-id-3 div.sk-parallel-item::after {content: \"\";width: 100%;border-bottom: 1px solid gray;flex-grow: 1;}#sk-container-id-3 div.sk-label:hover label.sk-toggleable__label {background-color: #d4ebff;}#sk-container-id-3 div.sk-serial::before {content: \"\";position: absolute;border-left: 1px solid gray;box-sizing: border-box;top: 0;bottom: 0;left: 50%;z-index: 0;}#sk-container-id-3 div.sk-serial {display: flex;flex-direction: column;align-items: center;background-color: white;padding-right: 0.2em;padding-left: 0.2em;position: relative;}#sk-container-id-3 div.sk-item {position: relative;z-index: 1;}#sk-container-id-3 div.sk-parallel {display: flex;align-items: stretch;justify-content: center;background-color: white;position: relative;}#sk-container-id-3 div.sk-item::before, #sk-container-id-3 div.sk-parallel-item::before {content: \"\";position: absolute;border-left: 1px solid gray;box-sizing: border-box;top: 0;bottom: 0;left: 50%;z-index: -1;}#sk-container-id-3 div.sk-parallel-item {display: flex;flex-direction: column;z-index: 1;position: relative;background-color: white;}#sk-container-id-3 div.sk-parallel-item:first-child::after {align-self: flex-end;width: 50%;}#sk-container-id-3 div.sk-parallel-item:last-child::after {align-self: flex-start;width: 50%;}#sk-container-id-3 div.sk-parallel-item:only-child::after {width: 0;}#sk-container-id-3 div.sk-dashed-wrapped {border: 1px dashed gray;margin: 0 0.4em 0.5em 0.4em;box-sizing: border-box;padding-bottom: 0.4em;background-color: white;}#sk-container-id-3 div.sk-label label {font-family: monospace;font-weight: bold;display: inline-block;line-height: 1.2em;}#sk-container-id-3 div.sk-label-container {text-align: center;}#sk-container-id-3 div.sk-container {/* jupyter's `normalize.less` sets `[hidden] { display: none; }` but bootstrap.min.css set `[hidden] { display: none !important; }` so we also need the `!important` here to be able to override the default hidden behavior on the sphinx rendered scikit-learn.org. See: https://github.com/scikit-learn/scikit-learn/issues/21755 */display: inline-block !important;position: relative;}#sk-container-id-3 div.sk-text-repr-fallback {display: none;}</style><div id=\"sk-container-id-3\" class=\"sk-top-container\"><div class=\"sk-text-repr-fallback\"><pre>LinearRegression()</pre><b>In a Jupyter environment, please rerun this cell to show the HTML representation or trust the notebook. <br />On GitHub, the HTML representation is unable to render, please try loading this page with nbviewer.org.</b></div><div class=\"sk-container\" hidden><div class=\"sk-item\"><div class=\"sk-estimator sk-toggleable\"><input class=\"sk-toggleable__control sk-hidden--visually\" id=\"sk-estimator-id-3\" type=\"checkbox\" checked><label for=\"sk-estimator-id-3\" class=\"sk-toggleable__label sk-toggleable__label-arrow\">LinearRegression</label><div class=\"sk-toggleable__content\"><pre>LinearRegression()</pre></div></div></div></div></div>"
      ],
      "text/plain": [
       "LinearRegression()"
      ]
     },
     "execution_count": 32,
     "metadata": {},
     "output_type": "execute_result"
    }
   ],
   "source": [
    "lm.fit(train[predictors],train[target])"
   ]
  },
  {
   "cell_type": "code",
   "execution_count": 33,
   "id": "ef97ed5c",
   "metadata": {},
   "outputs": [],
   "source": [
    "predictions = lm.predict(test[predictors])\n",
    "predictions = pd.DataFrame(predictions, columns=[\"predictions\"], index=test.index)\n",
    "combination = pd.concat([test[[\"Player\", \"Year\"]], predictions], axis=1)"
   ]
  },
  {
   "cell_type": "code",
   "execution_count": 34,
   "id": "8edf0a63",
   "metadata": {},
   "outputs": [
    {
     "data": {
      "text/html": [
       "<div>\n",
       "<style scoped>\n",
       "    .dataframe tbody tr th:only-of-type {\n",
       "        vertical-align: middle;\n",
       "    }\n",
       "\n",
       "    .dataframe tbody tr th {\n",
       "        vertical-align: top;\n",
       "    }\n",
       "\n",
       "    .dataframe thead th {\n",
       "        text-align: right;\n",
       "    }\n",
       "</style>\n",
       "<table border=\"1\" class=\"dataframe\">\n",
       "  <thead>\n",
       "    <tr style=\"text-align: right;\">\n",
       "      <th></th>\n",
       "      <th>Player</th>\n",
       "      <th>Year</th>\n",
       "      <th>predictions</th>\n",
       "    </tr>\n",
       "  </thead>\n",
       "  <tbody>\n",
       "    <tr>\n",
       "      <th>2</th>\n",
       "      <td>Zay Flowers</td>\n",
       "      <td>2023</td>\n",
       "      <td>8.171696</td>\n",
       "    </tr>\n",
       "    <tr>\n",
       "      <th>5</th>\n",
       "      <td>Jayden Reed</td>\n",
       "      <td>2023</td>\n",
       "      <td>7.613927</td>\n",
       "    </tr>\n",
       "    <tr>\n",
       "      <th>0</th>\n",
       "      <td>Jaxon Smith-Njigba</td>\n",
       "      <td>2023</td>\n",
       "      <td>7.267047</td>\n",
       "    </tr>\n",
       "    <tr>\n",
       "      <th>8</th>\n",
       "      <td>Nathaniel Dell</td>\n",
       "      <td>2023</td>\n",
       "      <td>7.195529</td>\n",
       "    </tr>\n",
       "    <tr>\n",
       "      <th>4</th>\n",
       "      <td>Jonathan Mingo</td>\n",
       "      <td>2023</td>\n",
       "      <td>7.032665</td>\n",
       "    </tr>\n",
       "    <tr>\n",
       "      <th>1</th>\n",
       "      <td>Quentin Johnston</td>\n",
       "      <td>2023</td>\n",
       "      <td>6.802897</td>\n",
       "    </tr>\n",
       "    <tr>\n",
       "      <th>9</th>\n",
       "      <td>Jalin Hyatt</td>\n",
       "      <td>2023</td>\n",
       "      <td>6.290856</td>\n",
       "    </tr>\n",
       "    <tr>\n",
       "      <th>7</th>\n",
       "      <td>Marvin Mims</td>\n",
       "      <td>2023</td>\n",
       "      <td>6.218457</td>\n",
       "    </tr>\n",
       "    <tr>\n",
       "      <th>12</th>\n",
       "      <td>Michael Wilson</td>\n",
       "      <td>2023</td>\n",
       "      <td>5.787349</td>\n",
       "    </tr>\n",
       "    <tr>\n",
       "      <th>15</th>\n",
       "      <td>Charlie Jones</td>\n",
       "      <td>2023</td>\n",
       "      <td>5.684288</td>\n",
       "    </tr>\n",
       "    <tr>\n",
       "      <th>11</th>\n",
       "      <td>Josh Downs</td>\n",
       "      <td>2023</td>\n",
       "      <td>5.515373</td>\n",
       "    </tr>\n",
       "    <tr>\n",
       "      <th>10</th>\n",
       "      <td>Cedric Tillman</td>\n",
       "      <td>2023</td>\n",
       "      <td>5.341347</td>\n",
       "    </tr>\n",
       "    <tr>\n",
       "      <th>6</th>\n",
       "      <td>Rashee Rice</td>\n",
       "      <td>2023</td>\n",
       "      <td>4.616098</td>\n",
       "    </tr>\n",
       "    <tr>\n",
       "      <th>16</th>\n",
       "      <td>Tyler Scott</td>\n",
       "      <td>2023</td>\n",
       "      <td>4.485634</td>\n",
       "    </tr>\n",
       "    <tr>\n",
       "      <th>3</th>\n",
       "      <td>Jordan Addison</td>\n",
       "      <td>2023</td>\n",
       "      <td>4.314063</td>\n",
       "    </tr>\n",
       "  </tbody>\n",
       "</table>\n",
       "</div>"
      ],
      "text/plain": [
       "                Player  Year  predictions\n",
       "2          Zay Flowers  2023     8.171696\n",
       "5          Jayden Reed  2023     7.613927\n",
       "0   Jaxon Smith-Njigba  2023     7.267047\n",
       "8       Nathaniel Dell  2023     7.195529\n",
       "4       Jonathan Mingo  2023     7.032665\n",
       "1     Quentin Johnston  2023     6.802897\n",
       "9          Jalin Hyatt  2023     6.290856\n",
       "7          Marvin Mims  2023     6.218457\n",
       "12      Michael Wilson  2023     5.787349\n",
       "15       Charlie Jones  2023     5.684288\n",
       "11          Josh Downs  2023     5.515373\n",
       "10      Cedric Tillman  2023     5.341347\n",
       "6          Rashee Rice  2023     4.616098\n",
       "16         Tyler Scott  2023     4.485634\n",
       "3       Jordan Addison  2023     4.314063"
      ]
     },
     "execution_count": 34,
     "metadata": {},
     "output_type": "execute_result"
    }
   ],
   "source": [
    "combination.sort_values(by='predictions', ascending=False).head(15)"
   ]
  },
  {
   "cell_type": "markdown",
   "id": "8f680f8f",
   "metadata": {},
   "source": [
    "Nuances that need to be taken into account: Zay Flowers has a high projection because his best teammate is Odell Beckham, who had 0 stats last year. Additionally, a guy like Jordan Addison is low here because his teammate is the leading receiver in the entire NFL, Justin Jefferson. If Addison entrenches himself as the WR2 there, he should easily outperform the projection.\n",
    "\n",
    "I'm going to update Flowers's teammate to Mark Andrews and see how the results change."
   ]
  },
  {
   "cell_type": "code",
   "execution_count": 40,
   "id": "dba63e8b",
   "metadata": {},
   "outputs": [],
   "source": [
    "train = final_wr[final_wr[\"Year\"].isin([2018, 2019, 2020, 2021, 2022])]\n",
    "test = final_wr[final_wr[\"Year\"] == 2023]\n",
    "\n",
    "lm = LinearRegression()\n",
    "\n",
    "lm.fit(train[predictors],train[target])\n",
    "\n",
    "predictions = lm.predict(test[predictors])\n",
    "predictions = pd.DataFrame(predictions, columns=[\"predictions\"], index=test.index)\n",
    "combination = pd.concat([test[[\"Player\", \"Year\"]], predictions], axis=1)"
   ]
  },
  {
   "cell_type": "code",
   "execution_count": 41,
   "id": "6bfea535",
   "metadata": {},
   "outputs": [
    {
     "data": {
      "text/html": [
       "<div>\n",
       "<style scoped>\n",
       "    .dataframe tbody tr th:only-of-type {\n",
       "        vertical-align: middle;\n",
       "    }\n",
       "\n",
       "    .dataframe tbody tr th {\n",
       "        vertical-align: top;\n",
       "    }\n",
       "\n",
       "    .dataframe thead th {\n",
       "        text-align: right;\n",
       "    }\n",
       "</style>\n",
       "<table border=\"1\" class=\"dataframe\">\n",
       "  <thead>\n",
       "    <tr style=\"text-align: right;\">\n",
       "      <th></th>\n",
       "      <th>Player</th>\n",
       "      <th>Year</th>\n",
       "      <th>predictions</th>\n",
       "    </tr>\n",
       "  </thead>\n",
       "  <tbody>\n",
       "    <tr>\n",
       "      <th>2</th>\n",
       "      <td>Zay Flowers</td>\n",
       "      <td>2023</td>\n",
       "      <td>8.575843</td>\n",
       "    </tr>\n",
       "    <tr>\n",
       "      <th>5</th>\n",
       "      <td>Jayden Reed</td>\n",
       "      <td>2023</td>\n",
       "      <td>7.707534</td>\n",
       "    </tr>\n",
       "    <tr>\n",
       "      <th>0</th>\n",
       "      <td>Jaxon Smith-Njigba</td>\n",
       "      <td>2023</td>\n",
       "      <td>7.585397</td>\n",
       "    </tr>\n",
       "    <tr>\n",
       "      <th>4</th>\n",
       "      <td>Jonathan Mingo</td>\n",
       "      <td>2023</td>\n",
       "      <td>7.359597</td>\n",
       "    </tr>\n",
       "    <tr>\n",
       "      <th>8</th>\n",
       "      <td>Nathaniel Dell</td>\n",
       "      <td>2023</td>\n",
       "      <td>7.333378</td>\n",
       "    </tr>\n",
       "    <tr>\n",
       "      <th>1</th>\n",
       "      <td>Quentin Johnston</td>\n",
       "      <td>2023</td>\n",
       "      <td>6.946436</td>\n",
       "    </tr>\n",
       "    <tr>\n",
       "      <th>9</th>\n",
       "      <td>Jalin Hyatt</td>\n",
       "      <td>2023</td>\n",
       "      <td>6.354798</td>\n",
       "    </tr>\n",
       "    <tr>\n",
       "      <th>7</th>\n",
       "      <td>Marvin Mims</td>\n",
       "      <td>2023</td>\n",
       "      <td>6.284379</td>\n",
       "    </tr>\n",
       "    <tr>\n",
       "      <th>12</th>\n",
       "      <td>Michael Wilson</td>\n",
       "      <td>2023</td>\n",
       "      <td>5.829745</td>\n",
       "    </tr>\n",
       "    <tr>\n",
       "      <th>15</th>\n",
       "      <td>Charlie Jones</td>\n",
       "      <td>2023</td>\n",
       "      <td>5.784064</td>\n",
       "    </tr>\n",
       "    <tr>\n",
       "      <th>11</th>\n",
       "      <td>Josh Downs</td>\n",
       "      <td>2023</td>\n",
       "      <td>5.770086</td>\n",
       "    </tr>\n",
       "    <tr>\n",
       "      <th>10</th>\n",
       "      <td>Cedric Tillman</td>\n",
       "      <td>2023</td>\n",
       "      <td>5.249627</td>\n",
       "    </tr>\n",
       "    <tr>\n",
       "      <th>6</th>\n",
       "      <td>Rashee Rice</td>\n",
       "      <td>2023</td>\n",
       "      <td>4.559107</td>\n",
       "    </tr>\n",
       "    <tr>\n",
       "      <th>16</th>\n",
       "      <td>Tyler Scott</td>\n",
       "      <td>2023</td>\n",
       "      <td>4.420964</td>\n",
       "    </tr>\n",
       "    <tr>\n",
       "      <th>3</th>\n",
       "      <td>Jordan Addison</td>\n",
       "      <td>2023</td>\n",
       "      <td>4.375280</td>\n",
       "    </tr>\n",
       "  </tbody>\n",
       "</table>\n",
       "</div>"
      ],
      "text/plain": [
       "                Player  Year  predictions\n",
       "2          Zay Flowers  2023     8.575843\n",
       "5          Jayden Reed  2023     7.707534\n",
       "0   Jaxon Smith-Njigba  2023     7.585397\n",
       "4       Jonathan Mingo  2023     7.359597\n",
       "8       Nathaniel Dell  2023     7.333378\n",
       "1     Quentin Johnston  2023     6.946436\n",
       "9          Jalin Hyatt  2023     6.354798\n",
       "7          Marvin Mims  2023     6.284379\n",
       "12      Michael Wilson  2023     5.829745\n",
       "15       Charlie Jones  2023     5.784064\n",
       "11          Josh Downs  2023     5.770086\n",
       "10      Cedric Tillman  2023     5.249627\n",
       "6          Rashee Rice  2023     4.559107\n",
       "16         Tyler Scott  2023     4.420964\n",
       "3       Jordan Addison  2023     4.375280"
      ]
     },
     "execution_count": 41,
     "metadata": {},
     "output_type": "execute_result"
    }
   ],
   "source": [
    "combination.sort_values(by='predictions', ascending=False).head(15)"
   ]
  },
  {
   "cell_type": "markdown",
   "id": "ea1ba13e",
   "metadata": {},
   "source": [
    "I noticed I did not fill in the age for the 2023 rookies, so I removed that as a predictor this time around, slightly changing everyone's results. Surprisingly, changing Zay Flowers's best teammate to Mark Andrews still leaves him at the top of the list. This was before I removed age as a predictor as well. With or without that predictor, the model expects Zay Flowers to be the best rookie WR this year in terms of fantasy PPR points per game."
   ]
  },
  {
   "cell_type": "markdown",
   "id": "6e73a8f1",
   "metadata": {},
   "source": [
    "### K Nearest Neighbors Analysis"
   ]
  },
  {
   "cell_type": "markdown",
   "id": "86599d78",
   "metadata": {},
   "source": [
    "Because the SVM was not successful in the running back part, we are trying a K Nearest Neighbors analysis. The target column being created is still the same. The target is 1 if the receiver finished top 5 on the year and 0 otherwise."
   ]
  },
  {
   "cell_type": "code",
   "execution_count": 8,
   "id": "7e2a0c79",
   "metadata": {},
   "outputs": [],
   "source": [
    "def add_target_column(df):\n",
    "    # Sort the dataframe by 'FPPG' column in descending order within each 'Year' group\n",
    "    sorted_df = df.groupby('Year', group_keys=False).apply(lambda x: x.nlargest(5, 'FPPG'))\n",
    "    \n",
    "    # Create the 'Target' column and set it to 1 for the top 5 rows, and 0 for the rest\n",
    "    sorted_df['Target'] = 1\n",
    "    sorted_df['Target'] = sorted_df['Target'].fillna(0).astype(int)\n",
    "    \n",
    "    # Merge the sorted and updated dataframe back with the original dataframe\n",
    "    df = df.merge(sorted_df[['Year', 'Player', 'Target']], on=['Year', 'Player'], how='left')\n",
    "    \n",
    "    return df\n",
    "\n",
    "# Usage example:\n",
    "# Assuming 'final_rb' is your original dataframe\n",
    "new_wr = add_target_column(final_wr)"
   ]
  },
  {
   "cell_type": "code",
   "execution_count": 9,
   "id": "7e19fd45",
   "metadata": {},
   "outputs": [],
   "source": [
    "new_wr = new_wr.fillna(0)"
   ]
  },
  {
   "cell_type": "code",
   "execution_count": 10,
   "id": "c00cbedd",
   "metadata": {},
   "outputs": [
    {
     "data": {
      "text/plain": [
       "Index(['Player', 'Team', 'Year', 'Height', 'Weight', '40 Time', 'Pick',\n",
       "       'Teammate', 'Teammate Year', 'Tm', 'Age', 'Pos', 'G', 'GS', 'Tgt',\n",
       "       'Rec', 'Yds', 'Y/R', 'TD', '1D', 'Lng', 'Y/Tgt', 'R/G', 'Y/G', 'Fmb',\n",
       "       'Teammate Tm', 'Teammate Age', 'Teammate Pos', 'Teammate G',\n",
       "       'Teammate GS', 'Teammate Tgt', 'Teammate Rec', 'Teammate Yds',\n",
       "       'Teammate Y/R', 'Teammate TD', 'Teammate 1D', 'Teammate Lng',\n",
       "       'Teammate Y/Tgt', 'Teammate R/G', 'Teammate Y/G', 'Teammate Fmb',\n",
       "       'Total FP', 'FPPG', 'Target'],\n",
       "      dtype='object')"
      ]
     },
     "execution_count": 10,
     "metadata": {},
     "output_type": "execute_result"
    }
   ],
   "source": [
    "new_wr.columns"
   ]
  },
  {
   "cell_type": "code",
   "execution_count": 11,
   "id": "db76cdc6",
   "metadata": {},
   "outputs": [],
   "source": [
    "predictors = ['Height', 'Weight', '40 Time', 'Pick', 'Age', 'Teammate Age', 'Teammate G',\n",
    "              'Teammate Tgt', 'Teammate Rec', 'Teammate Yds',\n",
    "       'Teammate Y/R', 'Teammate TD', 'Teammate 1D', 'Teammate Lng',\n",
    "       'Teammate Y/Tgt', 'Teammate R/G', 'Teammate Y/G', 'Teammate Fmb']\n",
    "\n",
    "target = ['Target']"
   ]
  },
  {
   "cell_type": "code",
   "execution_count": 12,
   "id": "7bbb5633",
   "metadata": {},
   "outputs": [],
   "source": [
    "train = new_wr[new_wr[\"Year\"].isin([2018, 2019, 2020, 2021])]\n",
    "test = new_wr[new_wr[\"Year\"] == 2022]"
   ]
  },
  {
   "cell_type": "code",
   "execution_count": 2,
   "id": "75a50d39",
   "metadata": {},
   "outputs": [],
   "source": [
    "from sklearn.preprocessing import StandardScaler"
   ]
  },
  {
   "cell_type": "code",
   "execution_count": 21,
   "id": "ec468f3f",
   "metadata": {},
   "outputs": [],
   "source": [
    "# Scaling predictors\n",
    "scaler = StandardScaler()\n",
    "scaler.fit(train[predictors])\n",
    "df_feat = pd.DataFrame(scaler.transform(train[predictors]), columns=predictors)\n",
    "test_feat = pd.DataFrame(scaler.transform(test[predictors]), columns=predictors)"
   ]
  },
  {
   "cell_type": "code",
   "execution_count": 22,
   "id": "0f0292cf",
   "metadata": {},
   "outputs": [],
   "source": [
    "# Assuming 'Target' is a categorical column with class labels\n",
    "train_labels = train[target]\n",
    "test_labels = test[target]"
   ]
  },
  {
   "cell_type": "code",
   "execution_count": 16,
   "id": "52bd92af",
   "metadata": {},
   "outputs": [],
   "source": [
    "from sklearn.neighbors import KNeighborsClassifier"
   ]
  },
  {
   "cell_type": "code",
   "execution_count": 23,
   "id": "1353fa5a",
   "metadata": {},
   "outputs": [
    {
     "data": {
      "text/html": [
       "<style>#sk-container-id-1 {color: black;background-color: white;}#sk-container-id-1 pre{padding: 0;}#sk-container-id-1 div.sk-toggleable {background-color: white;}#sk-container-id-1 label.sk-toggleable__label {cursor: pointer;display: block;width: 100%;margin-bottom: 0;padding: 0.3em;box-sizing: border-box;text-align: center;}#sk-container-id-1 label.sk-toggleable__label-arrow:before {content: \"▸\";float: left;margin-right: 0.25em;color: #696969;}#sk-container-id-1 label.sk-toggleable__label-arrow:hover:before {color: black;}#sk-container-id-1 div.sk-estimator:hover label.sk-toggleable__label-arrow:before {color: black;}#sk-container-id-1 div.sk-toggleable__content {max-height: 0;max-width: 0;overflow: hidden;text-align: left;background-color: #f0f8ff;}#sk-container-id-1 div.sk-toggleable__content pre {margin: 0.2em;color: black;border-radius: 0.25em;background-color: #f0f8ff;}#sk-container-id-1 input.sk-toggleable__control:checked~div.sk-toggleable__content {max-height: 200px;max-width: 100%;overflow: auto;}#sk-container-id-1 input.sk-toggleable__control:checked~label.sk-toggleable__label-arrow:before {content: \"▾\";}#sk-container-id-1 div.sk-estimator input.sk-toggleable__control:checked~label.sk-toggleable__label {background-color: #d4ebff;}#sk-container-id-1 div.sk-label input.sk-toggleable__control:checked~label.sk-toggleable__label {background-color: #d4ebff;}#sk-container-id-1 input.sk-hidden--visually {border: 0;clip: rect(1px 1px 1px 1px);clip: rect(1px, 1px, 1px, 1px);height: 1px;margin: -1px;overflow: hidden;padding: 0;position: absolute;width: 1px;}#sk-container-id-1 div.sk-estimator {font-family: monospace;background-color: #f0f8ff;border: 1px dotted black;border-radius: 0.25em;box-sizing: border-box;margin-bottom: 0.5em;}#sk-container-id-1 div.sk-estimator:hover {background-color: #d4ebff;}#sk-container-id-1 div.sk-parallel-item::after {content: \"\";width: 100%;border-bottom: 1px solid gray;flex-grow: 1;}#sk-container-id-1 div.sk-label:hover label.sk-toggleable__label {background-color: #d4ebff;}#sk-container-id-1 div.sk-serial::before {content: \"\";position: absolute;border-left: 1px solid gray;box-sizing: border-box;top: 0;bottom: 0;left: 50%;z-index: 0;}#sk-container-id-1 div.sk-serial {display: flex;flex-direction: column;align-items: center;background-color: white;padding-right: 0.2em;padding-left: 0.2em;position: relative;}#sk-container-id-1 div.sk-item {position: relative;z-index: 1;}#sk-container-id-1 div.sk-parallel {display: flex;align-items: stretch;justify-content: center;background-color: white;position: relative;}#sk-container-id-1 div.sk-item::before, #sk-container-id-1 div.sk-parallel-item::before {content: \"\";position: absolute;border-left: 1px solid gray;box-sizing: border-box;top: 0;bottom: 0;left: 50%;z-index: -1;}#sk-container-id-1 div.sk-parallel-item {display: flex;flex-direction: column;z-index: 1;position: relative;background-color: white;}#sk-container-id-1 div.sk-parallel-item:first-child::after {align-self: flex-end;width: 50%;}#sk-container-id-1 div.sk-parallel-item:last-child::after {align-self: flex-start;width: 50%;}#sk-container-id-1 div.sk-parallel-item:only-child::after {width: 0;}#sk-container-id-1 div.sk-dashed-wrapped {border: 1px dashed gray;margin: 0 0.4em 0.5em 0.4em;box-sizing: border-box;padding-bottom: 0.4em;background-color: white;}#sk-container-id-1 div.sk-label label {font-family: monospace;font-weight: bold;display: inline-block;line-height: 1.2em;}#sk-container-id-1 div.sk-label-container {text-align: center;}#sk-container-id-1 div.sk-container {/* jupyter's `normalize.less` sets `[hidden] { display: none; }` but bootstrap.min.css set `[hidden] { display: none !important; }` so we also need the `!important` here to be able to override the default hidden behavior on the sphinx rendered scikit-learn.org. See: https://github.com/scikit-learn/scikit-learn/issues/21755 */display: inline-block !important;position: relative;}#sk-container-id-1 div.sk-text-repr-fallback {display: none;}</style><div id=\"sk-container-id-1\" class=\"sk-top-container\"><div class=\"sk-text-repr-fallback\"><pre>KNeighborsClassifier(n_neighbors=1)</pre><b>In a Jupyter environment, please rerun this cell to show the HTML representation or trust the notebook. <br />On GitHub, the HTML representation is unable to render, please try loading this page with nbviewer.org.</b></div><div class=\"sk-container\" hidden><div class=\"sk-item\"><div class=\"sk-estimator sk-toggleable\"><input class=\"sk-toggleable__control sk-hidden--visually\" id=\"sk-estimator-id-1\" type=\"checkbox\" checked><label for=\"sk-estimator-id-1\" class=\"sk-toggleable__label sk-toggleable__label-arrow\">KNeighborsClassifier</label><div class=\"sk-toggleable__content\"><pre>KNeighborsClassifier(n_neighbors=1)</pre></div></div></div></div></div>"
      ],
      "text/plain": [
       "KNeighborsClassifier(n_neighbors=1)"
      ]
     },
     "execution_count": 23,
     "metadata": {},
     "output_type": "execute_result"
    }
   ],
   "source": [
    "# Creating KNN classifier\n",
    "knn = KNeighborsClassifier(n_neighbors=1)\n",
    "knn.fit(df_feat, train_labels.values.ravel())  # Ravel to convert to 1D array"
   ]
  },
  {
   "cell_type": "code",
   "execution_count": 24,
   "id": "7388b2ae",
   "metadata": {},
   "outputs": [],
   "source": [
    "pred = knn.predict(test_feat)"
   ]
  },
  {
   "cell_type": "code",
   "execution_count": 25,
   "id": "6cbba8ce",
   "metadata": {},
   "outputs": [],
   "source": [
    "from sklearn.metrics import classification_report,confusion_matrix"
   ]
  },
  {
   "cell_type": "code",
   "execution_count": 26,
   "id": "3a4e0dbf",
   "metadata": {},
   "outputs": [
    {
     "name": "stdout",
     "output_type": "stream",
     "text": [
      "[[16  7]\n",
      " [ 3  2]]\n",
      "              precision    recall  f1-score   support\n",
      "\n",
      "         0.0       0.84      0.70      0.76        23\n",
      "         1.0       0.22      0.40      0.29         5\n",
      "\n",
      "    accuracy                           0.64        28\n",
      "   macro avg       0.53      0.55      0.52        28\n",
      "weighted avg       0.73      0.64      0.68        28\n",
      "\n"
     ]
    }
   ],
   "source": [
    "print(confusion_matrix(test_labels,pred))\n",
    "print(classification_report(test_labels,pred))"
   ]
  },
  {
   "cell_type": "markdown",
   "id": "bd90e029",
   "metadata": {},
   "source": [
    "This model with K value set at 1 has a higher error rate than the other versions tried below, but in terms of precision and recall of the target value 1, it is better than those with low error rates, making this more valuable. That said, a precision percentage of 22% and a recall percentage of 40% is not great."
   ]
  },
  {
   "cell_type": "code",
   "execution_count": 28,
   "id": "3ced20e9",
   "metadata": {},
   "outputs": [],
   "source": [
    "error_rate = []\n",
    "\n",
    "# Will take some time\n",
    "for i in range(1,40):\n",
    "    \n",
    "    knn = KNeighborsClassifier(n_neighbors=i)\n",
    "    knn.fit(df_feat, train_labels.values.ravel())\n",
    "    pred_i = knn.predict(test_feat)\n",
    "    error_rate.append(np.mean(pred_i != test_labels.values.ravel()))"
   ]
  },
  {
   "cell_type": "code",
   "execution_count": 29,
   "id": "7aee0fa3",
   "metadata": {},
   "outputs": [
    {
     "data": {
      "text/plain": [
       "Text(0, 0.5, 'Error Rate')"
      ]
     },
     "execution_count": 29,
     "metadata": {},
     "output_type": "execute_result"
    },
    {
     "data": {
      "image/png": "[encoded data removed]",
      "text/plain": [
       "<Figure size 1000x600 with 1 Axes>"
      ]
     },
     "metadata": {},
     "output_type": "display_data"
    }
   ],
   "source": [
    "plt.figure(figsize=(10,6))\n",
    "plt.plot(range(1,40),error_rate,color='blue', linestyle='dashed', marker='o',\n",
    "         markerfacecolor='red', markersize=10)\n",
    "plt.title('Error Rate vs. K Value')\n",
    "plt.xlabel('K')\n",
    "plt.ylabel('Error Rate')"
   ]
  },
  {
   "cell_type": "code",
   "execution_count": 38,
   "id": "608bd723",
   "metadata": {},
   "outputs": [
    {
     "name": "stdout",
     "output_type": "stream",
     "text": [
      "WITH K=10\n",
      "\n",
      "\n",
      "[[22  1]\n",
      " [ 4  1]]\n",
      "              precision    recall  f1-score   support\n",
      "\n",
      "         0.0       0.85      0.96      0.90        23\n",
      "         1.0       0.50      0.20      0.29         5\n",
      "\n",
      "    accuracy                           0.82        28\n",
      "   macro avg       0.67      0.58      0.59        28\n",
      "weighted avg       0.78      0.82      0.79        28\n",
      "\n"
     ]
    }
   ],
   "source": [
    "knn = KNeighborsClassifier(n_neighbors=2)\n",
    "knn.fit(df_feat, train_labels.values.ravel())\n",
    "pred = knn.predict(test_feat)\n",
    "\n",
    "print('WITH K=2')\n",
    "print('\\n')\n",
    "print(confusion_matrix(test_labels,pred))\n",
    "print(classification_report(test_labels,pred))"
   ]
  },
  {
   "cell_type": "markdown",
   "id": "ac8b9220",
   "metadata": {},
   "source": [
    "As you can see, the better model still only recalls 20% of target value 1."
   ]
  },
  {
   "cell_type": "markdown",
   "id": "5fd3efab",
   "metadata": {},
   "source": [
    "### K Means Clustering"
   ]
  },
  {
   "cell_type": "code",
   "execution_count": 39,
   "id": "3781a352",
   "metadata": {},
   "outputs": [],
   "source": [
    "from sklearn.cluster import KMeans\n",
    "from sklearn.metrics import silhouette_score"
   ]
  },
  {
   "cell_type": "code",
   "execution_count": 5,
   "id": "2bd74d34",
   "metadata": {},
   "outputs": [],
   "source": [
    "def yearly_outperformers(df, group):\n",
    "    # Grouping the DataFrame by 'Year'\n",
    "    groups = df.groupby(group)\n",
    "\n",
    "    # Sorting the groups based on 'WS/48_diff' column and retrieving the top 15 results\n",
    "    top_results = groups.apply(lambda x: x.sort_values('FPPG', ascending=False).head(5))\n",
    "\n",
    "    # Resetting the index of the DataFrame\n",
    "    top_results = top_results.reset_index(drop=True)\n",
    "\n",
    "    return top_results"
   ]
  },
  {
   "cell_type": "code",
   "execution_count": 6,
   "id": "dd5cb2e0",
   "metadata": {},
   "outputs": [],
   "source": [
    "temp = yearly_outperformers(final_wr, 'Year')\n",
    "top_wrs = temp[temp[\"Year\"].isin([2018, 2019, 2020, 2021, 2022])]"
   ]
  },
  {
   "cell_type": "code",
   "execution_count": 10,
   "id": "8351e380",
   "metadata": {
    "scrolled": true
   },
   "outputs": [],
   "source": [
    "top_wrs.to_csv('C:/Users/kevin/Downloads/Top 5 WRs 2018-2022.csv', index = False)"
   ]
  },
  {
   "cell_type": "code",
   "execution_count": 50,
   "id": "cae2393a",
   "metadata": {},
   "outputs": [],
   "source": [
    "top_wrs = pd.read_csv('C:/Users/kevin/Downloads/Top 5 WRs 2018-2022.csv')"
   ]
  },
  {
   "cell_type": "code",
   "execution_count": 40,
   "id": "b0c21bde",
   "metadata": {},
   "outputs": [],
   "source": [
    "predictors = ['Height', 'Weight', '40 Time', 'Pick', 'Age', 'Teammate Age', 'Teammate G',\n",
    "              'Teammate Tgt', 'Teammate Rec', 'Teammate Yds',\n",
    "       'Teammate Y/R', 'Teammate TD', 'Teammate 1D', 'Teammate Lng',\n",
    "       'Teammate Y/Tgt', 'Teammate R/G', 'Teammate Y/G', 'Teammate Fmb']\n",
    "\n",
    "target = ['FPPG']"
   ]
  },
  {
   "cell_type": "code",
   "execution_count": 41,
   "id": "29e0347c",
   "metadata": {},
   "outputs": [],
   "source": [
    "train = top_wrs[top_wrs[\"Year\"].isin([2018, 2019, 2020, 2021, 2022])]"
   ]
  },
  {
   "cell_type": "code",
   "execution_count": null,
   "id": "37893fbd",
   "metadata": {},
   "outputs": [],
   "source": [
    "silhouette = []\n",
    "\n",
    "for n_clusters in range(2, 20):\n",
    "    kmeans = KMeans(n_clusters=n_clusters, random_state=99)\n",
    "    cluster_labels = kmeans.fit_predict(train[predictors])\n",
    "    \n",
    "    centers = kmeans.cluster_centers_\n",
    "    \n",
    "    score = silhouette_score(train[predictors], cluster_labels)\n",
    "    silhouette.append(score)\n",
    "    print('For n_clusters = {}, silhouette score is {}'.format(n_clusters, score))"
   ]
  },
  {
   "cell_type": "code",
   "execution_count": 43,
   "id": "7e9845d6",
   "metadata": {},
   "outputs": [
    {
     "data": {
      "text/plain": [
       "Text(0.5, 0.98, 'Identifying Optimal Cluster #')"
      ]
     },
     "execution_count": 43,
     "metadata": {},
     "output_type": "execute_result"
    },
    {
     "data": {
      "image/png": "[encoded data removed]",
      "text/plain": [
       "<Figure size 640x480 with 1 Axes>"
      ]
     },
     "metadata": {},
     "output_type": "display_data"
    }
   ],
   "source": [
    "plt.style.use('fivethirtyeight')\n",
    "\n",
    "silhouette_fig, ax = plt.subplots()\n",
    "\n",
    "ax.plot(range(2,20), silhouette)\n",
    "\n",
    "ax.set_xlabel('Number of clusters')\n",
    "ax.set_ylabel('Silhouette score')\n",
    "\n",
    "ax.set_xticks(np.arange(2,21, 3.0))\n",
    "\n",
    "silhouette_fig.suptitle('Identifying Optimal Cluster #', weight = 'bold', size = 18)"
   ]
  },
  {
   "cell_type": "code",
   "execution_count": 48,
   "id": "bec1cd0c",
   "metadata": {},
   "outputs": [
    {
     "name": "stderr",
     "output_type": "stream",
     "text": [
      "C:\\Users\\kevin\\anaconda3\\lib\\site-packages\\sklearn\\cluster\\_kmeans.py:870: FutureWarning: The default value of `n_init` will change from 10 to 'auto' in 1.4. Set the value of `n_init` explicitly to suppress the warning\n",
      "  warnings.warn(\n",
      "C:\\Users\\kevin\\anaconda3\\lib\\site-packages\\sklearn\\cluster\\_kmeans.py:1382: UserWarning: KMeans is known to have a memory leak on Windows with MKL, when there are less chunks than available threads. You can avoid it by setting the environment variable OMP_NUM_THREADS=1.\n",
      "  warnings.warn(\n"
     ]
    }
   ],
   "source": [
    "kmeans = KMeans(n_clusters = 3, random_state = 1)\n",
    "kmeans.fit(train[predictors])\n",
    "\n",
    "y_kmeans = kmeans.predict(train[predictors])"
   ]
  },
  {
   "cell_type": "markdown",
   "id": "18263d44",
   "metadata": {},
   "source": [
    "I am skipping a thorough explanation of the steps for running this cluster analysis because I also ran this in part 2 (running backs)."
   ]
  },
  {
   "cell_type": "code",
   "execution_count": 49,
   "id": "905db5a3",
   "metadata": {},
   "outputs": [
    {
     "data": {
      "text/html": [
       "<div>\n",
       "<style scoped>\n",
       "    .dataframe tbody tr th:only-of-type {\n",
       "        vertical-align: middle;\n",
       "    }\n",
       "\n",
       "    .dataframe tbody tr th {\n",
       "        vertical-align: top;\n",
       "    }\n",
       "\n",
       "    .dataframe thead th {\n",
       "        text-align: right;\n",
       "    }\n",
       "</style>\n",
       "<table border=\"1\" class=\"dataframe\">\n",
       "  <thead>\n",
       "    <tr style=\"text-align: right;\">\n",
       "      <th></th>\n",
       "      <th>Player</th>\n",
       "      <th>Cluster</th>\n",
       "    </tr>\n",
       "  </thead>\n",
       "  <tbody>\n",
       "    <tr>\n",
       "      <th>0</th>\n",
       "      <td>Calvin Ridley</td>\n",
       "      <td>0</td>\n",
       "    </tr>\n",
       "    <tr>\n",
       "      <th>1</th>\n",
       "      <td>Keke Coutee</td>\n",
       "      <td>0</td>\n",
       "    </tr>\n",
       "    <tr>\n",
       "      <th>2</th>\n",
       "      <td>Christian Kirk</td>\n",
       "      <td>0</td>\n",
       "    </tr>\n",
       "    <tr>\n",
       "      <th>22</th>\n",
       "      <td>Jahan Dotson</td>\n",
       "      <td>0</td>\n",
       "    </tr>\n",
       "    <tr>\n",
       "      <th>18</th>\n",
       "      <td>Elijah Moore</td>\n",
       "      <td>0</td>\n",
       "    </tr>\n",
       "    <tr>\n",
       "      <th>8</th>\n",
       "      <td>D.K. Metcalf</td>\n",
       "      <td>0</td>\n",
       "    </tr>\n",
       "    <tr>\n",
       "      <th>15</th>\n",
       "      <td>Ja'Marr Chase</td>\n",
       "      <td>0</td>\n",
       "    </tr>\n",
       "    <tr>\n",
       "      <th>14</th>\n",
       "      <td>Tee Higgins</td>\n",
       "      <td>0</td>\n",
       "    </tr>\n",
       "    <tr>\n",
       "      <th>23</th>\n",
       "      <td>Drake London</td>\n",
       "      <td>0</td>\n",
       "    </tr>\n",
       "    <tr>\n",
       "      <th>13</th>\n",
       "      <td>CeeDee Lamb</td>\n",
       "      <td>0</td>\n",
       "    </tr>\n",
       "    <tr>\n",
       "      <th>21</th>\n",
       "      <td>Garrett Wilson</td>\n",
       "      <td>1</td>\n",
       "    </tr>\n",
       "    <tr>\n",
       "      <th>19</th>\n",
       "      <td>DeVonta Smith</td>\n",
       "      <td>1</td>\n",
       "    </tr>\n",
       "    <tr>\n",
       "      <th>17</th>\n",
       "      <td>Amon-Ra St. Brown</td>\n",
       "      <td>1</td>\n",
       "    </tr>\n",
       "    <tr>\n",
       "      <th>16</th>\n",
       "      <td>Jaylen Waddle</td>\n",
       "      <td>1</td>\n",
       "    </tr>\n",
       "    <tr>\n",
       "      <th>12</th>\n",
       "      <td>Chase Claypool</td>\n",
       "      <td>1</td>\n",
       "    </tr>\n",
       "    <tr>\n",
       "      <th>10</th>\n",
       "      <td>Justin Jefferson</td>\n",
       "      <td>1</td>\n",
       "    </tr>\n",
       "    <tr>\n",
       "      <th>9</th>\n",
       "      <td>Marquise Brown</td>\n",
       "      <td>1</td>\n",
       "    </tr>\n",
       "    <tr>\n",
       "      <th>7</th>\n",
       "      <td>Darius Slayton</td>\n",
       "      <td>1</td>\n",
       "    </tr>\n",
       "    <tr>\n",
       "      <th>4</th>\n",
       "      <td>Dante Pettis</td>\n",
       "      <td>1</td>\n",
       "    </tr>\n",
       "    <tr>\n",
       "      <th>3</th>\n",
       "      <td>D.J. Moore</td>\n",
       "      <td>1</td>\n",
       "    </tr>\n",
       "    <tr>\n",
       "      <th>11</th>\n",
       "      <td>Brandon Aiyuk</td>\n",
       "      <td>1</td>\n",
       "    </tr>\n",
       "    <tr>\n",
       "      <th>24</th>\n",
       "      <td>Christian Watson</td>\n",
       "      <td>1</td>\n",
       "    </tr>\n",
       "    <tr>\n",
       "      <th>6</th>\n",
       "      <td>A.J. Brown</td>\n",
       "      <td>2</td>\n",
       "    </tr>\n",
       "    <tr>\n",
       "      <th>5</th>\n",
       "      <td>Terry McLaurin</td>\n",
       "      <td>2</td>\n",
       "    </tr>\n",
       "    <tr>\n",
       "      <th>20</th>\n",
       "      <td>Chris Olave</td>\n",
       "      <td>2</td>\n",
       "    </tr>\n",
       "  </tbody>\n",
       "</table>\n",
       "</div>"
      ],
      "text/plain": [
       "               Player  Cluster\n",
       "0       Calvin Ridley        0\n",
       "1         Keke Coutee        0\n",
       "2      Christian Kirk        0\n",
       "22       Jahan Dotson        0\n",
       "18       Elijah Moore        0\n",
       "8        D.K. Metcalf        0\n",
       "15      Ja'Marr Chase        0\n",
       "14        Tee Higgins        0\n",
       "23       Drake London        0\n",
       "13        CeeDee Lamb        0\n",
       "21     Garrett Wilson        1\n",
       "19      DeVonta Smith        1\n",
       "17  Amon-Ra St. Brown        1\n",
       "16      Jaylen Waddle        1\n",
       "12     Chase Claypool        1\n",
       "10   Justin Jefferson        1\n",
       "9      Marquise Brown        1\n",
       "7      Darius Slayton        1\n",
       "4        Dante Pettis        1\n",
       "3          D.J. Moore        1\n",
       "11      Brandon Aiyuk        1\n",
       "24   Christian Watson        1\n",
       "6          A.J. Brown        2\n",
       "5      Terry McLaurin        2\n",
       "20        Chris Olave        2"
      ]
     },
     "execution_count": 49,
     "metadata": {},
     "output_type": "execute_result"
    }
   ],
   "source": [
    "df_cluster = pd.DataFrame()\n",
    "\n",
    "df_cluster['Player'] = train['Player']\n",
    "df_cluster['Cluster'] = y_kmeans\n",
    "df_cluster.sort_values(by='Cluster')"
   ]
  },
  {
   "cell_type": "markdown",
   "id": "fd57b5b0",
   "metadata": {},
   "source": [
    "Hard to tell from these clusters specific patterns. Most of these players are first or second round picks. Most of these guys are also known for their big play capability, however that typically goes hand in hand with being a high pick and being successful in the NFL."
   ]
  },
  {
   "cell_type": "code",
   "execution_count": null,
   "id": "0be83e75",
   "metadata": {},
   "outputs": [],
   "source": []
  }
 ],
 "metadata": {
  "kernelspec": {
   "display_name": "Python 3 (ipykernel)",
   "language": "python",
   "name": "python3"
  },
  "language_info": {
   "codemirror_mode": {
    "name": "ipython",
    "version": 3
   },
   "file_extension": ".py",
   "mimetype": "text/x-python",
   "name": "python",
   "nbconvert_exporter": "python",
   "pygments_lexer": "ipython3",
   "version": "3.8.16"
  }
 },
 "nbformat": 4,
 "nbformat_minor": 5
}
